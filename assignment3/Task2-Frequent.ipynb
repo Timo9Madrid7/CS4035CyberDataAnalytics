{
 "cells": [
  {
   "cell_type": "markdown",
   "metadata": {},
   "source": [
    "# CS4035 - Cyber Data Analytics\n",
    "## Lab 3 "
   ]
  },
  {
   "cell_type": "markdown",
   "metadata": {},
   "source": [
    "### Submit on brightspace (zip file with the name Group_xx.zip)\n",
    "(i) This jupyter file completed with code, plots, figures and report for each question. Additional plots and figures can be created for explanation before the end of each main question. Lab 3 contains 7 main questions, including the bonus. Write the code or explanation below each sub question. For the explantions, include what you would normally include in the report for this lab assignment, for example data pre-processing, hypothesis tested, approach, results, etc.\n",
    "(ii) A PDF or a Word report for the assignment. Create a report from the plots, figures, tables and the write-up that you provide in this jupyter file. The report will be used as a proof for page limit. \n",
    "(iii) The libraries needed to run this file. \n",
    "\n",
    "Your peers should be able to use the readme section for instructions and be able to run this file. "
   ]
  },
  {
   "cell_type": "markdown",
   "metadata": {},
   "source": [
    "## Group Number :"
   ]
  },
  {
   "cell_type": "markdown",
   "metadata": {},
   "source": [
    "## Student 1 \n",
    "### Name :\n",
    "### ID :"
   ]
  },
  {
   "cell_type": "markdown",
   "metadata": {},
   "source": [
    "## Student 2\n",
    "### Name :\n",
    "### ID :"
   ]
  },
  {
   "cell_type": "markdown",
   "metadata": {},
   "source": [
    "## Readme - Provide instructions - libraries used, location of the data file, etc. Keep it short. Remember your peers will not debug your code and should be able to reproduce the exact output you provide."
   ]
  },
  {
   "cell_type": "code",
   "execution_count": null,
   "metadata": {},
   "outputs": [],
   "source": []
  },
  {
   "cell_type": "code",
   "execution_count": 1,
   "metadata": {},
   "outputs": [],
   "source": [
    "import numpy as np\n",
    "import pandas as pd\n",
    "\n",
    "import matplotlib.pyplot as plt\n",
    "\n",
    "from jupyterthemes import jtplot\n",
    "jtplot.style('grade3')\n",
    "\n",
    "import warnings\n",
    "warnings.filterwarnings('ignore')"
   ]
  },
  {
   "cell_type": "markdown",
   "metadata": {},
   "source": [
    "## 2. Frequent task – 1/2 A4 (Individual)"
   ]
  },
  {
   "cell_type": "markdown",
   "metadata": {},
   "source": [
    "### 2a. Use the SPACE SAVING algorithm"
   ]
  },
  {
   "cell_type": "code",
   "execution_count": 2,
   "metadata": {},
   "outputs": [],
   "source": [
    "benign_data = pd.read_csv('./dataset/source10_benign.csv', low_memory = False)\n",
    "input_botnet = benign_data['feature'].astype(int).astype(str)\n",
    "botnet_data = pd.read_csv('./dataset/source10_botnet.csv', low_memory = False)\n",
    "input_benign = botnet_data['feature'].astype(int).astype(str)\n",
    "input_botnet = input_botnet.to_list()\n",
    "input_benign = input_benign.to_list()"
   ]
  },
  {
   "cell_type": "code",
   "execution_count": 3,
   "metadata": {},
   "outputs": [],
   "source": [
    "# top k elements for spacesaving\n",
    "def SpaceSavingCounting(input_stream, k):\n",
    "    '''\n",
    "    input_stream: input string data\n",
    "    k: top k frequent elements\n",
    "    Returns a dictionary <char,count>\n",
    "    '''\n",
    "    ss_counters = {}\n",
    "    ngram_input = []\n",
    "    n_gram = 3\n",
    "    counter = 0\n",
    "\n",
    "#     for i in data:\n",
    "#         input_stream += str(data)\n",
    "    for i in range(0, len(input_stream) - n_gram + 1):\n",
    "        ngram_input.append(\"\".join(input_stream[i:i + n_gram]))\n",
    "#     print(ngram_input)\n",
    "    for char in ngram_input:\n",
    "        if char in ss_counters:\n",
    "            # element existed: increment the counter by 1 if this element exists\n",
    "            ss_counters[char] += 1\n",
    "        else:\n",
    "            if len(ss_counters) + 1 > k:  # the counter overflow\n",
    "                # get the counter with least number\n",
    "                min_counter = min(ss_counters, key=ss_counters.get)\n",
    "                # increase on the original number\n",
    "                ss_counters[char] = ss_counters.pop(min_counter) + 1\n",
    "            else:\n",
    "                ss_counters[char] = 1  # new element\n",
    "                # Sort the frequency in descending order\n",
    "    ss_sorted_counters = {k: v for k, v in sorted(\n",
    "        ss_counters.items(), key=lambda item: item[1], reverse=True)}\n",
    "    return ss_sorted_counters"
   ]
  },
  {
   "cell_type": "code",
   "execution_count": 4,
   "metadata": {},
   "outputs": [],
   "source": [
    "# actual dictionary\n",
    "def ActualCounting(input_stream,knum):\n",
    "    '''\n",
    "    input_stream: input string data\n",
    "    Returns a dictionary <char,count>\n",
    "    k:top k elements\n",
    "    '''\n",
    "    n_gram = 3\n",
    "    ngram_input = []\n",
    "    top_elements = {}\n",
    "    counter = 0\n",
    "#     for i in data:\n",
    "#         input_stream += str(data)\n",
    "\n",
    "    for i in range(0, len(input_stream) - n_gram + 1):\n",
    "        ngram_input.append(\"\".join(input_stream[i:i + n_gram]))\n",
    "\n",
    "    actual_counters = {}\n",
    "\n",
    "    for char in ngram_input:\n",
    "        if char in actual_counters:\n",
    "            actual_counters[char] += 1\n",
    "        else:\n",
    "            actual_counters[char] = 1\n",
    "\n",
    "    # Sort the frequency in descending order\n",
    "    sorted_counter = {k: v for k, v in sorted(\n",
    "        actual_counters.items(), key=lambda item: item[1], reverse=True)}\n",
    "    for k, v in sorted_counter.items():\n",
    "        if counter < knum:\n",
    "            top_elements[k] = v\n",
    "        counter += 1\n",
    "    return top_elements"
   ]
  },
  {
   "cell_type": "code",
   "execution_count": 5,
   "metadata": {},
   "outputs": [
    {
     "data": {
      "text/html": [
       "<div>\n",
       "<style scoped>\n",
       "    .dataframe tbody tr th:only-of-type {\n",
       "        vertical-align: middle;\n",
       "    }\n",
       "\n",
       "    .dataframe tbody tr th {\n",
       "        vertical-align: top;\n",
       "    }\n",
       "\n",
       "    .dataframe thead th {\n",
       "        text-align: right;\n",
       "    }\n",
       "</style>\n",
       "<table border=\"1\" class=\"dataframe\">\n",
       "  <thead>\n",
       "    <tr style=\"text-align: right;\">\n",
       "      <th></th>\n",
       "      <th>Spacesaving_top10_3grams</th>\n",
       "      <th>Spacesaving_amount</th>\n",
       "      <th>Actual_top10_3grams</th>\n",
       "      <th>Actual_amount</th>\n",
       "    </tr>\n",
       "  </thead>\n",
       "  <tbody>\n",
       "    <tr>\n",
       "      <th>0</th>\n",
       "      <td>000</td>\n",
       "      <td>96123</td>\n",
       "      <td>000</td>\n",
       "      <td>96117</td>\n",
       "    </tr>\n",
       "    <tr>\n",
       "      <th>1</th>\n",
       "      <td>222</td>\n",
       "      <td>9751</td>\n",
       "      <td>222</td>\n",
       "      <td>9750</td>\n",
       "    </tr>\n",
       "    <tr>\n",
       "      <th>2</th>\n",
       "      <td>002</td>\n",
       "      <td>61</td>\n",
       "      <td>121</td>\n",
       "      <td>58</td>\n",
       "    </tr>\n",
       "    <tr>\n",
       "      <th>3</th>\n",
       "      <td>020</td>\n",
       "      <td>61</td>\n",
       "      <td>111</td>\n",
       "      <td>49</td>\n",
       "    </tr>\n",
       "    <tr>\n",
       "      <th>4</th>\n",
       "      <td>200</td>\n",
       "      <td>61</td>\n",
       "      <td>112</td>\n",
       "      <td>48</td>\n",
       "    </tr>\n",
       "    <tr>\n",
       "      <th>5</th>\n",
       "      <td>100</td>\n",
       "      <td>60</td>\n",
       "      <td>211</td>\n",
       "      <td>45</td>\n",
       "    </tr>\n",
       "    <tr>\n",
       "      <th>6</th>\n",
       "      <td>001</td>\n",
       "      <td>59</td>\n",
       "      <td>220</td>\n",
       "      <td>40</td>\n",
       "    </tr>\n",
       "    <tr>\n",
       "      <th>7</th>\n",
       "      <td>010</td>\n",
       "      <td>59</td>\n",
       "      <td>022</td>\n",
       "      <td>38</td>\n",
       "    </tr>\n",
       "    <tr>\n",
       "      <th>8</th>\n",
       "      <td>121</td>\n",
       "      <td>58</td>\n",
       "      <td>200</td>\n",
       "      <td>37</td>\n",
       "    </tr>\n",
       "    <tr>\n",
       "      <th>9</th>\n",
       "      <td>211</td>\n",
       "      <td>57</td>\n",
       "      <td>202</td>\n",
       "      <td>35</td>\n",
       "    </tr>\n",
       "  </tbody>\n",
       "</table>\n",
       "</div>"
      ],
      "text/plain": [
       "  Spacesaving_top10_3grams  Spacesaving_amount Actual_top10_3grams  \\\n",
       "0                      000               96123                 000   \n",
       "1                      222                9751                 222   \n",
       "2                      002                  61                 121   \n",
       "3                      020                  61                 111   \n",
       "4                      200                  61                 112   \n",
       "5                      100                  60                 211   \n",
       "6                      001                  59                 220   \n",
       "7                      010                  59                 022   \n",
       "8                      121                  58                 200   \n",
       "9                      211                  57                 202   \n",
       "\n",
       "   Actual_amount  \n",
       "0          96117  \n",
       "1           9750  \n",
       "2             58  \n",
       "3             49  \n",
       "4             48  \n",
       "5             45  \n",
       "6             40  \n",
       "7             38  \n",
       "8             37  \n",
       "9             35  "
      ]
     },
     "execution_count": 5,
     "metadata": {},
     "output_type": "execute_result"
    }
   ],
   "source": [
    "# 10 most frequent 3-grams in benign\n",
    "df_benignfreq = pd.DataFrame()\n",
    "benign_10_ss = SpaceSavingCounting(input_benign,10)\n",
    "benign_10_acutal = ActualCounting(input_benign,10)\n",
    "df_benignfreq['Spacesaving_top10_3grams'] = benign_10_ss.keys()\n",
    "df_benignfreq['Spacesaving_amount'] = benign_10_ss.values()\n",
    "df_benignfreq['Actual_top10_3grams'] = benign_10_acutal.keys()\n",
    "df_benignfreq['Actual_amount'] = benign_10_acutal.values()\n",
    "df_benignfreq.head(10)\n"
   ]
  },
  {
   "cell_type": "code",
   "execution_count": 6,
   "metadata": {},
   "outputs": [
    {
     "name": "stdout",
     "output_type": "stream",
     "text": [
      "The approximation of 000 is: 1.0000624239208464\n",
      "The approximation of 222 is: 1.000102564102564\n",
      "The approximation of 200 is: 1.6486486486486487\n",
      "The approximation of 121 is: 1.0\n",
      "The approximation of 211 is: 1.2666666666666666\n",
      "Benign Data set: The total same keys in SpaceSaving and Actual is 5\n"
     ]
    }
   ],
   "source": [
    "same_key = 0\n",
    "for k in benign_10_ss.keys():\n",
    "    if k in benign_10_acutal.keys():\n",
    "        same_key += 1\n",
    "        print(\"The approximation of \"+ str(k) + \" is: \" + str(float(benign_10_ss[k]/benign_10_acutal[k])))\n",
    "print(\"Benign Data set: The total same keys in SpaceSaving and Actual is \" + str(same_key))"
   ]
  },
  {
   "cell_type": "code",
   "execution_count": 7,
   "metadata": {},
   "outputs": [
    {
     "data": {
      "text/html": [
       "<div>\n",
       "<style scoped>\n",
       "    .dataframe tbody tr th:only-of-type {\n",
       "        vertical-align: middle;\n",
       "    }\n",
       "\n",
       "    .dataframe tbody tr th {\n",
       "        vertical-align: top;\n",
       "    }\n",
       "\n",
       "    .dataframe thead th {\n",
       "        text-align: right;\n",
       "    }\n",
       "</style>\n",
       "<table border=\"1\" class=\"dataframe\">\n",
       "  <thead>\n",
       "    <tr style=\"text-align: right;\">\n",
       "      <th></th>\n",
       "      <th>Spacesaving_top10_3grams</th>\n",
       "      <th>Spacesaving_amount</th>\n",
       "      <th>Actual_top10_3grams</th>\n",
       "      <th>Actual_amount</th>\n",
       "    </tr>\n",
       "  </thead>\n",
       "  <tbody>\n",
       "    <tr>\n",
       "      <th>0</th>\n",
       "      <td>111</td>\n",
       "      <td>9276</td>\n",
       "      <td>111</td>\n",
       "      <td>9276</td>\n",
       "    </tr>\n",
       "    <tr>\n",
       "      <th>1</th>\n",
       "      <td>211</td>\n",
       "      <td>886</td>\n",
       "      <td>211</td>\n",
       "      <td>886</td>\n",
       "    </tr>\n",
       "    <tr>\n",
       "      <th>2</th>\n",
       "      <td>112</td>\n",
       "      <td>883</td>\n",
       "      <td>112</td>\n",
       "      <td>883</td>\n",
       "    </tr>\n",
       "    <tr>\n",
       "      <th>3</th>\n",
       "      <td>000</td>\n",
       "      <td>835</td>\n",
       "      <td>222</td>\n",
       "      <td>825</td>\n",
       "    </tr>\n",
       "    <tr>\n",
       "      <th>4</th>\n",
       "      <td>222</td>\n",
       "      <td>825</td>\n",
       "      <td>000</td>\n",
       "      <td>714</td>\n",
       "    </tr>\n",
       "    <tr>\n",
       "      <th>5</th>\n",
       "      <td>121</td>\n",
       "      <td>695</td>\n",
       "      <td>121</td>\n",
       "      <td>695</td>\n",
       "    </tr>\n",
       "    <tr>\n",
       "      <th>6</th>\n",
       "      <td>101</td>\n",
       "      <td>613</td>\n",
       "      <td>110</td>\n",
       "      <td>371</td>\n",
       "    </tr>\n",
       "    <tr>\n",
       "      <th>7</th>\n",
       "      <td>110</td>\n",
       "      <td>612</td>\n",
       "      <td>011</td>\n",
       "      <td>369</td>\n",
       "    </tr>\n",
       "    <tr>\n",
       "      <th>8</th>\n",
       "      <td>011</td>\n",
       "      <td>612</td>\n",
       "      <td>122</td>\n",
       "      <td>316</td>\n",
       "    </tr>\n",
       "    <tr>\n",
       "      <th>9</th>\n",
       "      <td>221</td>\n",
       "      <td>608</td>\n",
       "      <td>221</td>\n",
       "      <td>309</td>\n",
       "    </tr>\n",
       "  </tbody>\n",
       "</table>\n",
       "</div>"
      ],
      "text/plain": [
       "  Spacesaving_top10_3grams  Spacesaving_amount Actual_top10_3grams  \\\n",
       "0                      111                9276                 111   \n",
       "1                      211                 886                 211   \n",
       "2                      112                 883                 112   \n",
       "3                      000                 835                 222   \n",
       "4                      222                 825                 000   \n",
       "5                      121                 695                 121   \n",
       "6                      101                 613                 110   \n",
       "7                      110                 612                 011   \n",
       "8                      011                 612                 122   \n",
       "9                      221                 608                 221   \n",
       "\n",
       "   Actual_amount  \n",
       "0           9276  \n",
       "1            886  \n",
       "2            883  \n",
       "3            825  \n",
       "4            714  \n",
       "5            695  \n",
       "6            371  \n",
       "7            369  \n",
       "8            316  \n",
       "9            309  "
      ]
     },
     "execution_count": 7,
     "metadata": {},
     "output_type": "execute_result"
    }
   ],
   "source": [
    "# 10 most frequent 3-grams in botnet\n",
    "df_botnetfreq = pd.DataFrame()\n",
    "botnet_10_ss = SpaceSavingCounting(input_botnet,10)\n",
    "botnet_10_acutal = ActualCounting(input_botnet,10)\n",
    "df_botnetfreq['Spacesaving_top10_3grams'] = botnet_10_ss.keys()\n",
    "df_botnetfreq['Spacesaving_amount'] = botnet_10_ss.values()\n",
    "df_botnetfreq['Actual_top10_3grams'] = botnet_10_acutal.keys()\n",
    "df_botnetfreq['Actual_amount'] = botnet_10_acutal.values()\n",
    "df_botnetfreq.head(10)\n"
   ]
  },
  {
   "cell_type": "code",
   "execution_count": 8,
   "metadata": {},
   "outputs": [
    {
     "name": "stdout",
     "output_type": "stream",
     "text": [
      "The approximation of 111 is: 1.0\n",
      "The approximation of 211 is: 1.0\n",
      "The approximation of 112 is: 1.0\n",
      "The approximation of 000 is: 1.169467787114846\n",
      "The approximation of 222 is: 1.0\n",
      "The approximation of 121 is: 1.0\n",
      "The approximation of 110 is: 1.6495956873315365\n",
      "The approximation of 011 is: 1.6585365853658536\n",
      "The approximation of 221 is: 1.9676375404530744\n",
      "Botnet data set: The total same keys in SpaceSaving and Actual is 9\n"
     ]
    }
   ],
   "source": [
    "botnetsame_key = 0\n",
    "for k in botnet_10_ss.keys():\n",
    "    if k in botnet_10_acutal.keys():\n",
    "        botnetsame_key += 1\n",
    "        print(\"The approximation of \"+ str(k) + \" is: \" + str(float(botnet_10_ss[k]/botnet_10_acutal[k])))\n",
    "print(\"Botnet data set: The total same keys in SpaceSaving and Actual is \" + str(botnetsame_key))"
   ]
  },
  {
   "cell_type": "markdown",
   "metadata": {},
   "source": [
    "### 2b. Analysis and answers to the questions"
   ]
  },
  {
   "cell_type": "code",
   "execution_count": null,
   "metadata": {},
   "outputs": [],
   "source": []
  },
  {
   "cell_type": "code",
   "execution_count": null,
   "metadata": {},
   "outputs": [],
   "source": []
  }
 ],
 "metadata": {
  "kernelspec": {
   "display_name": "Python 3",
   "language": "python",
   "name": "python3"
  },
  "language_info": {
   "codemirror_mode": {
    "name": "ipython",
    "version": 3
   },
   "file_extension": ".py",
   "mimetype": "text/x-python",
   "name": "python",
   "nbconvert_exporter": "python",
   "pygments_lexer": "ipython3",
   "version": "3.8.3"
  },
  "toc": {
   "base_numbering": 1,
   "nav_menu": {},
   "number_sections": true,
   "sideBar": true,
   "skip_h1_title": false,
   "title_cell": "Table of Contents",
   "title_sidebar": "Contents",
   "toc_cell": false,
   "toc_position": {},
   "toc_section_display": true,
   "toc_window_display": false
  },
  "varInspector": {
   "cols": {
    "lenName": 16,
    "lenType": 16,
    "lenVar": 40
   },
   "kernels_config": {
    "python": {
     "delete_cmd_postfix": "",
     "delete_cmd_prefix": "del ",
     "library": "var_list.py",
     "varRefreshCmd": "print(var_dic_list())"
    },
    "r": {
     "delete_cmd_postfix": ") ",
     "delete_cmd_prefix": "rm(",
     "library": "var_list.r",
     "varRefreshCmd": "cat(var_dic_list()) "
    }
   },
   "position": {
    "height": "353px",
    "left": "1046px",
    "right": "20px",
    "top": "120px",
    "width": "350px"
   },
   "types_to_exclude": [
    "module",
    "function",
    "builtin_function_or_method",
    "instance",
    "_Feature"
   ],
   "window_display": false
  }
 },
 "nbformat": 4,
 "nbformat_minor": 2
}
