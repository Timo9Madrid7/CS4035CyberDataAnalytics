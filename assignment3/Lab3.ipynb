{
 "cells": [
  {
   "cell_type": "markdown",
   "metadata": {},
   "source": [
    "# CS4035 - Cyber Data Analytics\n",
    "## Lab 3 "
   ]
  },
  {
   "cell_type": "markdown",
   "metadata": {},
   "source": [
    "### Submit on brightspace (zip file with the name Group_xx.zip)\n",
    "(i) This jupyter file completed with code, plots, figures and report for each question. Additional plots and figures can be created for explanation before the end of each main question. Lab 3 contains 7 main questions, including the bonus. Write the code or explanation below each sub question. For the explantions, include what you would normally include in the report for this lab assignment, for example data pre-processing, hypothesis tested, approach, results, etc.\n",
    "(ii) A PDF or a Word report for the assignment. Create a report from the plots, figures, tables and the write-up that you provide in this jupyter file. The report will be used as a proof for page limit. \n",
    "(iii) The libraries needed to run this file. \n",
    "\n",
    "Your peers should be able to use the readme section for instructions and be able to run this file. "
   ]
  },
  {
   "cell_type": "markdown",
   "metadata": {},
   "source": [
    "## Group Number :"
   ]
  },
  {
   "cell_type": "markdown",
   "metadata": {},
   "source": [
    "## Student 1 \n",
    "### Name :\n",
    "### ID :"
   ]
  },
  {
   "cell_type": "markdown",
   "metadata": {},
   "source": [
    "## Student 2\n",
    "### Name :\n",
    "### ID :"
   ]
  },
  {
   "cell_type": "markdown",
   "metadata": {},
   "source": [
    "## Readme - Provide instructions - libraries used, location of the data file, etc. Keep it short. Remember your peers will not debug your code and should be able to reproduce the exact output you provide."
   ]
  },
  {
   "cell_type": "code",
   "execution_count": null,
   "metadata": {},
   "outputs": [],
   "source": []
  },
  {
   "cell_type": "code",
   "execution_count": 1,
   "metadata": {},
   "outputs": [],
   "source": [
    "import numpy as np\n",
    "import pandas as pd\n",
    "\n",
    "import matplotlib.pyplot as plt\n",
    "\n",
    "from jupyterthemes import jtplot\n",
    "jtplot.style('grade3')\n",
    "\n",
    "import warnings\n",
    "warnings.filterwarnings('ignore')"
   ]
  },
  {
   "cell_type": "markdown",
   "metadata": {},
   "source": [
    "## 1. Familiarization and discretization task – 1 A4"
   ]
  },
  {
   "cell_type": "markdown",
   "metadata": {},
   "source": [
    "### 1a. Plot visualizations - Select and visualize two features for modeling the behavior of the infected host."
   ]
  },
  {
   "cell_type": "markdown",
   "metadata": {},
   "source": [
    "#### Load Data"
   ]
  },
  {
   "cell_type": "code",
   "execution_count": 2,
   "metadata": {},
   "outputs": [
    {
     "data": {
      "text/html": [
       "<div>\n",
       "<style scoped>\n",
       "    .dataframe tbody tr th:only-of-type {\n",
       "        vertical-align: middle;\n",
       "    }\n",
       "\n",
       "    .dataframe tbody tr th {\n",
       "        vertical-align: top;\n",
       "    }\n",
       "\n",
       "    .dataframe thead th {\n",
       "        text-align: right;\n",
       "    }\n",
       "</style>\n",
       "<table border=\"1\" class=\"dataframe\">\n",
       "  <thead>\n",
       "    <tr style=\"text-align: right;\">\n",
       "      <th></th>\n",
       "      <th>StartTime</th>\n",
       "      <th>Dur</th>\n",
       "      <th>Proto</th>\n",
       "      <th>SrcAddr</th>\n",
       "      <th>Sport</th>\n",
       "      <th>Dir</th>\n",
       "      <th>DstAddr</th>\n",
       "      <th>Dport</th>\n",
       "      <th>State</th>\n",
       "      <th>sTos</th>\n",
       "      <th>dTos</th>\n",
       "      <th>TotPkts</th>\n",
       "      <th>TotBytes</th>\n",
       "      <th>SrcBytes</th>\n",
       "      <th>Label</th>\n",
       "    </tr>\n",
       "  </thead>\n",
       "  <tbody>\n",
       "    <tr>\n",
       "      <th>0</th>\n",
       "      <td>2011/08/18 09:56:29.146156</td>\n",
       "      <td>2752.656250</td>\n",
       "      <td>udp</td>\n",
       "      <td>71.222.124.71</td>\n",
       "      <td>60621</td>\n",
       "      <td>&lt;-&gt;</td>\n",
       "      <td>147.32.84.59</td>\n",
       "      <td>63550</td>\n",
       "      <td>CON</td>\n",
       "      <td>0.0</td>\n",
       "      <td>0.0</td>\n",
       "      <td>3</td>\n",
       "      <td>435</td>\n",
       "      <td>290</td>\n",
       "      <td>flow=Background-Established-cmpgw-CVUT</td>\n",
       "    </tr>\n",
       "    <tr>\n",
       "      <th>1</th>\n",
       "      <td>2011/08/18 09:56:42.630892</td>\n",
       "      <td>1849.315552</td>\n",
       "      <td>udp</td>\n",
       "      <td>78.234.54.245</td>\n",
       "      <td>51413</td>\n",
       "      <td>&lt;-&gt;</td>\n",
       "      <td>147.32.84.59</td>\n",
       "      <td>63550</td>\n",
       "      <td>CON</td>\n",
       "      <td>0.0</td>\n",
       "      <td>0.0</td>\n",
       "      <td>3</td>\n",
       "      <td>417</td>\n",
       "      <td>272</td>\n",
       "      <td>flow=Background-Established-cmpgw-CVUT</td>\n",
       "    </tr>\n",
       "    <tr>\n",
       "      <th>2</th>\n",
       "      <td>2011/08/18 09:56:44.640650</td>\n",
       "      <td>2091.747314</td>\n",
       "      <td>udp</td>\n",
       "      <td>31.147.120.139</td>\n",
       "      <td>63195</td>\n",
       "      <td>&lt;-&gt;</td>\n",
       "      <td>147.32.84.59</td>\n",
       "      <td>63550</td>\n",
       "      <td>CON</td>\n",
       "      <td>0.0</td>\n",
       "      <td>0.0</td>\n",
       "      <td>2</td>\n",
       "      <td>290</td>\n",
       "      <td>145</td>\n",
       "      <td>flow=Background-Established-cmpgw-CVUT</td>\n",
       "    </tr>\n",
       "    <tr>\n",
       "      <th>3</th>\n",
       "      <td>2011/08/18 10:10:52.782230</td>\n",
       "      <td>1535.769409</td>\n",
       "      <td>udp</td>\n",
       "      <td>118.5.35.64</td>\n",
       "      <td>39110</td>\n",
       "      <td>&lt;-&gt;</td>\n",
       "      <td>147.32.84.59</td>\n",
       "      <td>63550</td>\n",
       "      <td>CON</td>\n",
       "      <td>0.0</td>\n",
       "      <td>0.0</td>\n",
       "      <td>2</td>\n",
       "      <td>290</td>\n",
       "      <td>145</td>\n",
       "      <td>flow=Background-Established-cmpgw-CVUT</td>\n",
       "    </tr>\n",
       "    <tr>\n",
       "      <th>4</th>\n",
       "      <td>2011/08/18 10:19:13.328372</td>\n",
       "      <td>0.002636</td>\n",
       "      <td>tcp</td>\n",
       "      <td>147.32.86.166</td>\n",
       "      <td>33426</td>\n",
       "      <td>&lt;?&gt;</td>\n",
       "      <td>212.24.150.110</td>\n",
       "      <td>25443</td>\n",
       "      <td>FRPA_FPA</td>\n",
       "      <td>0.0</td>\n",
       "      <td>0.0</td>\n",
       "      <td>6</td>\n",
       "      <td>490</td>\n",
       "      <td>321</td>\n",
       "      <td>flow=Background</td>\n",
       "    </tr>\n",
       "  </tbody>\n",
       "</table>\n",
       "</div>"
      ],
      "text/plain": [
       "                    StartTime          Dur Proto         SrcAddr  Sport  \\\n",
       "0  2011/08/18 09:56:29.146156  2752.656250   udp   71.222.124.71  60621   \n",
       "1  2011/08/18 09:56:42.630892  1849.315552   udp   78.234.54.245  51413   \n",
       "2  2011/08/18 09:56:44.640650  2091.747314   udp  31.147.120.139  63195   \n",
       "3  2011/08/18 10:10:52.782230  1535.769409   udp     118.5.35.64  39110   \n",
       "4  2011/08/18 10:19:13.328372     0.002636   tcp   147.32.86.166  33426   \n",
       "\n",
       "     Dir         DstAddr  Dport     State  sTos  dTos  TotPkts  TotBytes  \\\n",
       "0    <->    147.32.84.59  63550       CON   0.0   0.0        3       435   \n",
       "1    <->    147.32.84.59  63550       CON   0.0   0.0        3       417   \n",
       "2    <->    147.32.84.59  63550       CON   0.0   0.0        2       290   \n",
       "3    <->    147.32.84.59  63550       CON   0.0   0.0        2       290   \n",
       "4    <?>  212.24.150.110  25443  FRPA_FPA   0.0   0.0        6       490   \n",
       "\n",
       "   SrcBytes                                   Label  \n",
       "0       290  flow=Background-Established-cmpgw-CVUT  \n",
       "1       272  flow=Background-Established-cmpgw-CVUT  \n",
       "2       145  flow=Background-Established-cmpgw-CVUT  \n",
       "3       145  flow=Background-Established-cmpgw-CVUT  \n",
       "4       321                         flow=Background  "
      ]
     },
     "execution_count": 2,
     "metadata": {},
     "output_type": "execute_result"
    }
   ],
   "source": [
    "# load data and print the first serveral\n",
    "rawdata = pd.read_csv('./dataset/capture20110818.binetflow.txt')\n",
    "rawdata.head()"
   ]
  },
  {
   "cell_type": "code",
   "execution_count": 3,
   "metadata": {},
   "outputs": [
    {
     "name": "stdout",
     "output_type": "stream",
     "text": [
      "data shape: (1309791, 15)\n"
     ]
    }
   ],
   "source": [
    "print(\"data shape:\", rawdata.shape)"
   ]
  },
  {
   "cell_type": "markdown",
   "metadata": {},
   "source": [
    "#### Background Flows Removed "
   ]
  },
  {
   "cell_type": "code",
   "execution_count": 4,
   "metadata": {},
   "outputs": [
    {
     "data": {
      "text/html": [
       "<div>\n",
       "<style scoped>\n",
       "    .dataframe tbody tr th:only-of-type {\n",
       "        vertical-align: middle;\n",
       "    }\n",
       "\n",
       "    .dataframe tbody tr th {\n",
       "        vertical-align: top;\n",
       "    }\n",
       "\n",
       "    .dataframe thead th {\n",
       "        text-align: right;\n",
       "    }\n",
       "</style>\n",
       "<table border=\"1\" class=\"dataframe\">\n",
       "  <thead>\n",
       "    <tr style=\"text-align: right;\">\n",
       "      <th></th>\n",
       "      <th>StartTime</th>\n",
       "      <th>Dur</th>\n",
       "      <th>Proto</th>\n",
       "      <th>SrcAddr</th>\n",
       "      <th>Sport</th>\n",
       "      <th>Dir</th>\n",
       "      <th>DstAddr</th>\n",
       "      <th>Dport</th>\n",
       "      <th>State</th>\n",
       "      <th>sTos</th>\n",
       "      <th>dTos</th>\n",
       "      <th>TotPkts</th>\n",
       "      <th>TotBytes</th>\n",
       "      <th>SrcBytes</th>\n",
       "      <th>Label</th>\n",
       "    </tr>\n",
       "  </thead>\n",
       "  <tbody>\n",
       "    <tr>\n",
       "      <th>407</th>\n",
       "      <td>2011/08/18 10:19:15.693956</td>\n",
       "      <td>3587.569824</td>\n",
       "      <td>tcp</td>\n",
       "      <td>147.32.84.164</td>\n",
       "      <td>54784</td>\n",
       "      <td>&lt;?&gt;</td>\n",
       "      <td>74.125.232.215</td>\n",
       "      <td>443</td>\n",
       "      <td>PA_PA</td>\n",
       "      <td>0.0</td>\n",
       "      <td>0.0</td>\n",
       "      <td>3049</td>\n",
       "      <td>978731</td>\n",
       "      <td>245317</td>\n",
       "      <td>flow=From-Normal-V51-Grill</td>\n",
       "    </tr>\n",
       "    <tr>\n",
       "      <th>697</th>\n",
       "      <td>2011/08/18 10:19:18.143576</td>\n",
       "      <td>198.072739</td>\n",
       "      <td>tcp</td>\n",
       "      <td>147.32.84.164</td>\n",
       "      <td>56165</td>\n",
       "      <td>&lt;?&gt;</td>\n",
       "      <td>74.125.232.197</td>\n",
       "      <td>80</td>\n",
       "      <td>FA_FA</td>\n",
       "      <td>0.0</td>\n",
       "      <td>0.0</td>\n",
       "      <td>14</td>\n",
       "      <td>924</td>\n",
       "      <td>462</td>\n",
       "      <td>flow=From-Normal-V51-Grill</td>\n",
       "    </tr>\n",
       "    <tr>\n",
       "      <th>717</th>\n",
       "      <td>2011/08/18 10:19:18.303590</td>\n",
       "      <td>197.928329</td>\n",
       "      <td>tcp</td>\n",
       "      <td>147.32.84.164</td>\n",
       "      <td>57965</td>\n",
       "      <td>&lt;?&gt;</td>\n",
       "      <td>209.85.149.138</td>\n",
       "      <td>80</td>\n",
       "      <td>FA_FA</td>\n",
       "      <td>0.0</td>\n",
       "      <td>0.0</td>\n",
       "      <td>14</td>\n",
       "      <td>924</td>\n",
       "      <td>462</td>\n",
       "      <td>flow=From-Normal-V51-Grill</td>\n",
       "    </tr>\n",
       "    <tr>\n",
       "      <th>896</th>\n",
       "      <td>2011/08/18 10:19:19.838272</td>\n",
       "      <td>0.000399</td>\n",
       "      <td>udp</td>\n",
       "      <td>147.32.84.170</td>\n",
       "      <td>45807</td>\n",
       "      <td>&lt;-&gt;</td>\n",
       "      <td>147.32.80.9</td>\n",
       "      <td>53</td>\n",
       "      <td>CON</td>\n",
       "      <td>0.0</td>\n",
       "      <td>0.0</td>\n",
       "      <td>2</td>\n",
       "      <td>400</td>\n",
       "      <td>74</td>\n",
       "      <td>flow=From-Normal-V51-Stribrek</td>\n",
       "    </tr>\n",
       "    <tr>\n",
       "      <th>897</th>\n",
       "      <td>2011/08/18 10:19:19.839123</td>\n",
       "      <td>0.000400</td>\n",
       "      <td>udp</td>\n",
       "      <td>147.32.84.170</td>\n",
       "      <td>35380</td>\n",
       "      <td>&lt;-&gt;</td>\n",
       "      <td>147.32.80.9</td>\n",
       "      <td>53</td>\n",
       "      <td>CON</td>\n",
       "      <td>0.0</td>\n",
       "      <td>0.0</td>\n",
       "      <td>2</td>\n",
       "      <td>400</td>\n",
       "      <td>74</td>\n",
       "      <td>flow=From-Normal-V51-Stribrek</td>\n",
       "    </tr>\n",
       "  </tbody>\n",
       "</table>\n",
       "</div>"
      ],
      "text/plain": [
       "                      StartTime          Dur Proto        SrcAddr  Sport  \\\n",
       "407  2011/08/18 10:19:15.693956  3587.569824   tcp  147.32.84.164  54784   \n",
       "697  2011/08/18 10:19:18.143576   198.072739   tcp  147.32.84.164  56165   \n",
       "717  2011/08/18 10:19:18.303590   197.928329   tcp  147.32.84.164  57965   \n",
       "896  2011/08/18 10:19:19.838272     0.000399   udp  147.32.84.170  45807   \n",
       "897  2011/08/18 10:19:19.839123     0.000400   udp  147.32.84.170  35380   \n",
       "\n",
       "       Dir         DstAddr Dport  State  sTos  dTos  TotPkts  TotBytes  \\\n",
       "407    <?>  74.125.232.215   443  PA_PA   0.0   0.0     3049    978731   \n",
       "697    <?>  74.125.232.197    80  FA_FA   0.0   0.0       14       924   \n",
       "717    <?>  209.85.149.138    80  FA_FA   0.0   0.0       14       924   \n",
       "896    <->     147.32.80.9    53    CON   0.0   0.0        2       400   \n",
       "897    <->     147.32.80.9    53    CON   0.0   0.0        2       400   \n",
       "\n",
       "     SrcBytes                          Label  \n",
       "407    245317     flow=From-Normal-V51-Grill  \n",
       "697       462     flow=From-Normal-V51-Grill  \n",
       "717       462     flow=From-Normal-V51-Grill  \n",
       "896        74  flow=From-Normal-V51-Stribrek  \n",
       "897        74  flow=From-Normal-V51-Stribrek  "
      ]
     },
     "execution_count": 4,
     "metadata": {},
     "output_type": "execute_result"
    }
   ],
   "source": [
    "# remove background flows\n",
    "source10 = rawdata[~rawdata.Label.str.contains(\"Background\")]\n",
    "source10.head()"
   ]
  },
  {
   "cell_type": "code",
   "execution_count": 5,
   "metadata": {},
   "outputs": [
    {
     "name": "stdout",
     "output_type": "stream",
     "text": [
      "data shape: (122199, 15)\n"
     ]
    }
   ],
   "source": [
    "print(\"data shape:\", source10.shape)"
   ]
  },
  {
   "cell_type": "markdown",
   "metadata": {},
   "source": [
    "### 1b. Discretize selected features"
   ]
  },
  {
   "cell_type": "markdown",
   "metadata": {},
   "source": [
    "Windows XP Name: SARUMAN,  IP: 147.32.84.165 (Label: Botnet)\n",
    "\n",
    "Windows XP Name: SARUMAN1, IP: 147.32.84.191 (Label: Botnet)\n",
    "\n",
    "Windows XP Name: SARUMAN2, IP: 147.32.84.192 (Label: Botnet)\n",
    "\n",
    "Windows XP Name: SARUMAN3, IP: 147.32.84.193 (Label: Botnet)\n",
    "\n",
    "Windows XP Name: SARUMAN4, IP: 147.32.84.204 (Label: Botnet)\n",
    "\n",
    "Windows XP Name: SARUMAN5, IP: 147.32.84.205 (Label: Botnet)\n",
    "\n",
    "Windows XP Name: SARUMAN6, IP: 147.32.84.206 (Label: Botnet)\n",
    "\n",
    "Windows XP Name: SARUMAN7, IP: 147.32.84.207 (Label: Botnet)\n",
    "\n",
    "Windows XP Name: SARUMAN8, IP: 147.32.84.208 (Label: Botnet)\n",
    "\n",
    "Windows XP Name: SARUMAN9, IP: 147.32.84.209 (Label: Botnet)\n"
   ]
  },
  {
   "cell_type": "code",
   "execution_count": 6,
   "metadata": {},
   "outputs": [
    {
     "name": "stdout",
     "output_type": "stream",
     "text": [
      "Infected Flows Number: 106352\n",
      "Non-infected Flows Number: 15847\n"
     ]
    }
   ],
   "source": [
    "# add label to the last column\n",
    "Botnet = [\"147.32.84.165\",\"147.32.84.191\",\"147.32.84.192\",\"147.32.84.193\",\"147.32.84.204\",\"147.32.84.205\",\"147.32.84.206\",\"147.32.84.207\",\"147.32.84.208\",\"147.32.84.209\"]\n",
    "source10['Botnet'] = source10['SrcAddr'].isin(Botnet)\n",
    "\n",
    "source10_botnet = source10[source10['Botnet'] == 1]\n",
    "source10_benign = source10[source10['Botnet'] != 1]\n",
    "\n",
    "print(\"Infected Flows Number:\", len(source10_botnet))\n",
    "print(\"Non-infected Flows Number:\", len(source10_benign))"
   ]
  },
  {
   "cell_type": "markdown",
   "metadata": {},
   "source": [
    "#### Selected Feature 1: Protocol"
   ]
  },
  {
   "cell_type": "code",
   "execution_count": 7,
   "metadata": {},
   "outputs": [
    {
     "name": "stdout",
     "output_type": "stream",
     "text": [
      "Infected: (array(['icmp', 'tcp', 'udp'], dtype=object), array([105977,     82,    293], dtype=int64))\n",
      "\n",
      "Non-infected: (array(['arp', 'icmp', 'tcp', 'udp'], dtype=object), array([  11,  713, 5343, 9780], dtype=int64))\n"
     ]
    }
   ],
   "source": [
    "print(\"Infected:\", np.unique(source10_botnet['Proto'], return_counts=True))\n",
    "print()\n",
    "print(\"Non-infected:\", np.unique(source10_benign['Proto'], return_counts=True))"
   ]
  },
  {
   "cell_type": "code",
   "execution_count": 8,
   "metadata": {},
   "outputs": [
    {
     "data": {
      "image/png": "[encoded data removed]",
      "text/plain": [
       "<Figure size 1080x360 with 2 Axes>"
      ]
     },
     "metadata": {},
     "output_type": "display_data"
    }
   ],
   "source": [
    "protocol_1 = np.unique(source10_botnet['Proto'], return_counts=True)[1]\n",
    "protocol_1 = np.insert(protocol_1, 0, 0)\n",
    "protocol_0 = np.unique(source10_benign['Proto'], return_counts=True)[1]\n",
    "\n",
    "plt.figure(figsize=(15,5))\n",
    "plt.subplot(1,2,1)\n",
    "plt.bar(['arp', 'icmp', 'tcp', 'udp'], [height for height in protocol_1])\n",
    "plt.xlabel('protocol')\n",
    "plt.ylabel('count')\n",
    "plt.title(\"Botnet\")\n",
    "plt.subplot(1,2,2)\n",
    "plt.bar(['arp', 'icmp', 'tcp', 'udp'], [height for height in protocol_0])\n",
    "plt.xlabel('protocol')\n",
    "plt.ylabel('count')\n",
    "plt.title('Benign')\n",
    "plt.show()"
   ]
  },
  {
   "cell_type": "code",
   "execution_count": 9,
   "metadata": {},
   "outputs": [],
   "source": [
    "# encode protocol\n",
    "protocol_encoder = {'arp': 0, 'udp': 1, 'tcp': 2, 'icmp': 3}\n",
    "source10[\"Proto\"].replace('arp', protocol_encoder['arp'], inplace=True)\n",
    "source10[\"Proto\"].replace('udp', protocol_encoder['udp'], inplace=True)\n",
    "source10[\"Proto\"].replace('tcp', protocol_encoder['tcp'], inplace=True)\n",
    "source10[\"Proto\"].replace('icmp', protocol_encoder['icmp'], inplace=True)"
   ]
  },
  {
   "cell_type": "markdown",
   "metadata": {},
   "source": [
    "#### Selected Feature 2: Duration"
   ]
  },
  {
   "cell_type": "code",
   "execution_count": 10,
   "metadata": {},
   "outputs": [
    {
     "data": {
      "image/png": "[encoded data removed]",
      "text/plain": [
       "<Figure size 720x360 with 1 Axes>"
      ]
     },
     "metadata": {},
     "output_type": "display_data"
    },
    {
     "name": "stdout",
     "output_type": "stream",
     "text": [
      "-botnet \n",
      " mean: 90.82559153096368 std: 292.0150242011546\n",
      "\n",
      "-benign \n",
      " mean: 46.585669888622334 std: 301.2336573129555\n"
     ]
    }
   ],
   "source": [
    "plt.figure(figsize=(10, 5))\n",
    "plt.boxplot(\n",
    "    [source10_botnet[\"Dur\"].values * 1e3, source10_benign[\"Dur\"].values * 1e3],\n",
    "    showfliers=False,\n",
    "    labels=['botnet', 'benign'])\n",
    "plt.ylabel(\"Duration/ms\")\n",
    "plt.show()\n",
    "\n",
    "print(\"-botnet \\n\", \"mean:\", source10_botnet[\"Dur\"].mean(), \"std:\",\n",
    "      source10_botnet[\"Dur\"].std())\n",
    "print()\n",
    "print(\"-benign \\n\", \"mean:\", source10_benign[\"Dur\"].mean(), \"std:\",\n",
    "      source10_benign[\"Dur\"].std())"
   ]
  },
  {
   "cell_type": "markdown",
   "metadata": {},
   "source": [
    "#### Combine to One"
   ]
  },
  {
   "cell_type": "code",
   "execution_count": 11,
   "metadata": {},
   "outputs": [],
   "source": [
    "from sklearn.preprocessing import Normalizer, KBinsDiscretizer\n",
    "from sklearn.decomposition import PCA\n",
    "from scipy.stats import spearmanr"
   ]
  },
  {
   "cell_type": "code",
   "execution_count": 12,
   "metadata": {},
   "outputs": [
    {
     "data": {
      "text/html": [
       "<div>\n",
       "<style scoped>\n",
       "    .dataframe tbody tr th:only-of-type {\n",
       "        vertical-align: middle;\n",
       "    }\n",
       "\n",
       "    .dataframe tbody tr th {\n",
       "        vertical-align: top;\n",
       "    }\n",
       "\n",
       "    .dataframe thead th {\n",
       "        text-align: right;\n",
       "    }\n",
       "</style>\n",
       "<table border=\"1\" class=\"dataframe\">\n",
       "  <thead>\n",
       "    <tr style=\"text-align: right;\">\n",
       "      <th></th>\n",
       "      <th>Dur</th>\n",
       "      <th>Proto</th>\n",
       "    </tr>\n",
       "  </thead>\n",
       "  <tbody>\n",
       "    <tr>\n",
       "      <th>407</th>\n",
       "      <td>3587.569824</td>\n",
       "      <td>2</td>\n",
       "    </tr>\n",
       "    <tr>\n",
       "      <th>697</th>\n",
       "      <td>198.072739</td>\n",
       "      <td>2</td>\n",
       "    </tr>\n",
       "    <tr>\n",
       "      <th>717</th>\n",
       "      <td>197.928329</td>\n",
       "      <td>2</td>\n",
       "    </tr>\n",
       "    <tr>\n",
       "      <th>896</th>\n",
       "      <td>0.000399</td>\n",
       "      <td>1</td>\n",
       "    </tr>\n",
       "    <tr>\n",
       "      <th>897</th>\n",
       "      <td>0.000400</td>\n",
       "      <td>1</td>\n",
       "    </tr>\n",
       "  </tbody>\n",
       "</table>\n",
       "</div>"
      ],
      "text/plain": [
       "             Dur  Proto\n",
       "407  3587.569824      2\n",
       "697   198.072739      2\n",
       "717   197.928329      2\n",
       "896     0.000399      1\n",
       "897     0.000400      1"
      ]
     },
     "execution_count": 12,
     "metadata": {},
     "output_type": "execute_result"
    }
   ],
   "source": [
    "features = source10[['Dur', 'Proto']]\n",
    "features.head()"
   ]
  },
  {
   "cell_type": "code",
   "execution_count": 13,
   "metadata": {},
   "outputs": [],
   "source": [
    "# normalization\n",
    "norm = Normalizer().fit(features)\n",
    "features_norm = norm.transform(features)\n",
    "\n",
    "# pca conversion\n",
    "pca = PCA(n_components=1)\n",
    "feature_comb = pca.fit_transform(features_norm, y=source10['Botnet'].values).reshape(-1,1)"
   ]
  },
  {
   "cell_type": "code",
   "execution_count": 14,
   "metadata": {},
   "outputs": [],
   "source": [
    "# select the best number of bins\n",
    "spearman = []\n",
    "for i in range(2,100):\n",
    "    KBins = KBinsDiscretizer(n_bins=i, encode='ordinal', strategy='uniform')\n",
    "    feature_disc = KBins.fit_transform(feature_comb)\n",
    "    spearman.append(spearmanr(feature_disc, feature_comb)[0])"
   ]
  },
  {
   "cell_type": "code",
   "execution_count": 15,
   "metadata": {},
   "outputs": [
    {
     "data": {
      "image/png": "[encoded data removed]",
      "text/plain": [
       "<Figure size 1080x360 with 1 Axes>"
      ]
     },
     "metadata": {},
     "output_type": "display_data"
    }
   ],
   "source": [
    "plt.figure(figsize=(15,5))\n",
    "plt.plot(np.arange(2,100), spearman)\n",
    "plt.xlim([2,25])\n",
    "plt.xticks(np.arange(2,25))\n",
    "plt.xlabel(\"number of bins\")\n",
    "plt.ylabel(\"spearman relation\")\n",
    "plt.show()"
   ]
  },
  {
   "cell_type": "code",
   "execution_count": 16,
   "metadata": {},
   "outputs": [
    {
     "data": {
      "text/html": [
       "<div>\n",
       "<style scoped>\n",
       "    .dataframe tbody tr th:only-of-type {\n",
       "        vertical-align: middle;\n",
       "    }\n",
       "\n",
       "    .dataframe tbody tr th {\n",
       "        vertical-align: top;\n",
       "    }\n",
       "\n",
       "    .dataframe thead th {\n",
       "        text-align: right;\n",
       "    }\n",
       "</style>\n",
       "<table border=\"1\" class=\"dataframe\">\n",
       "  <thead>\n",
       "    <tr style=\"text-align: right;\">\n",
       "      <th></th>\n",
       "      <th>StartTime</th>\n",
       "      <th>Dur</th>\n",
       "      <th>Proto</th>\n",
       "      <th>SrcAddr</th>\n",
       "      <th>Sport</th>\n",
       "      <th>Dir</th>\n",
       "      <th>DstAddr</th>\n",
       "      <th>Dport</th>\n",
       "      <th>State</th>\n",
       "      <th>sTos</th>\n",
       "      <th>dTos</th>\n",
       "      <th>TotPkts</th>\n",
       "      <th>TotBytes</th>\n",
       "      <th>SrcBytes</th>\n",
       "      <th>Label</th>\n",
       "      <th>Botnet</th>\n",
       "      <th>feature</th>\n",
       "    </tr>\n",
       "  </thead>\n",
       "  <tbody>\n",
       "    <tr>\n",
       "      <th>407</th>\n",
       "      <td>2011/08/18 10:19:15.693956</td>\n",
       "      <td>3587.569824</td>\n",
       "      <td>2</td>\n",
       "      <td>147.32.84.164</td>\n",
       "      <td>54784</td>\n",
       "      <td>&lt;?&gt;</td>\n",
       "      <td>74.125.232.215</td>\n",
       "      <td>443</td>\n",
       "      <td>PA_PA</td>\n",
       "      <td>0.0</td>\n",
       "      <td>0.0</td>\n",
       "      <td>3049</td>\n",
       "      <td>978731</td>\n",
       "      <td>245317</td>\n",
       "      <td>flow=From-Normal-V51-Grill</td>\n",
       "      <td>False</td>\n",
       "      <td>19.0</td>\n",
       "    </tr>\n",
       "    <tr>\n",
       "      <th>697</th>\n",
       "      <td>2011/08/18 10:19:18.143576</td>\n",
       "      <td>198.072739</td>\n",
       "      <td>2</td>\n",
       "      <td>147.32.84.164</td>\n",
       "      <td>56165</td>\n",
       "      <td>&lt;?&gt;</td>\n",
       "      <td>74.125.232.197</td>\n",
       "      <td>80</td>\n",
       "      <td>FA_FA</td>\n",
       "      <td>0.0</td>\n",
       "      <td>0.0</td>\n",
       "      <td>14</td>\n",
       "      <td>924</td>\n",
       "      <td>462</td>\n",
       "      <td>flow=From-Normal-V51-Grill</td>\n",
       "      <td>False</td>\n",
       "      <td>19.0</td>\n",
       "    </tr>\n",
       "    <tr>\n",
       "      <th>717</th>\n",
       "      <td>2011/08/18 10:19:18.303590</td>\n",
       "      <td>197.928329</td>\n",
       "      <td>2</td>\n",
       "      <td>147.32.84.164</td>\n",
       "      <td>57965</td>\n",
       "      <td>&lt;?&gt;</td>\n",
       "      <td>209.85.149.138</td>\n",
       "      <td>80</td>\n",
       "      <td>FA_FA</td>\n",
       "      <td>0.0</td>\n",
       "      <td>0.0</td>\n",
       "      <td>14</td>\n",
       "      <td>924</td>\n",
       "      <td>462</td>\n",
       "      <td>flow=From-Normal-V51-Grill</td>\n",
       "      <td>False</td>\n",
       "      <td>19.0</td>\n",
       "    </tr>\n",
       "    <tr>\n",
       "      <th>896</th>\n",
       "      <td>2011/08/18 10:19:19.838272</td>\n",
       "      <td>0.000399</td>\n",
       "      <td>1</td>\n",
       "      <td>147.32.84.170</td>\n",
       "      <td>45807</td>\n",
       "      <td>&lt;-&gt;</td>\n",
       "      <td>147.32.80.9</td>\n",
       "      <td>53</td>\n",
       "      <td>CON</td>\n",
       "      <td>0.0</td>\n",
       "      <td>0.0</td>\n",
       "      <td>2</td>\n",
       "      <td>400</td>\n",
       "      <td>74</td>\n",
       "      <td>flow=From-Normal-V51-Stribrek</td>\n",
       "      <td>False</td>\n",
       "      <td>0.0</td>\n",
       "    </tr>\n",
       "    <tr>\n",
       "      <th>897</th>\n",
       "      <td>2011/08/18 10:19:19.839123</td>\n",
       "      <td>0.000400</td>\n",
       "      <td>1</td>\n",
       "      <td>147.32.84.170</td>\n",
       "      <td>35380</td>\n",
       "      <td>&lt;-&gt;</td>\n",
       "      <td>147.32.80.9</td>\n",
       "      <td>53</td>\n",
       "      <td>CON</td>\n",
       "      <td>0.0</td>\n",
       "      <td>0.0</td>\n",
       "      <td>2</td>\n",
       "      <td>400</td>\n",
       "      <td>74</td>\n",
       "      <td>flow=From-Normal-V51-Stribrek</td>\n",
       "      <td>False</td>\n",
       "      <td>0.0</td>\n",
       "    </tr>\n",
       "  </tbody>\n",
       "</table>\n",
       "</div>"
      ],
      "text/plain": [
       "                      StartTime          Dur  Proto        SrcAddr  Sport  \\\n",
       "407  2011/08/18 10:19:15.693956  3587.569824      2  147.32.84.164  54784   \n",
       "697  2011/08/18 10:19:18.143576   198.072739      2  147.32.84.164  56165   \n",
       "717  2011/08/18 10:19:18.303590   197.928329      2  147.32.84.164  57965   \n",
       "896  2011/08/18 10:19:19.838272     0.000399      1  147.32.84.170  45807   \n",
       "897  2011/08/18 10:19:19.839123     0.000400      1  147.32.84.170  35380   \n",
       "\n",
       "       Dir         DstAddr Dport  State  sTos  dTos  TotPkts  TotBytes  \\\n",
       "407    <?>  74.125.232.215   443  PA_PA   0.0   0.0     3049    978731   \n",
       "697    <?>  74.125.232.197    80  FA_FA   0.0   0.0       14       924   \n",
       "717    <?>  209.85.149.138    80  FA_FA   0.0   0.0       14       924   \n",
       "896    <->     147.32.80.9    53    CON   0.0   0.0        2       400   \n",
       "897    <->     147.32.80.9    53    CON   0.0   0.0        2       400   \n",
       "\n",
       "     SrcBytes                          Label  Botnet  feature  \n",
       "407    245317     flow=From-Normal-V51-Grill   False     19.0  \n",
       "697       462     flow=From-Normal-V51-Grill   False     19.0  \n",
       "717       462     flow=From-Normal-V51-Grill   False     19.0  \n",
       "896        74  flow=From-Normal-V51-Stribrek   False      0.0  \n",
       "897        74  flow=From-Normal-V51-Stribrek   False      0.0  "
      ]
     },
     "execution_count": 16,
     "metadata": {},
     "output_type": "execute_result"
    }
   ],
   "source": [
    "feature_disc = KBinsDiscretizer(n_bins=20, encode='ordinal', strategy='uniform').fit_transform(feature_comb)\n",
    "\n",
    "source10['feature'] = feature_disc\n",
    "source10.head()"
   ]
  },
  {
   "cell_type": "markdown",
   "metadata": {},
   "source": [
    "### 1b. Answers and explanation"
   ]
  },
  {
   "cell_type": "code",
   "execution_count": null,
   "metadata": {},
   "outputs": [],
   "source": []
  },
  {
   "cell_type": "markdown",
   "metadata": {},
   "source": [
    "## 2. Frequent task – 1/2 A4 (Individual)"
   ]
  },
  {
   "cell_type": "markdown",
   "metadata": {},
   "source": [
    "### 2a. Use the SPACE SAVING algorithm"
   ]
  },
  {
   "cell_type": "code",
   "execution_count": null,
   "metadata": {},
   "outputs": [],
   "source": []
  },
  {
   "cell_type": "markdown",
   "metadata": {},
   "source": [
    "### 2b. Analysis and answers to the questions"
   ]
  },
  {
   "cell_type": "code",
   "execution_count": null,
   "metadata": {},
   "outputs": [],
   "source": []
  },
  {
   "cell_type": "markdown",
   "metadata": {},
   "source": [
    "## 3. Sketching task – 1/2 A4 (Individual)"
   ]
  },
  {
   "cell_type": "markdown",
   "metadata": {},
   "source": [
    "### 3a. COUNT-MIN sketch\n"
   ]
  },
  {
   "cell_type": "code",
   "execution_count": null,
   "metadata": {},
   "outputs": [],
   "source": []
  },
  {
   "cell_type": "markdown",
   "metadata": {},
   "source": [
    "### 3b. Analysis and answers to the questions"
   ]
  },
  {
   "cell_type": "code",
   "execution_count": null,
   "metadata": {},
   "outputs": [],
   "source": []
  },
  {
   "cell_type": "markdown",
   "metadata": {},
   "source": [
    "## 4. Min-wise locality sensitive hashing task – 1/2 A4 (Individual)"
   ]
  },
  {
   "cell_type": "markdown",
   "metadata": {},
   "source": [
    "### 4a. Implementation"
   ]
  },
  {
   "cell_type": "code",
   "execution_count": null,
   "metadata": {},
   "outputs": [],
   "source": []
  },
  {
   "cell_type": "markdown",
   "metadata": {},
   "source": [
    "### 4b. Analysis and answers to the questions"
   ]
  },
  {
   "cell_type": "code",
   "execution_count": null,
   "metadata": {},
   "outputs": [],
   "source": []
  },
  {
   "cell_type": "markdown",
   "metadata": {},
   "source": [
    "## 5. Random hyperplane locality sensitive hashing task – 1/2 A4 (Individual)"
   ]
  },
  {
   "cell_type": "markdown",
   "metadata": {},
   "source": [
    "### 5a. Implementation - locality sensitive hashing"
   ]
  },
  {
   "cell_type": "code",
   "execution_count": null,
   "metadata": {},
   "outputs": [],
   "source": []
  },
  {
   "cell_type": "markdown",
   "metadata": {},
   "source": [
    "### 5b. Analysis and answers to the questions. Also provide relevant plots."
   ]
  },
  {
   "cell_type": "code",
   "execution_count": null,
   "metadata": {},
   "outputs": [],
   "source": []
  },
  {
   "cell_type": "markdown",
   "metadata": {},
   "source": [
    "## 6.Botnet profiling task – 1/2 A4"
   ]
  },
  {
   "cell_type": "markdown",
   "metadata": {},
   "source": [
    "### 6a. Learn a sequential model"
   ]
  },
  {
   "cell_type": "code",
   "execution_count": null,
   "metadata": {},
   "outputs": [],
   "source": []
  },
  {
   "cell_type": "markdown",
   "metadata": {},
   "source": [
    "### 6b. Analysis and answers to the questions."
   ]
  },
  {
   "cell_type": "code",
   "execution_count": null,
   "metadata": {},
   "outputs": [],
   "source": []
  },
  {
   "cell_type": "markdown",
   "metadata": {},
   "source": [
    "## 7.Botnet fingerprinting task – 1/2 A4"
   ]
  },
  {
   "cell_type": "markdown",
   "metadata": {},
   "source": [
    "### 7a. Fingerprinting\n"
   ]
  },
  {
   "cell_type": "code",
   "execution_count": null,
   "metadata": {},
   "outputs": [],
   "source": []
  },
  {
   "cell_type": "markdown",
   "metadata": {},
   "source": [
    "### 7b. Analysis and answers to the questions."
   ]
  },
  {
   "cell_type": "code",
   "execution_count": null,
   "metadata": {},
   "outputs": [],
   "source": []
  },
  {
   "cell_type": "markdown",
   "metadata": {},
   "source": [
    "## 8. Bonus Task 1/2 A4"
   ]
  },
  {
   "cell_type": "markdown",
   "metadata": {},
   "source": [
    "### 8a. Provide implementation and analysis."
   ]
  },
  {
   "cell_type": "code",
   "execution_count": null,
   "metadata": {},
   "outputs": [],
   "source": []
  }
 ],
 "metadata": {
  "kernelspec": {
   "display_name": "Python 3",
   "language": "python",
   "name": "python3"
  },
  "language_info": {
   "codemirror_mode": {
    "name": "ipython",
    "version": 3
   },
   "file_extension": ".py",
   "mimetype": "text/x-python",
   "name": "python",
   "nbconvert_exporter": "python",
   "pygments_lexer": "ipython3",
   "version": "3.8.5"
  },
  "toc": {
   "base_numbering": 1,
   "nav_menu": {},
   "number_sections": true,
   "sideBar": true,
   "skip_h1_title": false,
   "title_cell": "Table of Contents",
   "title_sidebar": "Contents",
   "toc_cell": false,
   "toc_position": {},
   "toc_section_display": true,
   "toc_window_display": false
  },
  "varInspector": {
   "cols": {
    "lenName": 16,
    "lenType": 16,
    "lenVar": 40
   },
   "kernels_config": {
    "python": {
     "delete_cmd_postfix": "",
     "delete_cmd_prefix": "del ",
     "library": "var_list.py",
     "varRefreshCmd": "print(var_dic_list())"
    },
    "r": {
     "delete_cmd_postfix": ") ",
     "delete_cmd_prefix": "rm(",
     "library": "var_list.r",
     "varRefreshCmd": "cat(var_dic_list()) "
    }
   },
   "position": {
    "height": "353px",
    "left": "1046px",
    "right": "20px",
    "top": "120px",
    "width": "350px"
   },
   "types_to_exclude": [
    "module",
    "function",
    "builtin_function_or_method",
    "instance",
    "_Feature"
   ],
   "window_display": false
  }
 },
 "nbformat": 4,
 "nbformat_minor": 2
}
