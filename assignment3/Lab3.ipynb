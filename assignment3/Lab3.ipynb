{
 "cells": [
  {
   "cell_type": "markdown",
   "metadata": {},
   "source": [
    "# CS4035 - Cyber Data Analytics\n",
    "## Lab 3 "
   ]
  },
  {
   "cell_type": "markdown",
   "metadata": {},
   "source": [
    "### Submit on brightspace (zip file with the name Group_xx.zip)\n",
    "(i) This jupyter file completed with code, plots, figures and report for each question. Additional plots and figures can be created for explanation before the end of each main question. Lab 3 contains 7 main questions, including the bonus. Write the code or explanation below each sub question. For the explantions, include what you would normally include in the report for this lab assignment, for example data pre-processing, hypothesis tested, approach, results, etc.\n",
    "(ii) A PDF or a Word report for the assignment. Create a report from the plots, figures, tables and the write-up that you provide in this jupyter file. The report will be used as a proof for page limit. \n",
    "(iii) The libraries needed to run this file. \n",
    "\n",
    "Your peers should be able to use the readme section for instructions and be able to run this file. "
   ]
  },
  {
   "cell_type": "markdown",
   "metadata": {},
   "source": [
    "## Group Number :"
   ]
  },
  {
   "cell_type": "markdown",
   "metadata": {},
   "source": [
    "## Student 1 \n",
    "### Name :\n",
    "### ID :"
   ]
  },
  {
   "cell_type": "markdown",
   "metadata": {},
   "source": [
    "## Student 2\n",
    "### Name :\n",
    "### ID :"
   ]
  },
  {
   "cell_type": "markdown",
   "metadata": {},
   "source": [
    "## Readme - Provide instructions - libraries used, location of the data file, etc. Keep it short. Remember your peers will not debug your code and should be able to reproduce the exact output you provide."
   ]
  },
  {
   "cell_type": "code",
   "execution_count": null,
   "metadata": {},
   "outputs": [],
   "source": []
  },
  {
   "cell_type": "code",
   "execution_count": 1,
   "metadata": {},
   "outputs": [],
   "source": [
    "import numpy as np\n",
    "import pandas as pd\n",
    "\n",
    "import matplotlib.pyplot as plt\n",
    "\n",
    "from jupyterthemes import jtplot\n",
    "jtplot.style('grade3')\n",
    "\n",
    "import warnings\n",
    "warnings.filterwarnings('ignore')"
   ]
  },
  {
   "cell_type": "markdown",
   "metadata": {},
   "source": [
    "## 1. Familiarization and discretization task – 1 A4"
   ]
  },
  {
   "cell_type": "markdown",
   "metadata": {},
   "source": [
    "### 1a. Plot visualizations - Select and visualize two features for modeling the behavior of the infected host."
   ]
  },
  {
   "cell_type": "markdown",
   "metadata": {},
   "source": [
    "#### Load Data"
   ]
  },
  {
   "cell_type": "code",
   "execution_count": 2,
   "metadata": {},
   "outputs": [
    {
     "data": {
      "text/html": [
       "<div>\n",
       "<style scoped>\n",
       "    .dataframe tbody tr th:only-of-type {\n",
       "        vertical-align: middle;\n",
       "    }\n",
       "\n",
       "    .dataframe tbody tr th {\n",
       "        vertical-align: top;\n",
       "    }\n",
       "\n",
       "    .dataframe thead th {\n",
       "        text-align: right;\n",
       "    }\n",
       "</style>\n",
       "<table border=\"1\" class=\"dataframe\">\n",
       "  <thead>\n",
       "    <tr style=\"text-align: right;\">\n",
       "      <th></th>\n",
       "      <th>StartTime</th>\n",
       "      <th>Dur</th>\n",
       "      <th>Proto</th>\n",
       "      <th>SrcAddr</th>\n",
       "      <th>Sport</th>\n",
       "      <th>Dir</th>\n",
       "      <th>DstAddr</th>\n",
       "      <th>Dport</th>\n",
       "      <th>State</th>\n",
       "      <th>sTos</th>\n",
       "      <th>dTos</th>\n",
       "      <th>TotPkts</th>\n",
       "      <th>TotBytes</th>\n",
       "      <th>SrcBytes</th>\n",
       "      <th>Label</th>\n",
       "    </tr>\n",
       "  </thead>\n",
       "  <tbody>\n",
       "    <tr>\n",
       "      <th>0</th>\n",
       "      <td>2011/08/18 09:56:29.146156</td>\n",
       "      <td>2752.656250</td>\n",
       "      <td>udp</td>\n",
       "      <td>71.222.124.71</td>\n",
       "      <td>60621</td>\n",
       "      <td>&lt;-&gt;</td>\n",
       "      <td>147.32.84.59</td>\n",
       "      <td>63550</td>\n",
       "      <td>CON</td>\n",
       "      <td>0.0</td>\n",
       "      <td>0.0</td>\n",
       "      <td>3</td>\n",
       "      <td>435</td>\n",
       "      <td>290</td>\n",
       "      <td>flow=Background-Established-cmpgw-CVUT</td>\n",
       "    </tr>\n",
       "    <tr>\n",
       "      <th>1</th>\n",
       "      <td>2011/08/18 09:56:42.630892</td>\n",
       "      <td>1849.315552</td>\n",
       "      <td>udp</td>\n",
       "      <td>78.234.54.245</td>\n",
       "      <td>51413</td>\n",
       "      <td>&lt;-&gt;</td>\n",
       "      <td>147.32.84.59</td>\n",
       "      <td>63550</td>\n",
       "      <td>CON</td>\n",
       "      <td>0.0</td>\n",
       "      <td>0.0</td>\n",
       "      <td>3</td>\n",
       "      <td>417</td>\n",
       "      <td>272</td>\n",
       "      <td>flow=Background-Established-cmpgw-CVUT</td>\n",
       "    </tr>\n",
       "    <tr>\n",
       "      <th>2</th>\n",
       "      <td>2011/08/18 09:56:44.640650</td>\n",
       "      <td>2091.747314</td>\n",
       "      <td>udp</td>\n",
       "      <td>31.147.120.139</td>\n",
       "      <td>63195</td>\n",
       "      <td>&lt;-&gt;</td>\n",
       "      <td>147.32.84.59</td>\n",
       "      <td>63550</td>\n",
       "      <td>CON</td>\n",
       "      <td>0.0</td>\n",
       "      <td>0.0</td>\n",
       "      <td>2</td>\n",
       "      <td>290</td>\n",
       "      <td>145</td>\n",
       "      <td>flow=Background-Established-cmpgw-CVUT</td>\n",
       "    </tr>\n",
       "    <tr>\n",
       "      <th>3</th>\n",
       "      <td>2011/08/18 10:10:52.782230</td>\n",
       "      <td>1535.769409</td>\n",
       "      <td>udp</td>\n",
       "      <td>118.5.35.64</td>\n",
       "      <td>39110</td>\n",
       "      <td>&lt;-&gt;</td>\n",
       "      <td>147.32.84.59</td>\n",
       "      <td>63550</td>\n",
       "      <td>CON</td>\n",
       "      <td>0.0</td>\n",
       "      <td>0.0</td>\n",
       "      <td>2</td>\n",
       "      <td>290</td>\n",
       "      <td>145</td>\n",
       "      <td>flow=Background-Established-cmpgw-CVUT</td>\n",
       "    </tr>\n",
       "    <tr>\n",
       "      <th>4</th>\n",
       "      <td>2011/08/18 10:19:13.328372</td>\n",
       "      <td>0.002636</td>\n",
       "      <td>tcp</td>\n",
       "      <td>147.32.86.166</td>\n",
       "      <td>33426</td>\n",
       "      <td>&lt;?&gt;</td>\n",
       "      <td>212.24.150.110</td>\n",
       "      <td>25443</td>\n",
       "      <td>FRPA_FPA</td>\n",
       "      <td>0.0</td>\n",
       "      <td>0.0</td>\n",
       "      <td>6</td>\n",
       "      <td>490</td>\n",
       "      <td>321</td>\n",
       "      <td>flow=Background</td>\n",
       "    </tr>\n",
       "  </tbody>\n",
       "</table>\n",
       "</div>"
      ],
      "text/plain": [
       "                    StartTime          Dur Proto         SrcAddr  Sport  \\\n",
       "0  2011/08/18 09:56:29.146156  2752.656250   udp   71.222.124.71  60621   \n",
       "1  2011/08/18 09:56:42.630892  1849.315552   udp   78.234.54.245  51413   \n",
       "2  2011/08/18 09:56:44.640650  2091.747314   udp  31.147.120.139  63195   \n",
       "3  2011/08/18 10:10:52.782230  1535.769409   udp     118.5.35.64  39110   \n",
       "4  2011/08/18 10:19:13.328372     0.002636   tcp   147.32.86.166  33426   \n",
       "\n",
       "     Dir         DstAddr  Dport     State  sTos  dTos  TotPkts  TotBytes  \\\n",
       "0    <->    147.32.84.59  63550       CON   0.0   0.0        3       435   \n",
       "1    <->    147.32.84.59  63550       CON   0.0   0.0        3       417   \n",
       "2    <->    147.32.84.59  63550       CON   0.0   0.0        2       290   \n",
       "3    <->    147.32.84.59  63550       CON   0.0   0.0        2       290   \n",
       "4    <?>  212.24.150.110  25443  FRPA_FPA   0.0   0.0        6       490   \n",
       "\n",
       "   SrcBytes                                   Label  \n",
       "0       290  flow=Background-Established-cmpgw-CVUT  \n",
       "1       272  flow=Background-Established-cmpgw-CVUT  \n",
       "2       145  flow=Background-Established-cmpgw-CVUT  \n",
       "3       145  flow=Background-Established-cmpgw-CVUT  \n",
       "4       321                         flow=Background  "
      ]
     },
     "execution_count": 2,
     "metadata": {},
     "output_type": "execute_result"
    }
   ],
   "source": [
    "# load data and print the first serveral\n",
    "rawdata = pd.read_csv('./dataset/capture20110818.binetflow.txt')\n",
    "rawdata.head()"
   ]
  },
  {
   "cell_type": "code",
   "execution_count": 3,
   "metadata": {},
   "outputs": [
    {
     "name": "stdout",
     "output_type": "stream",
     "text": [
      "data shape: (1309791, 15)\n"
     ]
    }
   ],
   "source": [
    "print(\"data shape:\", rawdata.shape)"
   ]
  },
  {
   "cell_type": "markdown",
   "metadata": {},
   "source": [
    "#### Background Flows Removed "
   ]
  },
  {
   "cell_type": "code",
   "execution_count": 4,
   "metadata": {},
   "outputs": [
    {
     "data": {
      "text/html": [
       "<div>\n",
       "<style scoped>\n",
       "    .dataframe tbody tr th:only-of-type {\n",
       "        vertical-align: middle;\n",
       "    }\n",
       "\n",
       "    .dataframe tbody tr th {\n",
       "        vertical-align: top;\n",
       "    }\n",
       "\n",
       "    .dataframe thead th {\n",
       "        text-align: right;\n",
       "    }\n",
       "</style>\n",
       "<table border=\"1\" class=\"dataframe\">\n",
       "  <thead>\n",
       "    <tr style=\"text-align: right;\">\n",
       "      <th></th>\n",
       "      <th>StartTime</th>\n",
       "      <th>Dur</th>\n",
       "      <th>Proto</th>\n",
       "      <th>SrcAddr</th>\n",
       "      <th>Sport</th>\n",
       "      <th>Dir</th>\n",
       "      <th>DstAddr</th>\n",
       "      <th>Dport</th>\n",
       "      <th>State</th>\n",
       "      <th>sTos</th>\n",
       "      <th>dTos</th>\n",
       "      <th>TotPkts</th>\n",
       "      <th>TotBytes</th>\n",
       "      <th>SrcBytes</th>\n",
       "      <th>Label</th>\n",
       "    </tr>\n",
       "  </thead>\n",
       "  <tbody>\n",
       "    <tr>\n",
       "      <th>407</th>\n",
       "      <td>2011/08/18 10:19:15.693956</td>\n",
       "      <td>3587.569824</td>\n",
       "      <td>tcp</td>\n",
       "      <td>147.32.84.164</td>\n",
       "      <td>54784</td>\n",
       "      <td>&lt;?&gt;</td>\n",
       "      <td>74.125.232.215</td>\n",
       "      <td>443</td>\n",
       "      <td>PA_PA</td>\n",
       "      <td>0.0</td>\n",
       "      <td>0.0</td>\n",
       "      <td>3049</td>\n",
       "      <td>978731</td>\n",
       "      <td>245317</td>\n",
       "      <td>flow=From-Normal-V51-Grill</td>\n",
       "    </tr>\n",
       "    <tr>\n",
       "      <th>697</th>\n",
       "      <td>2011/08/18 10:19:18.143576</td>\n",
       "      <td>198.072739</td>\n",
       "      <td>tcp</td>\n",
       "      <td>147.32.84.164</td>\n",
       "      <td>56165</td>\n",
       "      <td>&lt;?&gt;</td>\n",
       "      <td>74.125.232.197</td>\n",
       "      <td>80</td>\n",
       "      <td>FA_FA</td>\n",
       "      <td>0.0</td>\n",
       "      <td>0.0</td>\n",
       "      <td>14</td>\n",
       "      <td>924</td>\n",
       "      <td>462</td>\n",
       "      <td>flow=From-Normal-V51-Grill</td>\n",
       "    </tr>\n",
       "    <tr>\n",
       "      <th>717</th>\n",
       "      <td>2011/08/18 10:19:18.303590</td>\n",
       "      <td>197.928329</td>\n",
       "      <td>tcp</td>\n",
       "      <td>147.32.84.164</td>\n",
       "      <td>57965</td>\n",
       "      <td>&lt;?&gt;</td>\n",
       "      <td>209.85.149.138</td>\n",
       "      <td>80</td>\n",
       "      <td>FA_FA</td>\n",
       "      <td>0.0</td>\n",
       "      <td>0.0</td>\n",
       "      <td>14</td>\n",
       "      <td>924</td>\n",
       "      <td>462</td>\n",
       "      <td>flow=From-Normal-V51-Grill</td>\n",
       "    </tr>\n",
       "    <tr>\n",
       "      <th>896</th>\n",
       "      <td>2011/08/18 10:19:19.838272</td>\n",
       "      <td>0.000399</td>\n",
       "      <td>udp</td>\n",
       "      <td>147.32.84.170</td>\n",
       "      <td>45807</td>\n",
       "      <td>&lt;-&gt;</td>\n",
       "      <td>147.32.80.9</td>\n",
       "      <td>53</td>\n",
       "      <td>CON</td>\n",
       "      <td>0.0</td>\n",
       "      <td>0.0</td>\n",
       "      <td>2</td>\n",
       "      <td>400</td>\n",
       "      <td>74</td>\n",
       "      <td>flow=From-Normal-V51-Stribrek</td>\n",
       "    </tr>\n",
       "    <tr>\n",
       "      <th>897</th>\n",
       "      <td>2011/08/18 10:19:19.839123</td>\n",
       "      <td>0.000400</td>\n",
       "      <td>udp</td>\n",
       "      <td>147.32.84.170</td>\n",
       "      <td>35380</td>\n",
       "      <td>&lt;-&gt;</td>\n",
       "      <td>147.32.80.9</td>\n",
       "      <td>53</td>\n",
       "      <td>CON</td>\n",
       "      <td>0.0</td>\n",
       "      <td>0.0</td>\n",
       "      <td>2</td>\n",
       "      <td>400</td>\n",
       "      <td>74</td>\n",
       "      <td>flow=From-Normal-V51-Stribrek</td>\n",
       "    </tr>\n",
       "  </tbody>\n",
       "</table>\n",
       "</div>"
      ],
      "text/plain": [
       "                      StartTime          Dur Proto        SrcAddr  Sport  \\\n",
       "407  2011/08/18 10:19:15.693956  3587.569824   tcp  147.32.84.164  54784   \n",
       "697  2011/08/18 10:19:18.143576   198.072739   tcp  147.32.84.164  56165   \n",
       "717  2011/08/18 10:19:18.303590   197.928329   tcp  147.32.84.164  57965   \n",
       "896  2011/08/18 10:19:19.838272     0.000399   udp  147.32.84.170  45807   \n",
       "897  2011/08/18 10:19:19.839123     0.000400   udp  147.32.84.170  35380   \n",
       "\n",
       "       Dir         DstAddr Dport  State  sTos  dTos  TotPkts  TotBytes  \\\n",
       "407    <?>  74.125.232.215   443  PA_PA   0.0   0.0     3049    978731   \n",
       "697    <?>  74.125.232.197    80  FA_FA   0.0   0.0       14       924   \n",
       "717    <?>  209.85.149.138    80  FA_FA   0.0   0.0       14       924   \n",
       "896    <->     147.32.80.9    53    CON   0.0   0.0        2       400   \n",
       "897    <->     147.32.80.9    53    CON   0.0   0.0        2       400   \n",
       "\n",
       "     SrcBytes                          Label  \n",
       "407    245317     flow=From-Normal-V51-Grill  \n",
       "697       462     flow=From-Normal-V51-Grill  \n",
       "717       462     flow=From-Normal-V51-Grill  \n",
       "896        74  flow=From-Normal-V51-Stribrek  \n",
       "897        74  flow=From-Normal-V51-Stribrek  "
      ]
     },
     "execution_count": 4,
     "metadata": {},
     "output_type": "execute_result"
    }
   ],
   "source": [
    "# remove background flows\n",
    "source10 = rawdata[~rawdata.Label.str.contains(\"Background\")]\n",
    "source10.head()"
   ]
  },
  {
   "cell_type": "code",
   "execution_count": 5,
   "metadata": {},
   "outputs": [
    {
     "name": "stdout",
     "output_type": "stream",
     "text": [
      "data shape: (122199, 15)\n"
     ]
    }
   ],
   "source": [
    "print(\"data shape:\", source10.shape)"
   ]
  },
  {
   "cell_type": "markdown",
   "metadata": {},
   "source": [
    "### 1b. Discretize selected features"
   ]
  },
  {
   "cell_type": "markdown",
   "metadata": {},
   "source": [
    "Windows XP Name: SARUMAN,  IP: 147.32.84.165 (Label: Botnet)\n",
    "\n",
    "Windows XP Name: SARUMAN1, IP: 147.32.84.191 (Label: Botnet)\n",
    "\n",
    "Windows XP Name: SARUMAN2, IP: 147.32.84.192 (Label: Botnet)\n",
    "\n",
    "Windows XP Name: SARUMAN3, IP: 147.32.84.193 (Label: Botnet)\n",
    "\n",
    "Windows XP Name: SARUMAN4, IP: 147.32.84.204 (Label: Botnet)\n",
    "\n",
    "Windows XP Name: SARUMAN5, IP: 147.32.84.205 (Label: Botnet)\n",
    "\n",
    "Windows XP Name: SARUMAN6, IP: 147.32.84.206 (Label: Botnet)\n",
    "\n",
    "Windows XP Name: SARUMAN7, IP: 147.32.84.207 (Label: Botnet)\n",
    "\n",
    "Windows XP Name: SARUMAN8, IP: 147.32.84.208 (Label: Botnet)\n",
    "\n",
    "Windows XP Name: SARUMAN9, IP: 147.32.84.209 (Label: Botnet)\n"
   ]
  },
  {
   "cell_type": "code",
   "execution_count": 6,
   "metadata": {},
   "outputs": [
    {
     "name": "stdout",
     "output_type": "stream",
     "text": [
      "Infected Flows Number: 106352\n",
      "Non-infected Flows Number: 15847\n"
     ]
    }
   ],
   "source": [
    "# add label to the last column\n",
    "Botnet = [\"147.32.84.165\",\"147.32.84.191\",\"147.32.84.192\",\"147.32.84.193\",\"147.32.84.204\",\"147.32.84.205\",\"147.32.84.206\",\"147.32.84.207\",\"147.32.84.208\",\"147.32.84.209\"]\n",
    "source10['Botnet'] = source10['SrcAddr'].isin(Botnet)\n",
    "\n",
    "source10_botnet = source10[source10['Botnet'] == 1]\n",
    "source10_benign = source10[source10['Botnet'] != 1]\n",
    "\n",
    "print(\"Infected Flows Number:\", len(source10_botnet))\n",
    "print(\"Non-infected Flows Number:\", len(source10_benign))"
   ]
  },
  {
   "cell_type": "markdown",
   "metadata": {},
   "source": [
    "#### Selected Feature 1: Protocol"
   ]
  },
  {
   "cell_type": "code",
   "execution_count": 7,
   "metadata": {},
   "outputs": [
    {
     "name": "stdout",
     "output_type": "stream",
     "text": [
      "Infected: (array(['icmp', 'tcp', 'udp'], dtype=object), array([105977,     82,    293], dtype=int64))\n",
      "\n",
      "Non-infected: (array(['arp', 'icmp', 'tcp', 'udp'], dtype=object), array([  11,  713, 5343, 9780], dtype=int64))\n"
     ]
    }
   ],
   "source": [
    "print(\"Infected:\", np.unique(source10_botnet['Proto'], return_counts=True))\n",
    "print()\n",
    "print(\"Non-infected:\", np.unique(source10_benign['Proto'], return_counts=True))"
   ]
  },
  {
   "cell_type": "code",
   "execution_count": 8,
   "metadata": {},
   "outputs": [
    {
     "data": {
      "image/png": "[encoded data removed]",
      "text/plain": [
       "<Figure size 1080x360 with 2 Axes>"
      ]
     },
     "metadata": {},
     "output_type": "display_data"
    }
   ],
   "source": [
    "protocol_1 = np.unique(source10_botnet['Proto'], return_counts=True)[1]\n",
    "protocol_1 = np.insert(protocol_1, 0, 0)\n",
    "protocol_0 = np.unique(source10_benign['Proto'], return_counts=True)[1]\n",
    "\n",
    "plt.figure(figsize=(15,5))\n",
    "plt.subplot(1,2,1)\n",
    "plt.bar(['arp', 'icmp', 'tcp', 'udp'], [height for height in protocol_1])\n",
    "plt.xlabel('protocol')\n",
    "plt.ylabel('count')\n",
    "plt.title(\"Botnet\")\n",
    "plt.subplot(1,2,2)\n",
    "plt.bar(['arp', 'icmp', 'tcp', 'udp'], [height for height in protocol_0])\n",
    "plt.xlabel('protocol')\n",
    "plt.ylabel('count')\n",
    "plt.title('Benign')\n",
    "plt.show()"
   ]
  },
  {
   "cell_type": "code",
   "execution_count": 9,
   "metadata": {},
   "outputs": [],
   "source": [
    "# encode protocol\n",
    "protocol_encoder = {'arp': 0, 'udp': 1, 'tcp': 2, 'icmp': 3}\n",
    "source10[\"Proto\"].replace('arp', protocol_encoder['arp'], inplace=True)\n",
    "source10[\"Proto\"].replace('udp', protocol_encoder['udp'], inplace=True)\n",
    "source10[\"Proto\"].replace('tcp', protocol_encoder['tcp'], inplace=True)\n",
    "source10[\"Proto\"].replace('icmp', protocol_encoder['icmp'], inplace=True)"
   ]
  },
  {
   "cell_type": "markdown",
   "metadata": {},
   "source": [
    "#### Selected Feature 2: Duration"
   ]
  },
  {
   "cell_type": "code",
   "execution_count": 10,
   "metadata": {},
   "outputs": [
    {
     "data": {
      "image/png": "[encoded data removed]",
      "text/plain": [
       "<Figure size 1080x360 with 1 Axes>"
      ]
     },
     "metadata": {},
     "output_type": "display_data"
    },
    {
     "name": "stdout",
     "output_type": "stream",
     "text": [
      "-botnet \n",
      " mean: 90.82559153096368 std: 292.0150242011546\n",
      "\n",
      "-benign \n",
      " mean: 46.585669888622334 std: 301.2336573129555\n"
     ]
    }
   ],
   "source": [
    "plt.figure(figsize=(15, 5))\n",
    "plt.boxplot(\n",
    "    [source10_botnet[\"Dur\"].values * 1e3, source10_benign[\"Dur\"].values * 1e3],\n",
    "    showfliers=False,\n",
    "    labels=['botnet', 'benign'])\n",
    "plt.ylabel(\"Duration/ms\")\n",
    "plt.show()\n",
    "\n",
    "print(\"-botnet \\n\", \"mean:\", source10_botnet[\"Dur\"].mean(), \"std:\",\n",
    "      source10_botnet[\"Dur\"].std())\n",
    "print()\n",
    "print(\"-benign \\n\", \"mean:\", source10_benign[\"Dur\"].mean(), \"std:\",\n",
    "      source10_benign[\"Dur\"].std())"
   ]
  },
  {
   "cell_type": "markdown",
   "metadata": {},
   "source": [
    "#### Combine to One"
   ]
  },
  {
   "cell_type": "code",
   "execution_count": 11,
   "metadata": {},
   "outputs": [],
   "source": [
    "from sklearn.preprocessing import Normalizer, KBinsDiscretizer\n",
    "from sklearn.decomposition import PCA\n",
    "from scipy.stats import spearmanr"
   ]
  },
  {
   "cell_type": "code",
   "execution_count": 12,
   "metadata": {},
   "outputs": [
    {
     "data": {
      "text/html": [
       "<div>\n",
       "<style scoped>\n",
       "    .dataframe tbody tr th:only-of-type {\n",
       "        vertical-align: middle;\n",
       "    }\n",
       "\n",
       "    .dataframe tbody tr th {\n",
       "        vertical-align: top;\n",
       "    }\n",
       "\n",
       "    .dataframe thead th {\n",
       "        text-align: right;\n",
       "    }\n",
       "</style>\n",
       "<table border=\"1\" class=\"dataframe\">\n",
       "  <thead>\n",
       "    <tr style=\"text-align: right;\">\n",
       "      <th></th>\n",
       "      <th>Dur</th>\n",
       "      <th>Proto</th>\n",
       "    </tr>\n",
       "  </thead>\n",
       "  <tbody>\n",
       "    <tr>\n",
       "      <th>407</th>\n",
       "      <td>3587.569824</td>\n",
       "      <td>2</td>\n",
       "    </tr>\n",
       "    <tr>\n",
       "      <th>697</th>\n",
       "      <td>198.072739</td>\n",
       "      <td>2</td>\n",
       "    </tr>\n",
       "    <tr>\n",
       "      <th>717</th>\n",
       "      <td>197.928329</td>\n",
       "      <td>2</td>\n",
       "    </tr>\n",
       "    <tr>\n",
       "      <th>896</th>\n",
       "      <td>0.000399</td>\n",
       "      <td>1</td>\n",
       "    </tr>\n",
       "    <tr>\n",
       "      <th>897</th>\n",
       "      <td>0.000400</td>\n",
       "      <td>1</td>\n",
       "    </tr>\n",
       "  </tbody>\n",
       "</table>\n",
       "</div>"
      ],
      "text/plain": [
       "             Dur  Proto\n",
       "407  3587.569824      2\n",
       "697   198.072739      2\n",
       "717   197.928329      2\n",
       "896     0.000399      1\n",
       "897     0.000400      1"
      ]
     },
     "execution_count": 12,
     "metadata": {},
     "output_type": "execute_result"
    }
   ],
   "source": [
    "features = source10[['Dur', 'Proto']]\n",
    "features.head()"
   ]
  },
  {
   "cell_type": "code",
   "execution_count": 13,
   "metadata": {},
   "outputs": [],
   "source": [
    "# normalization\n",
    "norm = Normalizer().fit(features)\n",
    "features_norm = norm.transform(features)\n",
    "\n",
    "# pca conversion\n",
    "pca = PCA(n_components=1)\n",
    "feature_comb = pca.fit_transform(features_norm, y=source10['Botnet'].values).reshape(-1,1)"
   ]
  },
  {
   "cell_type": "code",
   "execution_count": 14,
   "metadata": {},
   "outputs": [],
   "source": [
    "# select the best number of bins\n",
    "spearman = []\n",
    "for i in range(2,100):\n",
    "    KBins = KBinsDiscretizer(n_bins=i, encode='ordinal', strategy='quantile')\n",
    "    feature_disc = KBins.fit_transform(feature_comb)\n",
    "    spearman.append(spearmanr(feature_disc, feature_comb)[0])"
   ]
  },
  {
   "cell_type": "code",
   "execution_count": 15,
   "metadata": {},
   "outputs": [
    {
     "data": {
      "image/png": "[encoded data removed]",
      "text/plain": [
       "<Figure size 1080x360 with 1 Axes>"
      ]
     },
     "metadata": {},
     "output_type": "display_data"
    }
   ],
   "source": [
    "plt.figure(figsize=(15,5))\n",
    "plt.plot(np.arange(2,100), spearman)\n",
    "plt.xlim([2,50])\n",
    "plt.xticks(np.arange(2,50))\n",
    "plt.xlabel(\"number of bins\")\n",
    "plt.ylabel(\"spearman relation\")\n",
    "plt.show()"
   ]
  },
  {
   "cell_type": "code",
   "execution_count": 16,
   "metadata": {},
   "outputs": [
    {
     "data": {
      "text/html": [
       "<div>\n",
       "<style scoped>\n",
       "    .dataframe tbody tr th:only-of-type {\n",
       "        vertical-align: middle;\n",
       "    }\n",
       "\n",
       "    .dataframe tbody tr th {\n",
       "        vertical-align: top;\n",
       "    }\n",
       "\n",
       "    .dataframe thead th {\n",
       "        text-align: right;\n",
       "    }\n",
       "</style>\n",
       "<table border=\"1\" class=\"dataframe\">\n",
       "  <thead>\n",
       "    <tr style=\"text-align: right;\">\n",
       "      <th></th>\n",
       "      <th>StartTime</th>\n",
       "      <th>Dur</th>\n",
       "      <th>Proto</th>\n",
       "      <th>SrcAddr</th>\n",
       "      <th>Sport</th>\n",
       "      <th>Dir</th>\n",
       "      <th>DstAddr</th>\n",
       "      <th>Dport</th>\n",
       "      <th>State</th>\n",
       "      <th>sTos</th>\n",
       "      <th>dTos</th>\n",
       "      <th>TotPkts</th>\n",
       "      <th>TotBytes</th>\n",
       "      <th>SrcBytes</th>\n",
       "      <th>Label</th>\n",
       "      <th>Botnet</th>\n",
       "      <th>feature</th>\n",
       "    </tr>\n",
       "  </thead>\n",
       "  <tbody>\n",
       "    <tr>\n",
       "      <th>407</th>\n",
       "      <td>2011/08/18 10:19:15.693956</td>\n",
       "      <td>3587.569824</td>\n",
       "      <td>2</td>\n",
       "      <td>147.32.84.164</td>\n",
       "      <td>54784</td>\n",
       "      <td>&lt;?&gt;</td>\n",
       "      <td>74.125.232.215</td>\n",
       "      <td>443</td>\n",
       "      <td>PA_PA</td>\n",
       "      <td>0.0</td>\n",
       "      <td>0.0</td>\n",
       "      <td>3049</td>\n",
       "      <td>978731</td>\n",
       "      <td>245317</td>\n",
       "      <td>flow=From-Normal-V51-Grill</td>\n",
       "      <td>False</td>\n",
       "      <td>2.0</td>\n",
       "    </tr>\n",
       "    <tr>\n",
       "      <th>697</th>\n",
       "      <td>2011/08/18 10:19:18.143576</td>\n",
       "      <td>198.072739</td>\n",
       "      <td>2</td>\n",
       "      <td>147.32.84.164</td>\n",
       "      <td>56165</td>\n",
       "      <td>&lt;?&gt;</td>\n",
       "      <td>74.125.232.197</td>\n",
       "      <td>80</td>\n",
       "      <td>FA_FA</td>\n",
       "      <td>0.0</td>\n",
       "      <td>0.0</td>\n",
       "      <td>14</td>\n",
       "      <td>924</td>\n",
       "      <td>462</td>\n",
       "      <td>flow=From-Normal-V51-Grill</td>\n",
       "      <td>False</td>\n",
       "      <td>2.0</td>\n",
       "    </tr>\n",
       "    <tr>\n",
       "      <th>717</th>\n",
       "      <td>2011/08/18 10:19:18.303590</td>\n",
       "      <td>197.928329</td>\n",
       "      <td>2</td>\n",
       "      <td>147.32.84.164</td>\n",
       "      <td>57965</td>\n",
       "      <td>&lt;?&gt;</td>\n",
       "      <td>209.85.149.138</td>\n",
       "      <td>80</td>\n",
       "      <td>FA_FA</td>\n",
       "      <td>0.0</td>\n",
       "      <td>0.0</td>\n",
       "      <td>14</td>\n",
       "      <td>924</td>\n",
       "      <td>462</td>\n",
       "      <td>flow=From-Normal-V51-Grill</td>\n",
       "      <td>False</td>\n",
       "      <td>2.0</td>\n",
       "    </tr>\n",
       "    <tr>\n",
       "      <th>896</th>\n",
       "      <td>2011/08/18 10:19:19.838272</td>\n",
       "      <td>0.000399</td>\n",
       "      <td>1</td>\n",
       "      <td>147.32.84.170</td>\n",
       "      <td>45807</td>\n",
       "      <td>&lt;-&gt;</td>\n",
       "      <td>147.32.80.9</td>\n",
       "      <td>53</td>\n",
       "      <td>CON</td>\n",
       "      <td>0.0</td>\n",
       "      <td>0.0</td>\n",
       "      <td>2</td>\n",
       "      <td>400</td>\n",
       "      <td>74</td>\n",
       "      <td>flow=From-Normal-V51-Stribrek</td>\n",
       "      <td>False</td>\n",
       "      <td>1.0</td>\n",
       "    </tr>\n",
       "    <tr>\n",
       "      <th>897</th>\n",
       "      <td>2011/08/18 10:19:19.839123</td>\n",
       "      <td>0.000400</td>\n",
       "      <td>1</td>\n",
       "      <td>147.32.84.170</td>\n",
       "      <td>35380</td>\n",
       "      <td>&lt;-&gt;</td>\n",
       "      <td>147.32.80.9</td>\n",
       "      <td>53</td>\n",
       "      <td>CON</td>\n",
       "      <td>0.0</td>\n",
       "      <td>0.0</td>\n",
       "      <td>2</td>\n",
       "      <td>400</td>\n",
       "      <td>74</td>\n",
       "      <td>flow=From-Normal-V51-Stribrek</td>\n",
       "      <td>False</td>\n",
       "      <td>1.0</td>\n",
       "    </tr>\n",
       "  </tbody>\n",
       "</table>\n",
       "</div>"
      ],
      "text/plain": [
       "                      StartTime          Dur  Proto        SrcAddr  Sport  \\\n",
       "407  2011/08/18 10:19:15.693956  3587.569824      2  147.32.84.164  54784   \n",
       "697  2011/08/18 10:19:18.143576   198.072739      2  147.32.84.164  56165   \n",
       "717  2011/08/18 10:19:18.303590   197.928329      2  147.32.84.164  57965   \n",
       "896  2011/08/18 10:19:19.838272     0.000399      1  147.32.84.170  45807   \n",
       "897  2011/08/18 10:19:19.839123     0.000400      1  147.32.84.170  35380   \n",
       "\n",
       "       Dir         DstAddr Dport  State  sTos  dTos  TotPkts  TotBytes  \\\n",
       "407    <?>  74.125.232.215   443  PA_PA   0.0   0.0     3049    978731   \n",
       "697    <?>  74.125.232.197    80  FA_FA   0.0   0.0       14       924   \n",
       "717    <?>  209.85.149.138    80  FA_FA   0.0   0.0       14       924   \n",
       "896    <->     147.32.80.9    53    CON   0.0   0.0        2       400   \n",
       "897    <->     147.32.80.9    53    CON   0.0   0.0        2       400   \n",
       "\n",
       "     SrcBytes                          Label  Botnet  feature  \n",
       "407    245317     flow=From-Normal-V51-Grill   False      2.0  \n",
       "697       462     flow=From-Normal-V51-Grill   False      2.0  \n",
       "717       462     flow=From-Normal-V51-Grill   False      2.0  \n",
       "896        74  flow=From-Normal-V51-Stribrek   False      1.0  \n",
       "897        74  flow=From-Normal-V51-Stribrek   False      1.0  "
      ]
     },
     "execution_count": 16,
     "metadata": {},
     "output_type": "execute_result"
    }
   ],
   "source": [
    "feature_disc = KBinsDiscretizer(n_bins=10, encode='ordinal', strategy='quantile').fit_transform(feature_comb)\n",
    "\n",
    "source10['feature'] = feature_disc\n",
    "source10.head()"
   ]
  },
  {
   "cell_type": "code",
   "execution_count": 17,
   "metadata": {},
   "outputs": [
    {
     "data": {
      "image/png": "[encoded data removed]",
      "text/plain": [
       "<Figure size 1080x360 with 2 Axes>"
      ]
     },
     "metadata": {},
     "output_type": "display_data"
    }
   ],
   "source": [
    "source10_botnet = source10[source10['Botnet'] == 1]\n",
    "source10_benign = source10[source10['Botnet'] != 1]\n",
    "\n",
    "botnet_result = np.unique(source10_botnet.feature.values, return_counts=True)\n",
    "benign_result = np.unique(source10_benign.feature.values, return_counts=True)\n",
    "\n",
    "plt.figure(figsize=(15,5))\n",
    "plt.subplot(121)\n",
    "plt.bar(botnet_result[0], botnet_result[1])\n",
    "plt.xticks(botnet_result[0])\n",
    "plt.xlabel(\"bin\")\n",
    "plt.ylabel(\"count\")\n",
    "plt.title(\"botnet\")\n",
    "plt.subplot(122)\n",
    "plt.bar(benign_result[0], benign_result[1])\n",
    "plt.xticks(benign_result[0])\n",
    "plt.xlabel(\"bin\")\n",
    "plt.ylabel(\"count\")\n",
    "plt.title(\"benign\")\n",
    "plt.show()"
   ]
  },
  {
   "cell_type": "markdown",
   "metadata": {},
   "source": [
    "### 1b. Answers and explanation"
   ]
  },
  {
   "cell_type": "code",
   "execution_count": null,
   "metadata": {},
   "outputs": [],
   "source": []
  },
  {
   "cell_type": "markdown",
   "metadata": {},
   "source": [
    "## 2. Frequent task – 1/2 A4 (Individual)"
   ]
  },
  {
   "cell_type": "markdown",
   "metadata": {},
   "source": [
    "### 2a. Use the SPACE SAVING algorithm"
   ]
  },
  {
   "cell_type": "code",
   "execution_count": null,
   "metadata": {},
   "outputs": [],
   "source": []
  },
  {
   "cell_type": "markdown",
   "metadata": {},
   "source": [
    "### 2b. Analysis and answers to the questions"
   ]
  },
  {
   "cell_type": "code",
   "execution_count": null,
   "metadata": {},
   "outputs": [],
   "source": []
  },
  {
   "cell_type": "markdown",
   "metadata": {},
   "source": [
    "## 3. Sketching task – 1/2 A4 (Individual)"
   ]
  },
  {
   "cell_type": "markdown",
   "metadata": {},
   "source": [
    "### 3a. COUNT-MIN sketch\n"
   ]
  },
  {
   "cell_type": "code",
   "execution_count": 18,
   "metadata": {},
   "outputs": [],
   "source": [
    "from tqdm import tqdm\n",
    "from hashlib import md5"
   ]
  },
  {
   "cell_type": "code",
   "execution_count": 19,
   "metadata": {},
   "outputs": [],
   "source": [
    "height = 0\n",
    "width = 0\n",
    "hashTable = np.zeros([height, width]).astype(np.int64)\n",
    "\n",
    "# initialize a hash table\n",
    "def initHashTable(h, w):\n",
    "    global height\n",
    "    global width\n",
    "    global hashTable\n",
    "\n",
    "    height = h\n",
    "    width = w\n",
    "    hashTable = np.zeros([height, width])\n",
    "\n",
    "\n",
    "# map the value to hash table\n",
    "def addToHash(value):\n",
    "    global width\n",
    "    global height\n",
    "    global hashTable\n",
    "    \n",
    "    for i in range(height):\n",
    "        hashTable[i, int(md5(bytes(value * (2*i+1), encoding='utf8')).hexdigest(),16) % width] += 1\n",
    "\n",
    "# retrive the width positions in the table\n",
    "def retriveHash(value):\n",
    "    global width\n",
    "    global height\n",
    "\n",
    "    return [(int(md5(bytes(value * (2*i+1), encoding='utf8')).hexdigest(),16) % width) for i in range(height)]\n",
    "\n",
    "\n",
    "# count min\n",
    "def count_min(value):\n",
    "    global hashTable\n",
    "    global height\n",
    "\n",
    "    return np.min(hashTable[np.arange(height),\n",
    "                            retriveHash(value)]).astype(np.int)\n",
    "\n",
    "\n",
    "# clearHashTable\n",
    "def clearHashTable():\n",
    "    global hashTable\n",
    "\n",
    "    hashTable = np.zeros([height, width])\n",
    "\n",
    "\n",
    "# string concatenation\n",
    "def concatenate(arr: np.array):\n",
    "    string = ''\n",
    "    for sub in arr:\n",
    "        string += sub\n",
    "    return string"
   ]
  },
  {
   "cell_type": "code",
   "execution_count": 20,
   "metadata": {},
   "outputs": [
    {
     "name": "stdout",
     "output_type": "stream",
     "text": [
      "the first 10 values: ['2' '2' '2' '1' '1' '1' '2' '2' '2' '2']\n"
     ]
    }
   ],
   "source": [
    "# load the stream to memory\n",
    "cm_stream = source10.feature.values.astype(np.int16).astype(np.str)\n",
    "\n",
    "print(\"the first 10 values:\", cm_stream[:10])"
   ]
  },
  {
   "cell_type": "code",
   "execution_count": 21,
   "metadata": {},
   "outputs": [
    {
     "name": "stderr",
     "output_type": "stream",
     "text": [
      "100%|████████████████████████████████████████████████████████████████████████████████████| 9/9 [02:13<00:00, 14.86s/it]\n"
     ]
    }
   ],
   "source": [
    "# initialize actual count\n",
    "dict_name = []\n",
    "for i in ['0', '1', '2']:\n",
    "    for j in ['0', '1', '2']:\n",
    "        for k in ['0', '1', '2']:\n",
    "            dict_name.append(i+j+k)\n",
    "initial_value = np.zeros(3**3).astype(np.int32)\n",
    "actual_count = dict(zip(dict_name, initial_value))\n",
    "\n",
    "for i in range(len(cm_stream)-2):\n",
    "    temp = concatenate(cm_stream[i:i+3])\n",
    "    actual_count[temp] += 1\n",
    "actual_top10 = sorted(actual_count.items(), key=lambda x:x[1], reverse=True)[:10]\n",
    "\n",
    "err_top10 = []\n",
    "height_width = []\n",
    "for h in tqdm(range(1, 10)):\n",
    "    for w in range(1,10):\n",
    "        height_width.append([h,w])\n",
    "        # initialize count-min sketching matrix\n",
    "        initHashTable(h, w) # for different combination of width and height\n",
    "\n",
    "        # counting\n",
    "        for i in range(len(cm_stream)-2):\n",
    "            temp = concatenate(cm_stream[i:i+3])\n",
    "#             actual_count[temp] += 1\n",
    "            addToHash(temp)\n",
    "\n",
    "        temp = []\n",
    "        for name_ in dict_name:\n",
    "            temp.append(count_min(name_))\n",
    "        cm_count = dict(zip(dict_name, temp))\n",
    "\n",
    "        # compare\n",
    "#         actual_top10 = sorted(actual_count.items(), key=lambda x:x[1], reverse=True)[:10]\n",
    "        cm_top10 = sorted(cm_count.items(), key=lambda x:x[1], reverse=True)[:10]\n",
    "        err_top10.append(np.sum(np.abs([actual_top10[i][1] - cm_top10[i][1] for i in range(10)])))"
   ]
  },
  {
   "cell_type": "code",
   "execution_count": 22,
   "metadata": {},
   "outputs": [
    {
     "name": "stdout",
     "output_type": "stream",
     "text": [
      "[1, 1] 1102145\n",
      "[1, 2] 962955\n",
      "[1, 3] 872635\n",
      "[1, 4] 378303\n",
      "[1, 5] 983485\n",
      "[1, 6] 692369\n",
      "[1, 7] 628211\n",
      "[1, 8] 154646\n",
      "[1, 9] 240513\n",
      "[2, 1] 1102145\n",
      "[2, 2] 774237\n",
      "[2, 3] 307527\n",
      "[2, 4] 42310\n",
      "[2, 5] 135937\n",
      "[2, 6] 160495\n",
      "[2, 7] 76727\n",
      "[2, 8] 18603\n",
      "[2, 9] 21356\n",
      "[3, 1] 1102145\n",
      "[3, 2] 489222\n",
      "[3, 3] 229660\n",
      "[3, 4] 24041\n",
      "[3, 5] 25381\n",
      "[3, 6] 130992\n",
      "[3, 7] 27062\n",
      "[3, 8] 6180\n",
      "[3, 9] 20988\n",
      "[4, 1] 1102145\n",
      "[4, 2] 292598\n",
      "[4, 3] 147078\n",
      "[4, 4] 15952\n",
      "[4, 5] 23049\n",
      "[4, 6] 103842\n",
      "[4, 7] 15482\n",
      "[4, 8] 5349\n",
      "[4, 9] 3447\n",
      "[5, 1] 1102145\n",
      "[5, 2] 187733\n",
      "[5, 3] 128221\n",
      "[5, 4] 15011\n",
      "[5, 5] 11753\n",
      "[5, 6] 7566\n",
      "[5, 7] 3648\n",
      "[5, 8] 4184\n",
      "[5, 9] 2322\n",
      "[6, 1] 1102145\n",
      "[6, 2] 82954\n",
      "[6, 3] 126957\n",
      "[6, 4] 13894\n",
      "[6, 5] 8635\n",
      "[6, 6] 6104\n",
      "[6, 7] 3537\n",
      "[6, 8] 3386\n",
      "[6, 9] 2227\n",
      "[7, 1] 1102145\n",
      "[7, 2] 82954\n",
      "[7, 3] 29993\n",
      "[7, 4] 10898\n",
      "[7, 5] 7821\n",
      "[7, 6] 4817\n",
      "[7, 7] 2774\n",
      "[7, 8] 2553\n",
      "[7, 9] 1924\n",
      "[8, 1] 1102145\n",
      "[8, 2] 74192\n",
      "[8, 3] 20565\n",
      "[8, 4] 9861\n",
      "[8, 5] 5562\n",
      "[8, 6] 4289\n",
      "[8, 7] 2210\n",
      "[8, 8] 1634\n",
      "[8, 9] 1845\n",
      "[9, 1] 1102145\n",
      "[9, 2] 48898\n",
      "[9, 3] 19518\n",
      "[9, 4] 8914\n",
      "[9, 5] 4420\n",
      "[9, 6] 3771\n",
      "[9, 7] 2210\n",
      "[9, 8] 1359\n",
      "[9, 9] 1786\n",
      "\n",
      "best height and width: [9, 8]\n"
     ]
    }
   ],
   "source": [
    "for i in range(len(height_width)):\n",
    "    print(height_width[i], err_top10[i])\n",
    "print()\n",
    "best_height_width = height_width[np.argmin(err_top10)]\n",
    "print(\"best height and width:\", best_height_width)"
   ]
  },
  {
   "cell_type": "code",
   "execution_count": 23,
   "metadata": {},
   "outputs": [],
   "source": [
    "# example when height = 9 and width = 8, total error = 1359\n",
    "\n",
    "initHashTable(9, 8)\n",
    "# counting\n",
    "for i in range(len(cm_stream) - 2):\n",
    "    temp = concatenate(cm_stream[i:i + 3])\n",
    "    addToHash(temp)\n",
    "\n",
    "temp = []\n",
    "for name_ in dict_name:\n",
    "    temp.append(count_min(name_))\n",
    "cm_count = dict(zip(dict_name, temp))\n",
    "\n",
    "# compare\n",
    "cm_top10 = sorted(cm_count.items(), key=lambda x: x[1], reverse=True)[:10]\n",
    "err_top10 = np.abs([actual_top10[i][1] - cm_top10[i][1] for i in range(10)])\n",
    "result = pd.DataFrame(\n",
    "    np.array([[actual_top10[i][0] for i in range(10)],\n",
    "              [actual_top10[i][1] for i in range(10)],\n",
    "              [cm_top10[i][1] for i in range(10)], err_top10]).T, columns=['3-grams', 'actual', 'cm', 'error'])"
   ]
  },
  {
   "cell_type": "code",
   "execution_count": 24,
   "metadata": {},
   "outputs": [
    {
     "data": {
      "text/html": [
       "<div>\n",
       "<style scoped>\n",
       "    .dataframe tbody tr th:only-of-type {\n",
       "        vertical-align: middle;\n",
       "    }\n",
       "\n",
       "    .dataframe tbody tr th {\n",
       "        vertical-align: top;\n",
       "    }\n",
       "\n",
       "    .dataframe thead th {\n",
       "        text-align: right;\n",
       "    }\n",
       "</style>\n",
       "<table border=\"1\" class=\"dataframe\">\n",
       "  <thead>\n",
       "    <tr style=\"text-align: right;\">\n",
       "      <th></th>\n",
       "      <th>3-grams</th>\n",
       "      <th>actual</th>\n",
       "      <th>cm</th>\n",
       "      <th>error</th>\n",
       "    </tr>\n",
       "  </thead>\n",
       "  <tbody>\n",
       "    <tr>\n",
       "      <th>0</th>\n",
       "      <td>000</td>\n",
       "      <td>96156</td>\n",
       "      <td>96156</td>\n",
       "      <td>0</td>\n",
       "    </tr>\n",
       "    <tr>\n",
       "      <th>1</th>\n",
       "      <td>222</td>\n",
       "      <td>10341</td>\n",
       "      <td>10718</td>\n",
       "      <td>377</td>\n",
       "    </tr>\n",
       "    <tr>\n",
       "      <th>2</th>\n",
       "      <td>111</td>\n",
       "      <td>8935</td>\n",
       "      <td>8935</td>\n",
       "      <td>0</td>\n",
       "    </tr>\n",
       "    <tr>\n",
       "      <th>3</th>\n",
       "      <td>211</td>\n",
       "      <td>971</td>\n",
       "      <td>1214</td>\n",
       "      <td>243</td>\n",
       "    </tr>\n",
       "    <tr>\n",
       "      <th>4</th>\n",
       "      <td>112</td>\n",
       "      <td>960</td>\n",
       "      <td>982</td>\n",
       "      <td>22</td>\n",
       "    </tr>\n",
       "    <tr>\n",
       "      <th>5</th>\n",
       "      <td>121</td>\n",
       "      <td>758</td>\n",
       "      <td>824</td>\n",
       "      <td>66</td>\n",
       "    </tr>\n",
       "    <tr>\n",
       "      <th>6</th>\n",
       "      <td>001</td>\n",
       "      <td>464</td>\n",
       "      <td>596</td>\n",
       "      <td>132</td>\n",
       "    </tr>\n",
       "    <tr>\n",
       "      <th>7</th>\n",
       "      <td>100</td>\n",
       "      <td>449</td>\n",
       "      <td>588</td>\n",
       "      <td>139</td>\n",
       "    </tr>\n",
       "    <tr>\n",
       "      <th>8</th>\n",
       "      <td>110</td>\n",
       "      <td>401</td>\n",
       "      <td>588</td>\n",
       "      <td>187</td>\n",
       "    </tr>\n",
       "    <tr>\n",
       "      <th>9</th>\n",
       "      <td>011</td>\n",
       "      <td>390</td>\n",
       "      <td>583</td>\n",
       "      <td>193</td>\n",
       "    </tr>\n",
       "  </tbody>\n",
       "</table>\n",
       "</div>"
      ],
      "text/plain": [
       "  3-grams actual     cm error\n",
       "0     000  96156  96156     0\n",
       "1     222  10341  10718   377\n",
       "2     111   8935   8935     0\n",
       "3     211    971   1214   243\n",
       "4     112    960    982    22\n",
       "5     121    758    824    66\n",
       "6     001    464    596   132\n",
       "7     100    449    588   139\n",
       "8     110    401    588   187\n",
       "9     011    390    583   193"
      ]
     },
     "execution_count": 24,
     "metadata": {},
     "output_type": "execute_result"
    }
   ],
   "source": [
    "result"
   ]
  },
  {
   "cell_type": "markdown",
   "metadata": {},
   "source": [
    "### 3b. Analysis and answers to the questions"
   ]
  },
  {
   "cell_type": "markdown",
   "metadata": {},
   "source": [
    "## 4. Min-wise locality sensitive hashing task – 1/2 A4 (Individual)"
   ]
  },
  {
   "cell_type": "markdown",
   "metadata": {},
   "source": [
    "### 4a. Implementation"
   ]
  },
  {
   "cell_type": "markdown",
   "metadata": {},
   "source": [
    "### 4b. Analysis and answers to the questions"
   ]
  },
  {
   "cell_type": "code",
   "execution_count": null,
   "metadata": {},
   "outputs": [],
   "source": []
  },
  {
   "cell_type": "markdown",
   "metadata": {},
   "source": [
    "## 5. Random hyperplane locality sensitive hashing task – 1/2 A4 (Individual)"
   ]
  },
  {
   "cell_type": "markdown",
   "metadata": {},
   "source": [
    "### 5a. Implementation - locality sensitive hashing"
   ]
  },
  {
   "cell_type": "code",
   "execution_count": 25,
   "metadata": {},
   "outputs": [],
   "source": [
    "def aggregation():\n",
    "    # group by pair of IP-addresses\n",
    "    raw = list(source10[['SrcAddr', 'DstAddr', 'feature']].groupby(['SrcAddr', 'DstAddr']))\n",
    "    # ip paris address list\n",
    "    srcip_list = []\n",
    "    dstip_list = []\n",
    "    # feature list\n",
    "    feature_list = []\n",
    "    for i in range(len(raw)):\n",
    "        srcip_list.append(raw[i][0][0])\n",
    "        dstip_list.append(raw[i][0][1])\n",
    "        feat_temp = raw[i][1].feature.values.astype(int).astype(str)\n",
    "        string_temp = ''\n",
    "        for j in range(len(feat_temp)):\n",
    "            string_temp += feat_temp[j]\n",
    "        feature_list.append(string_temp)\n",
    "    \n",
    "    return srcip_list, dstip_list, feature_list\n",
    "\n",
    "alltrigram = []\n",
    "for i in ['0', '1', '2']:\n",
    "    for j in ['0', '1', '2']:\n",
    "        for k in ['0', '1', '2']:\n",
    "            alltrigram.append(i+j+k)\n",
    "count_index = np.arange(0,len(alltrigram))\n",
    "dict_index = dict(zip(alltrigram, count_index))"
   ]
  },
  {
   "cell_type": "code",
   "execution_count": 26,
   "metadata": {},
   "outputs": [
    {
     "data": {
      "text/html": [
       "<div>\n",
       "<style scoped>\n",
       "    .dataframe tbody tr th:only-of-type {\n",
       "        vertical-align: middle;\n",
       "    }\n",
       "\n",
       "    .dataframe tbody tr th {\n",
       "        vertical-align: top;\n",
       "    }\n",
       "\n",
       "    .dataframe thead th {\n",
       "        text-align: right;\n",
       "    }\n",
       "</style>\n",
       "<table border=\"1\" class=\"dataframe\">\n",
       "  <thead>\n",
       "    <tr style=\"text-align: right;\">\n",
       "      <th></th>\n",
       "      <th>Source</th>\n",
       "      <th>Destination</th>\n",
       "      <th>Feature</th>\n",
       "      <th>Count</th>\n",
       "    </tr>\n",
       "  </thead>\n",
       "  <tbody>\n",
       "    <tr>\n",
       "      <th>0</th>\n",
       "      <td>147.32.1.20</td>\n",
       "      <td>147.32.85.20</td>\n",
       "      <td>0</td>\n",
       "      <td>[0, 0, 0, 0, 0, 0, 0, 0, 0, 0, 0, 0, 0, 0, 0, ...</td>\n",
       "    </tr>\n",
       "    <tr>\n",
       "      <th>1</th>\n",
       "      <td>147.32.1.20</td>\n",
       "      <td>147.32.85.7</td>\n",
       "      <td>00000</td>\n",
       "      <td>[0, 0, 0, 0, 0, 0, 0, 0, 0, 0, 0, 0, 0, 0, 0, ...</td>\n",
       "    </tr>\n",
       "    <tr>\n",
       "      <th>2</th>\n",
       "      <td>147.32.1.20</td>\n",
       "      <td>147.32.85.8</td>\n",
       "      <td>0</td>\n",
       "      <td>[0, 0, 0, 0, 0, 0, 0, 0, 0, 0, 0, 0, 0, 0, 0, ...</td>\n",
       "    </tr>\n",
       "    <tr>\n",
       "      <th>3</th>\n",
       "      <td>147.32.1.20</td>\n",
       "      <td>147.32.86.135</td>\n",
       "      <td>00</td>\n",
       "      <td>[0, 0, 0, 0, 0, 0, 0, 0, 0, 0, 0, 0, 0, 0, 0, ...</td>\n",
       "    </tr>\n",
       "    <tr>\n",
       "      <th>4</th>\n",
       "      <td>147.32.1.20</td>\n",
       "      <td>147.32.86.155</td>\n",
       "      <td>0</td>\n",
       "      <td>[0, 0, 0, 0, 0, 0, 0, 0, 0, 0, 0, 0, 0, 0, 0, ...</td>\n",
       "    </tr>\n",
       "    <tr>\n",
       "      <th>...</th>\n",
       "      <td>...</td>\n",
       "      <td>...</td>\n",
       "      <td>...</td>\n",
       "      <td>...</td>\n",
       "    </tr>\n",
       "    <tr>\n",
       "      <th>552</th>\n",
       "      <td>147.32.87.36</td>\n",
       "      <td>147.32.87.33</td>\n",
       "      <td>2222</td>\n",
       "      <td>[0, 0, 0, 0, 0, 0, 0, 0, 0, 0, 0, 0, 0, 0, 0, ...</td>\n",
       "    </tr>\n",
       "    <tr>\n",
       "      <th>553</th>\n",
       "      <td>147.32.87.36</td>\n",
       "      <td>66.249.66.211</td>\n",
       "      <td>210211111</td>\n",
       "      <td>[0, 0, 0, 0, 0, 0, 0, 0, 0, 0, 0, 0, 0, 0, 0, ...</td>\n",
       "    </tr>\n",
       "    <tr>\n",
       "      <th>554</th>\n",
       "      <td>147.32.87.36</td>\n",
       "      <td>66.249.72.152</td>\n",
       "      <td>1</td>\n",
       "      <td>[0, 0, 0, 0, 0, 0, 0, 0, 0, 0, 0, 0, 0, 0, 0, ...</td>\n",
       "    </tr>\n",
       "    <tr>\n",
       "      <th>555</th>\n",
       "      <td>147.32.87.36</td>\n",
       "      <td>66.249.72.228</td>\n",
       "      <td>221</td>\n",
       "      <td>[0, 0, 0, 0, 0, 0, 0, 0, 0, 0, 0, 0, 0, 0, 0, ...</td>\n",
       "    </tr>\n",
       "    <tr>\n",
       "      <th>556</th>\n",
       "      <td>147.32.87.36</td>\n",
       "      <td>90.177.228.23</td>\n",
       "      <td>2</td>\n",
       "      <td>[0, 0, 0, 0, 0, 0, 0, 0, 0, 0, 0, 0, 0, 0, 0, ...</td>\n",
       "    </tr>\n",
       "  </tbody>\n",
       "</table>\n",
       "<p>557 rows × 4 columns</p>\n",
       "</div>"
      ],
      "text/plain": [
       "           Source    Destination    Feature  \\\n",
       "0     147.32.1.20   147.32.85.20          0   \n",
       "1     147.32.1.20    147.32.85.7      00000   \n",
       "2     147.32.1.20    147.32.85.8          0   \n",
       "3     147.32.1.20  147.32.86.135         00   \n",
       "4     147.32.1.20  147.32.86.155          0   \n",
       "..            ...            ...        ...   \n",
       "552  147.32.87.36   147.32.87.33       2222   \n",
       "553  147.32.87.36  66.249.66.211  210211111   \n",
       "554  147.32.87.36  66.249.72.152          1   \n",
       "555  147.32.87.36  66.249.72.228        221   \n",
       "556  147.32.87.36  90.177.228.23          2   \n",
       "\n",
       "                                                 Count  \n",
       "0    [0, 0, 0, 0, 0, 0, 0, 0, 0, 0, 0, 0, 0, 0, 0, ...  \n",
       "1    [0, 0, 0, 0, 0, 0, 0, 0, 0, 0, 0, 0, 0, 0, 0, ...  \n",
       "2    [0, 0, 0, 0, 0, 0, 0, 0, 0, 0, 0, 0, 0, 0, 0, ...  \n",
       "3    [0, 0, 0, 0, 0, 0, 0, 0, 0, 0, 0, 0, 0, 0, 0, ...  \n",
       "4    [0, 0, 0, 0, 0, 0, 0, 0, 0, 0, 0, 0, 0, 0, 0, ...  \n",
       "..                                                 ...  \n",
       "552  [0, 0, 0, 0, 0, 0, 0, 0, 0, 0, 0, 0, 0, 0, 0, ...  \n",
       "553  [0, 0, 0, 0, 0, 0, 0, 0, 0, 0, 0, 0, 0, 0, 0, ...  \n",
       "554  [0, 0, 0, 0, 0, 0, 0, 0, 0, 0, 0, 0, 0, 0, 0, ...  \n",
       "555  [0, 0, 0, 0, 0, 0, 0, 0, 0, 0, 0, 0, 0, 0, 0, ...  \n",
       "556  [0, 0, 0, 0, 0, 0, 0, 0, 0, 0, 0, 0, 0, 0, 0, ...  \n",
       "\n",
       "[557 rows x 4 columns]"
      ]
     },
     "execution_count": 26,
     "metadata": {},
     "output_type": "execute_result"
    }
   ],
   "source": [
    "srcip_list, dstip_list, feature_list = aggregation()\n",
    "rh_data = pd.DataFrame()\n",
    "rh_data['Source'] = srcip_list\n",
    "rh_data[\"Destination\"] = dstip_list\n",
    "rh_data[\"Feature\"] = feature_list\n",
    "rh_data['Count'] = [[0]*27 for _ in range(len(rh_data))]\n",
    "rh_data"
   ]
  },
  {
   "cell_type": "code",
   "execution_count": 27,
   "metadata": {},
   "outputs": [
    {
     "data": {
      "text/html": [
       "<div>\n",
       "<style scoped>\n",
       "    .dataframe tbody tr th:only-of-type {\n",
       "        vertical-align: middle;\n",
       "    }\n",
       "\n",
       "    .dataframe tbody tr th {\n",
       "        vertical-align: top;\n",
       "    }\n",
       "\n",
       "    .dataframe thead th {\n",
       "        text-align: right;\n",
       "    }\n",
       "</style>\n",
       "<table border=\"1\" class=\"dataframe\">\n",
       "  <thead>\n",
       "    <tr style=\"text-align: right;\">\n",
       "      <th></th>\n",
       "      <th>Source</th>\n",
       "      <th>Destination</th>\n",
       "      <th>Feature</th>\n",
       "      <th>Count</th>\n",
       "    </tr>\n",
       "  </thead>\n",
       "  <tbody>\n",
       "    <tr>\n",
       "      <th>0</th>\n",
       "      <td>147.32.1.20</td>\n",
       "      <td>147.32.85.20</td>\n",
       "      <td>0</td>\n",
       "      <td>[0, 0, 0, 0, 0, 0, 0, 0, 0, 0, 0, 0, 0, 0, 0, ...</td>\n",
       "    </tr>\n",
       "    <tr>\n",
       "      <th>1</th>\n",
       "      <td>147.32.1.20</td>\n",
       "      <td>147.32.85.7</td>\n",
       "      <td>00000</td>\n",
       "      <td>[3, 0, 0, 0, 0, 0, 0, 0, 0, 0, 0, 0, 0, 0, 0, ...</td>\n",
       "    </tr>\n",
       "    <tr>\n",
       "      <th>2</th>\n",
       "      <td>147.32.1.20</td>\n",
       "      <td>147.32.85.8</td>\n",
       "      <td>0</td>\n",
       "      <td>[0, 0, 0, 0, 0, 0, 0, 0, 0, 0, 0, 0, 0, 0, 0, ...</td>\n",
       "    </tr>\n",
       "    <tr>\n",
       "      <th>3</th>\n",
       "      <td>147.32.1.20</td>\n",
       "      <td>147.32.86.135</td>\n",
       "      <td>00</td>\n",
       "      <td>[0, 0, 0, 0, 0, 0, 0, 0, 0, 0, 0, 0, 0, 0, 0, ...</td>\n",
       "    </tr>\n",
       "    <tr>\n",
       "      <th>4</th>\n",
       "      <td>147.32.1.20</td>\n",
       "      <td>147.32.86.155</td>\n",
       "      <td>0</td>\n",
       "      <td>[0, 0, 0, 0, 0, 0, 0, 0, 0, 0, 0, 0, 0, 0, 0, ...</td>\n",
       "    </tr>\n",
       "    <tr>\n",
       "      <th>...</th>\n",
       "      <td>...</td>\n",
       "      <td>...</td>\n",
       "      <td>...</td>\n",
       "      <td>...</td>\n",
       "    </tr>\n",
       "    <tr>\n",
       "      <th>552</th>\n",
       "      <td>147.32.87.36</td>\n",
       "      <td>147.32.87.33</td>\n",
       "      <td>2222</td>\n",
       "      <td>[0, 0, 0, 0, 0, 0, 0, 0, 0, 0, 0, 0, 0, 0, 0, ...</td>\n",
       "    </tr>\n",
       "    <tr>\n",
       "      <th>553</th>\n",
       "      <td>147.32.87.36</td>\n",
       "      <td>66.249.66.211</td>\n",
       "      <td>210211111</td>\n",
       "      <td>[0, 0, 0, 0, 0, 0, 0, 1, 0, 0, 0, 1, 0, 3, 0, ...</td>\n",
       "    </tr>\n",
       "    <tr>\n",
       "      <th>554</th>\n",
       "      <td>147.32.87.36</td>\n",
       "      <td>66.249.72.152</td>\n",
       "      <td>1</td>\n",
       "      <td>[0, 0, 0, 0, 0, 0, 0, 0, 0, 0, 0, 0, 0, 0, 0, ...</td>\n",
       "    </tr>\n",
       "    <tr>\n",
       "      <th>555</th>\n",
       "      <td>147.32.87.36</td>\n",
       "      <td>66.249.72.228</td>\n",
       "      <td>221</td>\n",
       "      <td>[0, 0, 0, 0, 0, 0, 0, 0, 0, 0, 0, 0, 0, 0, 0, ...</td>\n",
       "    </tr>\n",
       "    <tr>\n",
       "      <th>556</th>\n",
       "      <td>147.32.87.36</td>\n",
       "      <td>90.177.228.23</td>\n",
       "      <td>2</td>\n",
       "      <td>[0, 0, 0, 0, 0, 0, 0, 0, 0, 0, 0, 0, 0, 0, 0, ...</td>\n",
       "    </tr>\n",
       "  </tbody>\n",
       "</table>\n",
       "<p>557 rows × 4 columns</p>\n",
       "</div>"
      ],
      "text/plain": [
       "           Source    Destination    Feature  \\\n",
       "0     147.32.1.20   147.32.85.20          0   \n",
       "1     147.32.1.20    147.32.85.7      00000   \n",
       "2     147.32.1.20    147.32.85.8          0   \n",
       "3     147.32.1.20  147.32.86.135         00   \n",
       "4     147.32.1.20  147.32.86.155          0   \n",
       "..            ...            ...        ...   \n",
       "552  147.32.87.36   147.32.87.33       2222   \n",
       "553  147.32.87.36  66.249.66.211  210211111   \n",
       "554  147.32.87.36  66.249.72.152          1   \n",
       "555  147.32.87.36  66.249.72.228        221   \n",
       "556  147.32.87.36  90.177.228.23          2   \n",
       "\n",
       "                                                 Count  \n",
       "0    [0, 0, 0, 0, 0, 0, 0, 0, 0, 0, 0, 0, 0, 0, 0, ...  \n",
       "1    [3, 0, 0, 0, 0, 0, 0, 0, 0, 0, 0, 0, 0, 0, 0, ...  \n",
       "2    [0, 0, 0, 0, 0, 0, 0, 0, 0, 0, 0, 0, 0, 0, 0, ...  \n",
       "3    [0, 0, 0, 0, 0, 0, 0, 0, 0, 0, 0, 0, 0, 0, 0, ...  \n",
       "4    [0, 0, 0, 0, 0, 0, 0, 0, 0, 0, 0, 0, 0, 0, 0, ...  \n",
       "..                                                 ...  \n",
       "552  [0, 0, 0, 0, 0, 0, 0, 0, 0, 0, 0, 0, 0, 0, 0, ...  \n",
       "553  [0, 0, 0, 0, 0, 0, 0, 1, 0, 0, 0, 1, 0, 3, 0, ...  \n",
       "554  [0, 0, 0, 0, 0, 0, 0, 0, 0, 0, 0, 0, 0, 0, 0, ...  \n",
       "555  [0, 0, 0, 0, 0, 0, 0, 0, 0, 0, 0, 0, 0, 0, 0, ...  \n",
       "556  [0, 0, 0, 0, 0, 0, 0, 0, 0, 0, 0, 0, 0, 0, 0, ...  \n",
       "\n",
       "[557 rows x 4 columns]"
      ]
     },
     "execution_count": 27,
     "metadata": {},
     "output_type": "execute_result"
    }
   ],
   "source": [
    "# counting trigram\n",
    "for i in range(len(rh_data)):\n",
    "    temp_string = rh_data.Feature[i]\n",
    "    if(len(temp_string) >=3 ):\n",
    "        for j in range(len(temp_string)-2):\n",
    "            rh_data['Count'][i][dict_index[temp_string[j:j+3]]] += 1\n",
    "            \n",
    "rh_data"
   ]
  },
  {
   "cell_type": "code",
   "execution_count": 28,
   "metadata": {},
   "outputs": [],
   "source": [
    "# creating hyperplanes\n",
    "n_hyperplanes = 3\n",
    "output_size = 2 # 00 01 10 11\n",
    "\n",
    "random_hyperplanes = []\n",
    "for i in range(n_hyperplanes):\n",
    "    hyperplane = np.random.randn(output_size, 27)\n",
    "    random_hyperplanes.append(hyperplane)"
   ]
  },
  {
   "cell_type": "code",
   "execution_count": 29,
   "metadata": {},
   "outputs": [
    {
     "data": {
      "text/html": [
       "<div>\n",
       "<style scoped>\n",
       "    .dataframe tbody tr th:only-of-type {\n",
       "        vertical-align: middle;\n",
       "    }\n",
       "\n",
       "    .dataframe tbody tr th {\n",
       "        vertical-align: top;\n",
       "    }\n",
       "\n",
       "    .dataframe thead th {\n",
       "        text-align: right;\n",
       "    }\n",
       "</style>\n",
       "<table border=\"1\" class=\"dataframe\">\n",
       "  <thead>\n",
       "    <tr style=\"text-align: right;\">\n",
       "      <th></th>\n",
       "      <th>Source</th>\n",
       "      <th>Destination</th>\n",
       "      <th>Feature</th>\n",
       "      <th>Count</th>\n",
       "      <th>Hash</th>\n",
       "    </tr>\n",
       "  </thead>\n",
       "  <tbody>\n",
       "    <tr>\n",
       "      <th>0</th>\n",
       "      <td>147.32.1.20</td>\n",
       "      <td>147.32.85.20</td>\n",
       "      <td>0</td>\n",
       "      <td>[0, 0, 0, 0, 0, 0, 0, 0, 0, 0, 0, 0, 0, 0, 0, ...</td>\n",
       "      <td>[0, 0, 0]</td>\n",
       "    </tr>\n",
       "    <tr>\n",
       "      <th>1</th>\n",
       "      <td>147.32.1.20</td>\n",
       "      <td>147.32.85.7</td>\n",
       "      <td>00000</td>\n",
       "      <td>[3, 0, 0, 0, 0, 0, 0, 0, 0, 0, 0, 0, 0, 0, 0, ...</td>\n",
       "      <td>[0, 2, 2]</td>\n",
       "    </tr>\n",
       "    <tr>\n",
       "      <th>2</th>\n",
       "      <td>147.32.1.20</td>\n",
       "      <td>147.32.85.8</td>\n",
       "      <td>0</td>\n",
       "      <td>[0, 0, 0, 0, 0, 0, 0, 0, 0, 0, 0, 0, 0, 0, 0, ...</td>\n",
       "      <td>[0, 0, 0]</td>\n",
       "    </tr>\n",
       "    <tr>\n",
       "      <th>3</th>\n",
       "      <td>147.32.1.20</td>\n",
       "      <td>147.32.86.135</td>\n",
       "      <td>00</td>\n",
       "      <td>[0, 0, 0, 0, 0, 0, 0, 0, 0, 0, 0, 0, 0, 0, 0, ...</td>\n",
       "      <td>[0, 0, 0]</td>\n",
       "    </tr>\n",
       "    <tr>\n",
       "      <th>4</th>\n",
       "      <td>147.32.1.20</td>\n",
       "      <td>147.32.86.155</td>\n",
       "      <td>0</td>\n",
       "      <td>[0, 0, 0, 0, 0, 0, 0, 0, 0, 0, 0, 0, 0, 0, 0, ...</td>\n",
       "      <td>[0, 0, 0]</td>\n",
       "    </tr>\n",
       "    <tr>\n",
       "      <th>...</th>\n",
       "      <td>...</td>\n",
       "      <td>...</td>\n",
       "      <td>...</td>\n",
       "      <td>...</td>\n",
       "      <td>...</td>\n",
       "    </tr>\n",
       "    <tr>\n",
       "      <th>552</th>\n",
       "      <td>147.32.87.36</td>\n",
       "      <td>147.32.87.33</td>\n",
       "      <td>2222</td>\n",
       "      <td>[0, 0, 0, 0, 0, 0, 0, 0, 0, 0, 0, 0, 0, 0, 0, ...</td>\n",
       "      <td>[1, 0, 2]</td>\n",
       "    </tr>\n",
       "    <tr>\n",
       "      <th>553</th>\n",
       "      <td>147.32.87.36</td>\n",
       "      <td>66.249.66.211</td>\n",
       "      <td>210211111</td>\n",
       "      <td>[0, 0, 0, 0, 0, 0, 0, 1, 0, 0, 0, 1, 0, 3, 0, ...</td>\n",
       "      <td>[0, 2, 2]</td>\n",
       "    </tr>\n",
       "    <tr>\n",
       "      <th>554</th>\n",
       "      <td>147.32.87.36</td>\n",
       "      <td>66.249.72.152</td>\n",
       "      <td>1</td>\n",
       "      <td>[0, 0, 0, 0, 0, 0, 0, 0, 0, 0, 0, 0, 0, 0, 0, ...</td>\n",
       "      <td>[0, 0, 0]</td>\n",
       "    </tr>\n",
       "    <tr>\n",
       "      <th>555</th>\n",
       "      <td>147.32.87.36</td>\n",
       "      <td>66.249.72.228</td>\n",
       "      <td>221</td>\n",
       "      <td>[0, 0, 0, 0, 0, 0, 0, 0, 0, 0, 0, 0, 0, 0, 0, ...</td>\n",
       "      <td>[0, 0, 0]</td>\n",
       "    </tr>\n",
       "    <tr>\n",
       "      <th>556</th>\n",
       "      <td>147.32.87.36</td>\n",
       "      <td>90.177.228.23</td>\n",
       "      <td>2</td>\n",
       "      <td>[0, 0, 0, 0, 0, 0, 0, 0, 0, 0, 0, 0, 0, 0, 0, ...</td>\n",
       "      <td>[0, 0, 0]</td>\n",
       "    </tr>\n",
       "  </tbody>\n",
       "</table>\n",
       "<p>557 rows × 5 columns</p>\n",
       "</div>"
      ],
      "text/plain": [
       "           Source    Destination    Feature  \\\n",
       "0     147.32.1.20   147.32.85.20          0   \n",
       "1     147.32.1.20    147.32.85.7      00000   \n",
       "2     147.32.1.20    147.32.85.8          0   \n",
       "3     147.32.1.20  147.32.86.135         00   \n",
       "4     147.32.1.20  147.32.86.155          0   \n",
       "..            ...            ...        ...   \n",
       "552  147.32.87.36   147.32.87.33       2222   \n",
       "553  147.32.87.36  66.249.66.211  210211111   \n",
       "554  147.32.87.36  66.249.72.152          1   \n",
       "555  147.32.87.36  66.249.72.228        221   \n",
       "556  147.32.87.36  90.177.228.23          2   \n",
       "\n",
       "                                                 Count       Hash  \n",
       "0    [0, 0, 0, 0, 0, 0, 0, 0, 0, 0, 0, 0, 0, 0, 0, ...  [0, 0, 0]  \n",
       "1    [3, 0, 0, 0, 0, 0, 0, 0, 0, 0, 0, 0, 0, 0, 0, ...  [0, 2, 2]  \n",
       "2    [0, 0, 0, 0, 0, 0, 0, 0, 0, 0, 0, 0, 0, 0, 0, ...  [0, 0, 0]  \n",
       "3    [0, 0, 0, 0, 0, 0, 0, 0, 0, 0, 0, 0, 0, 0, 0, ...  [0, 0, 0]  \n",
       "4    [0, 0, 0, 0, 0, 0, 0, 0, 0, 0, 0, 0, 0, 0, 0, ...  [0, 0, 0]  \n",
       "..                                                 ...        ...  \n",
       "552  [0, 0, 0, 0, 0, 0, 0, 0, 0, 0, 0, 0, 0, 0, 0, ...  [1, 0, 2]  \n",
       "553  [0, 0, 0, 0, 0, 0, 0, 1, 0, 0, 0, 1, 0, 3, 0, ...  [0, 2, 2]  \n",
       "554  [0, 0, 0, 0, 0, 0, 0, 0, 0, 0, 0, 0, 0, 0, 0, ...  [0, 0, 0]  \n",
       "555  [0, 0, 0, 0, 0, 0, 0, 0, 0, 0, 0, 0, 0, 0, 0, ...  [0, 0, 0]  \n",
       "556  [0, 0, 0, 0, 0, 0, 0, 0, 0, 0, 0, 0, 0, 0, 0, ...  [0, 0, 0]  \n",
       "\n",
       "[557 rows x 5 columns]"
      ]
     },
     "execution_count": 29,
     "metadata": {},
     "output_type": "execute_result"
    }
   ],
   "source": [
    "# map to smaller size bins\n",
    "rh_hash = []\n",
    "for i in range(len(rh_data)):\n",
    "    temp_hash = []\n",
    "    for hyperplane in random_hyperplanes:\n",
    "        temp_hash.append((np.dot(hyperplane,rh_data.Count[i]) > 1).dot([1,2]))\n",
    "    rh_hash.append(temp_hash)\n",
    "\n",
    "rh_data[\"Hash\"] = rh_hash\n",
    "rh_data"
   ]
  },
  {
   "cell_type": "markdown",
   "metadata": {},
   "source": [
    "#### Run-time Comparison"
   ]
  },
  {
   "cell_type": "code",
   "execution_count": 30,
   "metadata": {},
   "outputs": [],
   "source": [
    "import time"
   ]
  },
  {
   "cell_type": "code",
   "execution_count": 31,
   "metadata": {},
   "outputs": [
    {
     "name": "stdout",
     "output_type": "stream",
     "text": [
      "Original Run-time:\n",
      "\tTotal time: 3.9210774898529053\n",
      "\n",
      "N-gram Smaller Space Run-time:\n",
      "\tTime for mapping: 3.951071262359619\n",
      "\tTime for distance calculation: 1.3876209259033203\n",
      "\tTotal time: 5.3386921882629395\n"
     ]
    }
   ],
   "source": [
    "print('Original Run-time:')\n",
    "start = time.time()\n",
    "allDistance = np.zeros([len(rh_data), len(rh_data)])\n",
    "for i in range(len(rh_data)):\n",
    "    for j in range(i+1, len(rh_data)):\n",
    "        distance = np.linalg.norm(np.array(rh_data.Count[i])-np.array(rh_data.Count[j]), ord=2)\n",
    "        allDistance[i][j] = allDistance[j][i] = distance\n",
    "end = time.time()\n",
    "print('\\tTotal time:', end-start)\n",
    "\n",
    "print()\n",
    "\n",
    "print('N-gram Smaller Space Run-time:')\n",
    "strat = time.time()\n",
    "allDistance = np.zeros([len(rh_data), len(rh_data)])\n",
    "rh_hash = []\n",
    "for i in range(len(rh_data)):\n",
    "    temp_hash = []\n",
    "    for hyperplane in random_hyperplanes:\n",
    "        temp_hash.append((np.dot(hyperplane,rh_data.Count[i]) > 1).dot([1,2]))\n",
    "    rh_hash.append(temp_hash)\n",
    "end = time.time()\n",
    "t1 = end-start\n",
    "print('\\tTime for mapping:', t1)\n",
    "start = time.time()\n",
    "for i in range(len(rh_hash)):\n",
    "    for j in range(i+1, len(rh_hash)):\n",
    "        distance = np.linalg.norm(np.array(rh_hash[i])-np.array(rh_hash[j]), ord=2)\n",
    "        allDistance[i][j] = allDistance[j][i] = distance\n",
    "end = time.time()\n",
    "t2 = end-start\n",
    "print('\\tTime for distance calculation:', t2)\n",
    "print('\\tTotal time:', t1+t2)"
   ]
  },
  {
   "cell_type": "code",
   "execution_count": 32,
   "metadata": {},
   "outputs": [
    {
     "data": {
      "text/html": [
       "<div>\n",
       "<style scoped>\n",
       "    .dataframe tbody tr th:only-of-type {\n",
       "        vertical-align: middle;\n",
       "    }\n",
       "\n",
       "    .dataframe tbody tr th {\n",
       "        vertical-align: top;\n",
       "    }\n",
       "\n",
       "    .dataframe thead th {\n",
       "        text-align: right;\n",
       "    }\n",
       "</style>\n",
       "<table border=\"1\" class=\"dataframe\">\n",
       "  <thead>\n",
       "    <tr style=\"text-align: right;\">\n",
       "      <th></th>\n",
       "      <th>Source</th>\n",
       "      <th>Destination</th>\n",
       "      <th>Feature</th>\n",
       "      <th>Count</th>\n",
       "      <th>Hash</th>\n",
       "      <th>Label</th>\n",
       "    </tr>\n",
       "  </thead>\n",
       "  <tbody>\n",
       "    <tr>\n",
       "      <th>0</th>\n",
       "      <td>147.32.1.20</td>\n",
       "      <td>147.32.85.20</td>\n",
       "      <td>0</td>\n",
       "      <td>[0, 0, 0, 0, 0, 0, 0, 0, 0, 0, 0, 0, 0, 0, 0, ...</td>\n",
       "      <td>[0, 0, 0]</td>\n",
       "      <td>False</td>\n",
       "    </tr>\n",
       "    <tr>\n",
       "      <th>1</th>\n",
       "      <td>147.32.1.20</td>\n",
       "      <td>147.32.85.7</td>\n",
       "      <td>00000</td>\n",
       "      <td>[3, 0, 0, 0, 0, 0, 0, 0, 0, 0, 0, 0, 0, 0, 0, ...</td>\n",
       "      <td>[0, 2, 2]</td>\n",
       "      <td>False</td>\n",
       "    </tr>\n",
       "    <tr>\n",
       "      <th>2</th>\n",
       "      <td>147.32.1.20</td>\n",
       "      <td>147.32.85.8</td>\n",
       "      <td>0</td>\n",
       "      <td>[0, 0, 0, 0, 0, 0, 0, 0, 0, 0, 0, 0, 0, 0, 0, ...</td>\n",
       "      <td>[0, 0, 0]</td>\n",
       "      <td>False</td>\n",
       "    </tr>\n",
       "    <tr>\n",
       "      <th>3</th>\n",
       "      <td>147.32.1.20</td>\n",
       "      <td>147.32.86.135</td>\n",
       "      <td>00</td>\n",
       "      <td>[0, 0, 0, 0, 0, 0, 0, 0, 0, 0, 0, 0, 0, 0, 0, ...</td>\n",
       "      <td>[0, 0, 0]</td>\n",
       "      <td>False</td>\n",
       "    </tr>\n",
       "    <tr>\n",
       "      <th>4</th>\n",
       "      <td>147.32.1.20</td>\n",
       "      <td>147.32.86.155</td>\n",
       "      <td>0</td>\n",
       "      <td>[0, 0, 0, 0, 0, 0, 0, 0, 0, 0, 0, 0, 0, 0, 0, ...</td>\n",
       "      <td>[0, 0, 0]</td>\n",
       "      <td>False</td>\n",
       "    </tr>\n",
       "    <tr>\n",
       "      <th>...</th>\n",
       "      <td>...</td>\n",
       "      <td>...</td>\n",
       "      <td>...</td>\n",
       "      <td>...</td>\n",
       "      <td>...</td>\n",
       "      <td>...</td>\n",
       "    </tr>\n",
       "    <tr>\n",
       "      <th>552</th>\n",
       "      <td>147.32.87.36</td>\n",
       "      <td>147.32.87.33</td>\n",
       "      <td>2222</td>\n",
       "      <td>[0, 0, 0, 0, 0, 0, 0, 0, 0, 0, 0, 0, 0, 0, 0, ...</td>\n",
       "      <td>[1, 0, 2]</td>\n",
       "      <td>False</td>\n",
       "    </tr>\n",
       "    <tr>\n",
       "      <th>553</th>\n",
       "      <td>147.32.87.36</td>\n",
       "      <td>66.249.66.211</td>\n",
       "      <td>210211111</td>\n",
       "      <td>[0, 0, 0, 0, 0, 0, 0, 1, 0, 0, 0, 1, 0, 3, 0, ...</td>\n",
       "      <td>[0, 2, 2]</td>\n",
       "      <td>False</td>\n",
       "    </tr>\n",
       "    <tr>\n",
       "      <th>554</th>\n",
       "      <td>147.32.87.36</td>\n",
       "      <td>66.249.72.152</td>\n",
       "      <td>1</td>\n",
       "      <td>[0, 0, 0, 0, 0, 0, 0, 0, 0, 0, 0, 0, 0, 0, 0, ...</td>\n",
       "      <td>[0, 0, 0]</td>\n",
       "      <td>False</td>\n",
       "    </tr>\n",
       "    <tr>\n",
       "      <th>555</th>\n",
       "      <td>147.32.87.36</td>\n",
       "      <td>66.249.72.228</td>\n",
       "      <td>221</td>\n",
       "      <td>[0, 0, 0, 0, 0, 0, 0, 0, 0, 0, 0, 0, 0, 0, 0, ...</td>\n",
       "      <td>[0, 0, 0]</td>\n",
       "      <td>False</td>\n",
       "    </tr>\n",
       "    <tr>\n",
       "      <th>556</th>\n",
       "      <td>147.32.87.36</td>\n",
       "      <td>90.177.228.23</td>\n",
       "      <td>2</td>\n",
       "      <td>[0, 0, 0, 0, 0, 0, 0, 0, 0, 0, 0, 0, 0, 0, 0, ...</td>\n",
       "      <td>[0, 0, 0]</td>\n",
       "      <td>False</td>\n",
       "    </tr>\n",
       "  </tbody>\n",
       "</table>\n",
       "<p>557 rows × 6 columns</p>\n",
       "</div>"
      ],
      "text/plain": [
       "           Source    Destination    Feature  \\\n",
       "0     147.32.1.20   147.32.85.20          0   \n",
       "1     147.32.1.20    147.32.85.7      00000   \n",
       "2     147.32.1.20    147.32.85.8          0   \n",
       "3     147.32.1.20  147.32.86.135         00   \n",
       "4     147.32.1.20  147.32.86.155          0   \n",
       "..            ...            ...        ...   \n",
       "552  147.32.87.36   147.32.87.33       2222   \n",
       "553  147.32.87.36  66.249.66.211  210211111   \n",
       "554  147.32.87.36  66.249.72.152          1   \n",
       "555  147.32.87.36  66.249.72.228        221   \n",
       "556  147.32.87.36  90.177.228.23          2   \n",
       "\n",
       "                                                 Count       Hash  Label  \n",
       "0    [0, 0, 0, 0, 0, 0, 0, 0, 0, 0, 0, 0, 0, 0, 0, ...  [0, 0, 0]  False  \n",
       "1    [3, 0, 0, 0, 0, 0, 0, 0, 0, 0, 0, 0, 0, 0, 0, ...  [0, 2, 2]  False  \n",
       "2    [0, 0, 0, 0, 0, 0, 0, 0, 0, 0, 0, 0, 0, 0, 0, ...  [0, 0, 0]  False  \n",
       "3    [0, 0, 0, 0, 0, 0, 0, 0, 0, 0, 0, 0, 0, 0, 0, ...  [0, 0, 0]  False  \n",
       "4    [0, 0, 0, 0, 0, 0, 0, 0, 0, 0, 0, 0, 0, 0, 0, ...  [0, 0, 0]  False  \n",
       "..                                                 ...        ...    ...  \n",
       "552  [0, 0, 0, 0, 0, 0, 0, 0, 0, 0, 0, 0, 0, 0, 0, ...  [1, 0, 2]  False  \n",
       "553  [0, 0, 0, 0, 0, 0, 0, 1, 0, 0, 0, 1, 0, 3, 0, ...  [0, 2, 2]  False  \n",
       "554  [0, 0, 0, 0, 0, 0, 0, 0, 0, 0, 0, 0, 0, 0, 0, ...  [0, 0, 0]  False  \n",
       "555  [0, 0, 0, 0, 0, 0, 0, 0, 0, 0, 0, 0, 0, 0, 0, ...  [0, 0, 0]  False  \n",
       "556  [0, 0, 0, 0, 0, 0, 0, 0, 0, 0, 0, 0, 0, 0, 0, ...  [0, 0, 0]  False  \n",
       "\n",
       "[557 rows x 6 columns]"
      ]
     },
     "execution_count": 32,
     "metadata": {},
     "output_type": "execute_result"
    }
   ],
   "source": [
    "label = []\n",
    "for i in range(len(rh_data)):\n",
    "    label.append(rh_data['Source'][i] in Botnet)\n",
    "rh_data[\"Label\"] = label\n",
    "rh_data"
   ]
  },
  {
   "cell_type": "code",
   "execution_count": 33,
   "metadata": {},
   "outputs": [
    {
     "name": "stdout",
     "output_type": "stream",
     "text": [
      "Botnet Hashing Result:\n",
      "- Hash:\n",
      " [list([0, 0, 0]) list([0, 0, 2]) list([0, 2, 2]) list([0, 2, 3])]\n",
      "- Count:\n",
      " [72 11 10 10]\n",
      "\n",
      "- Benign Hashing Result:\n",
      "- Hash:\n",
      " [list([0, 0, 0]) list([0, 0, 1]) list([0, 0, 2]) list([0, 1, 0])\n",
      " list([0, 1, 2]) list([0, 2, 0]) list([0, 2, 2]) list([0, 2, 3])\n",
      " list([1, 0, 2]) list([2, 0, 2])]\n",
      "- Count:\n",
      " [189   3  38   1   1   5  48  25 143   1]\n"
     ]
    }
   ],
   "source": [
    "print('Botnet Hashing Result:')\n",
    "eval_botnet = np.unique(rh_data.loc[rh_data['Label']==True, ['Hash']], return_counts=True)\n",
    "print(\"- Hash:\\n\", eval_botnet[0])\n",
    "print(\"- Count:\\n\", eval_botnet[1])\n",
    "print()\n",
    "print('- Benign Hashing Result:')\n",
    "eval_benign = np.unique(rh_data.loc[rh_data['Label']!=True, ['Hash']], return_counts=True)\n",
    "print(\"- Hash:\\n\", eval_benign[0])\n",
    "print(\"- Count:\\n\", eval_benign[1])"
   ]
  },
  {
   "cell_type": "markdown",
   "metadata": {},
   "source": [
    "### 5b. Analysis and answers to the questions. Also provide relevant plots."
   ]
  },
  {
   "cell_type": "code",
   "execution_count": null,
   "metadata": {},
   "outputs": [],
   "source": []
  },
  {
   "cell_type": "markdown",
   "metadata": {},
   "source": [
    "## 6.Botnet profiling task – 1/2 A4"
   ]
  },
  {
   "cell_type": "code",
   "execution_count": 34,
   "metadata": {},
   "outputs": [],
   "source": [
    "def discretization(df: pd.DataFrame, quantile=10, plot=False, sel=10):\n",
    "    df = df[~df.Label.str.contains(\"Background\")]\n",
    "\n",
    "    if sel in [9, 10]:\n",
    "        Botnet = [\n",
    "            \"147.32.84.165\", \"147.32.84.191\", \"147.32.84.192\", \"147.32.84.193\",\n",
    "            \"147.32.84.204\", \"147.32.84.205\", \"147.32.84.206\", \"147.32.84.207\",\n",
    "            \"147.32.84.208\", \"147.32.84.209\"\n",
    "        ]\n",
    "    elif sel in [11, 12]:\n",
    "        Botnet = ['147.32.84.165', '147.32.84.191', '147.32.84.192']\n",
    "    df['Botnet'] = df['SrcAddr'].isin(Botnet)\n",
    "\n",
    "    protocol_encoder = {'arp': 0, 'udp': 1, 'tcp': 2, 'icmp': 3, 'rtp': 4}\n",
    "    df[\"Proto\"].replace('arp', protocol_encoder['arp'], inplace=True)\n",
    "    df[\"Proto\"].replace('udp', protocol_encoder['udp'], inplace=True)\n",
    "    df[\"Proto\"].replace('tcp', protocol_encoder['tcp'], inplace=True)\n",
    "    df[\"Proto\"].replace('icmp', protocol_encoder['icmp'], inplace=True)\n",
    "    df[\"Proto\"].replace('rtp', protocol_encoder['rtp'], inplace=True)\n",
    "\n",
    "    features = df[['Dur', 'Proto']]\n",
    "    features_norm = Normalizer().fit_transform(features)\n",
    "    pca = PCA(n_components=1)\n",
    "    feature_comb = pca.fit_transform(features_norm,\n",
    "                                     y=df['Botnet'].values).reshape(-1, 1)\n",
    "\n",
    "    spearman = []\n",
    "    for i in range(2, 50):\n",
    "        KBins = KBinsDiscretizer(n_bins=i,\n",
    "                                 encode='ordinal',\n",
    "                                 strategy='quantile')\n",
    "        feature_disc = KBins.fit_transform(feature_comb)\n",
    "        spearman.append(spearmanr(feature_disc, feature_comb)[0])\n",
    "    plt.figure(figsize=(15, 5))\n",
    "    plt.plot(np.arange(2, 50), spearman)\n",
    "    plt.xticks(np.arange(2, 50))\n",
    "    plt.xlabel(\"number of bins\")\n",
    "    plt.ylabel(\"spearman relation\")\n",
    "    plt.show()\n",
    "\n",
    "    feature_disc = KBinsDiscretizer(\n",
    "        n_bins=quantile, encode='ordinal',\n",
    "        strategy='quantile').fit_transform(feature_comb)\n",
    "    df['feature'] = feature_disc\n",
    "\n",
    "    if (plot):\n",
    "        df_botnet = df[df['Botnet'] == 1]\n",
    "        df_benign = df[df['Botnet'] != 1]\n",
    "\n",
    "        botnet_result = np.unique(df_botnet.feature.values, return_counts=True)\n",
    "        benign_result = np.unique(df_benign.feature.values, return_counts=True)\n",
    "\n",
    "        plt.figure(figsize=(15, 5))\n",
    "        plt.subplot(121)\n",
    "        plt.bar(botnet_result[0], botnet_result[1])\n",
    "        plt.xticks(botnet_result[0])\n",
    "        plt.xlabel(\"bin\")\n",
    "        plt.ylabel(\"count\")\n",
    "        plt.title(\"botnet\")\n",
    "        plt.subplot(122)\n",
    "        plt.bar(benign_result[0], benign_result[1])\n",
    "        plt.xticks(benign_result[0])\n",
    "        plt.xlabel(\"bin\")\n",
    "        plt.ylabel(\"count\")\n",
    "        plt.title(\"benign\")\n",
    "        plt.show()\n",
    "\n",
    "    return df\n",
    "\n",
    "\n",
    "def aggregation(df: pd.DataFrame):\n",
    "    # group by source address\n",
    "    raw = list(df[['SrcAddr', 'feature', 'Botnet']].groupby(['SrcAddr']))\n",
    "    srcip_list = []  # source list\n",
    "    feature_list = []  # feature list\n",
    "    label_list = []  # label list\n",
    "    for i in range(len(raw)):\n",
    "        srcip_list.append(raw[i][0])\n",
    "        label_list.append(raw[i][1].Botnet.values[0])\n",
    "        feat_temp = raw[i][1].feature.values.astype(int).astype(str)\n",
    "        string_temp = ''\n",
    "        for j in range(len(feat_temp)):\n",
    "            string_temp += feat_temp[j]\n",
    "        feature_list.append(string_temp)\n",
    "\n",
    "    new_df = pd.DataFrame()\n",
    "    new_df[\"Source\"] = srcip_list\n",
    "    new_df[\"Feature\"] = feature_list\n",
    "    new_df[\"Count\"] = [[0] * 27 for _ in range(len(new_df))]\n",
    "    new_df[\"Label\"] = label_list\n",
    "\n",
    "    return new_df\n",
    "\n",
    "\n",
    "alltrigram = []\n",
    "for i in ['0', '1', '2']:\n",
    "    for j in ['0', '1', '2']:\n",
    "        for k in ['0', '1', '2']:\n",
    "            alltrigram.append(i + j + k)\n",
    "count_index = np.arange(0, len(alltrigram))\n",
    "dict_index = dict(zip(alltrigram, count_index))\n",
    "\n",
    "\n",
    "def count_gram(df: pd.DataFrame):\n",
    "    # counting trigram\n",
    "    for i in range(len(df)):\n",
    "        temp_string = df.Feature[i]\n",
    "        if (len(temp_string) >= 3):\n",
    "            for j in range(len(temp_string) - 2):\n",
    "                df['Count'][i][dict_index[temp_string[j:j + 3]]] += 1\n",
    "\n",
    "\n",
    "def cosine_dist(df: pd.DataFrame, selected_botnet: str):\n",
    "    sel_botnet_count = df.loc[df['Source'] == selected_botnet,\n",
    "                              ['Count']].values[0, 0]\n",
    "    distance_list = []\n",
    "    for i in range(len(df)):\n",
    "        temp_count = df.iloc[i, 2]\n",
    "        distance_list.append(cosine_distances([sel_botnet_count],\n",
    "                                              [temp_count])[0,0])\n",
    "\n",
    "    return distance_list\n",
    "\n",
    "def botnet_pred(df: pd.DataFrame):\n",
    "    threshold = df.Distance.mean()\n",
    "    prediction_list = []\n",
    "    for i in range(len(df)):\n",
    "        if(df.Distance[i] > 0.5):\n",
    "            prediction_list.append(False)\n",
    "        else:\n",
    "            prediction_list.append(True)\n",
    "    \n",
    "    return prediction_list"
   ]
  },
  {
   "cell_type": "markdown",
   "metadata": {},
   "source": [
    "### 6a. Learn a sequential model"
   ]
  },
  {
   "cell_type": "code",
   "execution_count": 35,
   "metadata": {},
   "outputs": [],
   "source": [
    "from sklearn.metrics.pairwise import cosine_distances\n",
    "from sklearn.metrics import confusion_matrix\n",
    "import seaborn as sns"
   ]
  },
  {
   "cell_type": "markdown",
   "metadata": {},
   "source": [
    "#### Load Dataset & Data Preprocessing"
   ]
  },
  {
   "cell_type": "code",
   "execution_count": 36,
   "metadata": {},
   "outputs": [
    {
     "name": "stdout",
     "output_type": "stream",
     "text": [
      "CTU-13 scenarios 9\n"
     ]
    },
    {
     "data": {
      "image/png": "[encoded data removed]",
      "text/plain": [
       "<Figure size 1080x360 with 1 Axes>"
      ]
     },
     "metadata": {},
     "output_type": "display_data"
    },
    {
     "data": {
      "image/png": "[encoded data removed]",
      "text/plain": [
       "<Figure size 1080x360 with 2 Axes>"
      ]
     },
     "metadata": {},
     "output_type": "display_data"
    },
    {
     "name": "stdout",
     "output_type": "stream",
     "text": [
      "CTU-13 scenarios 10\n"
     ]
    },
    {
     "data": {
      "image/png": "[encoded data removed]",
      "text/plain": [
       "<Figure size 1080x360 with 1 Axes>"
      ]
     },
     "metadata": {},
     "output_type": "display_data"
    },
    {
     "data": {
      "image/png": "[encoded data removed]",
      "text/plain": [
       "<Figure size 1080x360 with 2 Axes>"
      ]
     },
     "metadata": {},
     "output_type": "display_data"
    },
    {
     "name": "stdout",
     "output_type": "stream",
     "text": [
      "CTU-13 scenarios 11\n"
     ]
    },
    {
     "data": {
      "image/png": "[encoded data removed]",
      "text/plain": [
       "<Figure size 1080x360 with 1 Axes>"
      ]
     },
     "metadata": {},
     "output_type": "display_data"
    },
    {
     "data": {
      "image/png": "[encoded data removed]",
      "text/plain": [
       "<Figure size 1080x360 with 2 Axes>"
      ]
     },
     "metadata": {},
     "output_type": "display_data"
    },
    {
     "name": "stdout",
     "output_type": "stream",
     "text": [
      "CTU-13 scenarios 12\n"
     ]
    },
    {
     "data": {
      "image/png": "[encoded data removed]",
      "text/plain": [
       "<Figure size 1080x360 with 1 Axes>"
      ]
     },
     "metadata": {},
     "output_type": "display_data"
    },
    {
     "data": {
      "image/png": "[encoded data removed]",
      "text/plain": [
       "<Figure size 1080x360 with 2 Axes>"
      ]
     },
     "metadata": {},
     "output_type": "display_data"
    }
   ],
   "source": [
    "# load data\n",
    "raw_source9 = pd.read_csv('./dataset/dataset_9/capture20110817.binetflow')\n",
    "raw_source10 = pd.read_csv('./dataset/dataset_10/capture20110818.binetflow')\n",
    "raw_source11 = pd.read_csv('./dataset/dataset_11/capture20110818-2.binetflow')\n",
    "raw_source12 = pd.read_csv('./dataset/dataset_12/capture20110819.binetflow')\n",
    "\n",
    "# preprocessing\n",
    "print(\"CTU-13 scenarios 9\")\n",
    "source9 = discretization(raw_source9, quantile=3, plot=True, sel=9)\n",
    "print(\"CTU-13 scenarios 10\")\n",
    "source10 = discretization(raw_source10, quantile=10, plot=True, sel=10)\n",
    "print(\"CTU-13 scenarios 11\")\n",
    "source11 = discretization(raw_source11, quantile=7, plot=True, sel=11)\n",
    "print(\"CTU-13 scenarios 12\")\n",
    "source12 = discretization(raw_source12, quantile=3, plot=True, sel=12)"
   ]
  },
  {
   "cell_type": "code",
   "execution_count": 37,
   "metadata": {},
   "outputs": [],
   "source": [
    "# Extract features, source IPs and label\n",
    "new_source9 = aggregation(source9)\n",
    "new_source10 = aggregation(source10)\n",
    "new_source11 = aggregation(source11)\n",
    "new_source12 = aggregation(source12)"
   ]
  },
  {
   "cell_type": "code",
   "execution_count": 38,
   "metadata": {},
   "outputs": [],
   "source": [
    "# counting\n",
    "count_gram(new_source9)\n",
    "count_gram(new_source10)\n",
    "count_gram(new_source11)\n",
    "count_gram(new_source12)"
   ]
  },
  {
   "cell_type": "markdown",
   "metadata": {},
   "source": [
    "#### Prediction\n",
    "selected_infected_host = '147.32.84.165'"
   ]
  },
  {
   "cell_type": "code",
   "execution_count": 39,
   "metadata": {},
   "outputs": [],
   "source": [
    "# using cosine distance\n",
    "new_source9[\"Distance\"] = cosine_dist(new_source9, '147.32.84.165')\n",
    "new_source10[\"Distance\"] = cosine_dist(new_source10, '147.32.84.165')\n",
    "new_source11[\"Distance\"] = cosine_dist(new_source11, '147.32.84.165')\n",
    "new_source12[\"Distance\"] = cosine_dist(new_source12, '147.32.84.165')"
   ]
  },
  {
   "cell_type": "code",
   "execution_count": 40,
   "metadata": {},
   "outputs": [],
   "source": [
    "# threshold = the mean of the distance\n",
    "# we expect that the IPs with a distance larger than the mean is the benign ones\n",
    "# and the IPs with distance less than the mean is the infected ones/botnets\n",
    "new_source9[\"Prediction\"] = botnet_pred(new_source9)\n",
    "new_source10[\"Prediction\"] = botnet_pred(new_source10)\n",
    "new_source11[\"Prediction\"] = botnet_pred(new_source11)\n",
    "new_source12[\"Prediction\"] = botnet_pred(new_source12)"
   ]
  },
  {
   "cell_type": "markdown",
   "metadata": {},
   "source": [
    "#### Evaluation"
   ]
  },
  {
   "cell_type": "code",
   "execution_count": 41,
   "metadata": {},
   "outputs": [
    {
     "name": "stdout",
     "output_type": "stream",
     "text": [
      "Scenario 9\n"
     ]
    },
    {
     "data": {
      "image/png": "[encoded data removed]",
      "text/plain": [
       "<Figure size 460.8x403.2 with 2 Axes>"
      ]
     },
     "metadata": {},
     "output_type": "display_data"
    }
   ],
   "source": [
    "print(\"Scenario 9\")\n",
    "result9 = confusion_matrix(new_source9.Label.values, new_source9.Prediction.values)\n",
    "sns.heatmap(result9, annot=True, cmap='Blues')\n",
    "plt.show()"
   ]
  },
  {
   "cell_type": "code",
   "execution_count": 42,
   "metadata": {},
   "outputs": [
    {
     "name": "stdout",
     "output_type": "stream",
     "text": [
      "Scenario 10\n"
     ]
    },
    {
     "data": {
      "image/png": "[encoded data removed]",
      "text/plain": [
       "<Figure size 460.8x403.2 with 2 Axes>"
      ]
     },
     "metadata": {},
     "output_type": "display_data"
    }
   ],
   "source": [
    "print(\"Scenario 10\")\n",
    "result10 = confusion_matrix(new_source10.Label.values, new_source10.Prediction.values)\n",
    "sns.heatmap(result10, annot=True, cmap='Blues')\n",
    "plt.show()"
   ]
  },
  {
   "cell_type": "code",
   "execution_count": 43,
   "metadata": {},
   "outputs": [
    {
     "name": "stdout",
     "output_type": "stream",
     "text": [
      "Scenario 11\n"
     ]
    },
    {
     "data": {
      "image/png": "[encoded data removed]",
      "text/plain": [
       "<Figure size 460.8x403.2 with 2 Axes>"
      ]
     },
     "metadata": {},
     "output_type": "display_data"
    }
   ],
   "source": [
    "print(\"Scenario 11\")\n",
    "result11 = confusion_matrix(new_source11.Label.values, new_source11.Prediction.values)\n",
    "sns.heatmap(result11, annot=True, cmap='Blues')\n",
    "plt.show()"
   ]
  },
  {
   "cell_type": "code",
   "execution_count": 44,
   "metadata": {},
   "outputs": [
    {
     "name": "stdout",
     "output_type": "stream",
     "text": [
      "Scenario 12\n"
     ]
    },
    {
     "data": {
      "image/png": "[encoded data removed]",
      "text/plain": [
       "<Figure size 460.8x403.2 with 2 Axes>"
      ]
     },
     "metadata": {},
     "output_type": "display_data"
    }
   ],
   "source": [
    "print(\"Scenario 12\")\n",
    "result12 = confusion_matrix(new_source12.Label.values, new_source12.Prediction.values)\n",
    "sns.heatmap(result12, annot=True, cmap='Blues')\n",
    "plt.show()"
   ]
  },
  {
   "cell_type": "markdown",
   "metadata": {},
   "source": [
    "### 6b. Analysis and answers to the questions."
   ]
  },
  {
   "cell_type": "markdown",
   "metadata": {},
   "source": [
    "## 7.Botnet fingerprinting task – 1/2 A4"
   ]
  },
  {
   "cell_type": "markdown",
   "metadata": {},
   "source": [
    "### 7a. Fingerprinting\n"
   ]
  },
  {
   "cell_type": "code",
   "execution_count": null,
   "metadata": {},
   "outputs": [],
   "source": []
  },
  {
   "cell_type": "markdown",
   "metadata": {},
   "source": [
    "### 7b. Analysis and answers to the questions."
   ]
  },
  {
   "cell_type": "code",
   "execution_count": null,
   "metadata": {},
   "outputs": [],
   "source": []
  },
  {
   "cell_type": "markdown",
   "metadata": {},
   "source": [
    "## 8. Bonus Task 1/2 A4"
   ]
  },
  {
   "cell_type": "code",
   "execution_count": 45,
   "metadata": {},
   "outputs": [],
   "source": [
    "from sklearn.preprocessing import OrdinalEncoder\n",
    "from sklearn.ensemble import RandomForestClassifier\n",
    "from sklearn.metrics import plot_confusion_matrix\n",
    "from sklearn.model_selection import train_test_split\n",
    "from imblearn.over_sampling import SMOTE\n",
    "\n",
    "from tqdm import tqdm"
   ]
  },
  {
   "cell_type": "code",
   "execution_count": 46,
   "metadata": {},
   "outputs": [],
   "source": [
    "def smote(X,y):\n",
    "    sm = SMOTE(random_state=42)\n",
    "    X_res, y_res = sm.fit_resample(X, y)\n",
    "    return X_res, y_res\n",
    "\n",
    "Botnet = [\n",
    "    \"147.32.84.165\", \"147.32.84.191\", \"147.32.84.192\", \"147.32.84.193\",\n",
    "    \"147.32.84.204\", \"147.32.84.205\", \"147.32.84.206\", \"147.32.84.207\",\n",
    "    \"147.32.84.208\", \"147.32.84.209\"\n",
    "]"
   ]
  },
  {
   "cell_type": "markdown",
   "metadata": {},
   "source": [
    "### 8a. Provide implementation and analysis."
   ]
  },
  {
   "cell_type": "code",
   "execution_count": 47,
   "metadata": {},
   "outputs": [
    {
     "name": "stderr",
     "output_type": "stream",
     "text": [
      "100%|████████████████████████████████████████████████████████████████████████████████████| 4/4 [00:02<00:00,  1.48it/s]\n"
     ]
    }
   ],
   "source": [
    "# load data\n",
    "raw_source9 = pd.read_csv('./dataset/dataset_9/capture20110817.binetflow')\n",
    "raw_source10 = pd.read_csv('./dataset/dataset_10/capture20110818.binetflow')\n",
    "raw_source11 = pd.read_csv('./dataset/dataset_11/capture20110818-2.binetflow')\n",
    "raw_source12 = pd.read_csv('./dataset/dataset_12/capture20110819.binetflow')\n",
    "\n",
    "source_list = [raw_source9, raw_source10, raw_source11, raw_source12]\n",
    "\n",
    "encoder_list = []\n",
    "# preprocessing: pruning, Labelling, fillna, encoding\n",
    "for i in tqdm(range(len(source_list))):\n",
    "    enc = OrdinalEncoder()\n",
    "    source_list[i] = source_list[i][~(source_list[i]).Label.str.contains(\"Background\")] # background flows removed\n",
    "    source_list[i].drop(columns = [\"StartTime\"], inplace=True) # drop timestamp\n",
    "    source_list[i][\"Botnet\"] = source_list[i]['SrcAddr'].isin(Botnet) # tag\n",
    "    source_list[i].drop(columns = ['SrcAddr'], inplace=True) # drop cheat feature\n",
    "    for col in source_list[i].columns: # fill NAN\n",
    "        if(type(source_list[i][col].values[0]) == str):\n",
    "            source_list[i][col].fillna(value=\"unknown\", inplace=True)\n",
    "        else:\n",
    "            source_list[i][col].fillna(value=source_list[i][col].mean(), inplace=True)\n",
    "    source_list[i] = enc.fit_transform(source_list[i])\n",
    "    encoder_list.append(enc)"
   ]
  },
  {
   "cell_type": "code",
   "execution_count": 48,
   "metadata": {},
   "outputs": [],
   "source": [
    "X = []\n",
    "y = []\n",
    "for i in range(len(source_list)):\n",
    "    X.append(source_list[i][:, :-1])\n",
    "    y.append(source_list[i][:, -1])"
   ]
  },
  {
   "cell_type": "code",
   "execution_count": 49,
   "metadata": {},
   "outputs": [
    {
     "name": "stderr",
     "output_type": "stream",
     "text": [
      "100%|████████████████████████████████████████████████████████████████████████████████████| 4/4 [00:34<00:00,  8.58s/it]\n"
     ]
    },
    {
     "data": {
      "image/png": "[encoded data removed]",
      "text/plain": [
       "<Figure size 460.8x403.2 with 2 Axes>"
      ]
     },
     "metadata": {},
     "output_type": "display_data"
    },
    {
     "data": {
      "image/png": "[encoded data removed]",
      "text/plain": [
       "<Figure size 460.8x403.2 with 2 Axes>"
      ]
     },
     "metadata": {},
     "output_type": "display_data"
    },
    {
     "data": {
      "image/png": "[encoded data removed]",
      "text/plain": [
       "<Figure size 460.8x403.2 with 2 Axes>"
      ]
     },
     "metadata": {},
     "output_type": "display_data"
    },
    {
     "data": {
      "image/png": "[encoded data removed]",
      "text/plain": [
       "<Figure size 460.8x403.2 with 2 Axes>"
      ]
     },
     "metadata": {},
     "output_type": "display_data"
    }
   ],
   "source": [
    "rf = RandomForestClassifier(n_estimators=200, max_depth=3)\n",
    "for i in tqdm(range(len(source_list))):\n",
    "    # train test split\n",
    "    X_train, X_test, y_train, y_test = train_test_split(X[i],\n",
    "                                                        y[i],\n",
    "                                                        test_size=0.2,\n",
    "                                                        random_state=42)\n",
    "    # smote\n",
    "    X_train_smote, y_train_smote = smote(X_train, y_train)\n",
    "    rf.fit(X_train_smote, y_train_smote)\n",
    "    plot_confusion_matrix(rf, X_test, y_test)\n",
    "    plt.title('Confusion Matrix of Scenario ' + str(9 + i))\n",
    "plt.show()"
   ]
  }
 ],
 "metadata": {
  "kernelspec": {
   "display_name": "Python 3",
   "language": "python",
   "name": "python3"
  },
  "language_info": {
   "codemirror_mode": {
    "name": "ipython",
    "version": 3
   },
   "file_extension": ".py",
   "mimetype": "text/x-python",
   "name": "python",
   "nbconvert_exporter": "python",
   "pygments_lexer": "ipython3",
   "version": "3.8.10"
  },
  "toc": {
   "base_numbering": 1,
   "nav_menu": {},
   "number_sections": true,
   "sideBar": true,
   "skip_h1_title": false,
   "title_cell": "Table of Contents",
   "title_sidebar": "Contents",
   "toc_cell": false,
   "toc_position": {
    "height": "calc(100% - 180px)",
    "left": "10px",
    "top": "150px",
    "width": "336.667px"
   },
   "toc_section_display": true,
   "toc_window_display": false
  },
  "varInspector": {
   "cols": {
    "lenName": 16,
    "lenType": 16,
    "lenVar": 40
   },
   "kernels_config": {
    "python": {
     "delete_cmd_postfix": "",
     "delete_cmd_prefix": "del ",
     "library": "var_list.py",
     "varRefreshCmd": "print(var_dic_list())"
    },
    "r": {
     "delete_cmd_postfix": ") ",
     "delete_cmd_prefix": "rm(",
     "library": "var_list.r",
     "varRefreshCmd": "cat(var_dic_list()) "
    }
   },
   "position": {
    "height": "353px",
    "left": "1046px",
    "right": "20px",
    "top": "120px",
    "width": "350px"
   },
   "types_to_exclude": [
    "module",
    "function",
    "builtin_function_or_method",
    "instance",
    "_Feature"
   ],
   "window_display": false
  }
 },
 "nbformat": 4,
 "nbformat_minor": 2
}
