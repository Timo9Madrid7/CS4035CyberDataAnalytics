{
 "cells": [
  {
   "cell_type": "code",
   "execution_count": 29,
   "metadata": {},
   "outputs": [
    {
     "name": "stdout",
     "output_type": "stream",
     "text": [
      "Word count: 269\n"
     ]
    }
   ],
   "source": [
    "# If this cell does not work try running `pip install nbformat`\n",
    "\n",
    "import io\n",
    "from IPython import nbformat\n",
    "\n",
    "nb = nbformat.read(\"IndividualTask_Smoting_MingyuGao.ipynb\", nbformat.NO_CONVERT)\n",
    "word_count = 0\n",
    "for cell in nb.cells:\n",
    "    if cell.cell_type == \"markdown\":\n",
    "        word_count += len(cell['source'].replace('#', '').lstrip().split(' '))\n",
    "\n",
    "print(\"Word count:\", word_count)"
   ]
  },
  {
   "cell_type": "markdown",
   "metadata": {},
   "source": [
    "# Imbalance task - Mingyu Gao\n",
    "# Group Num - 29\n",
    "# Student Num - 5216281"
   ]
  },
  {
   "cell_type": "markdown",
   "metadata": {},
   "source": [
    "This privacy aims at addressing the under-sampling problem of raw data. The theory of smote is to generate new samples based on the nearest neighbours of the original sample. This task mainly includes following work:\n",
    "1. Data preprocessing: encoding and splitting raw data;\n",
    "2. Constructing Smote: designing the smote algorithm to generate samples based on its k nearest neighbours;\n",
    "3. Applying Smote: using three classifiers - Random Forest, Gussian NB and Decision Tree, to draw ROC curves for results of models trained by smoted and unsmoted train set;\n",
    "4. Result Analysis: analyzing performace of the classifier from the perspective of three models and (un)smoted train set."
   ]
  },
  {
   "cell_type": "markdown",
   "metadata": {},
   "source": [
    "# Setup"
   ]
  },
  {
   "cell_type": "code",
   "execution_count": 28,
   "metadata": {},
   "outputs": [],
   "source": [
    "from jupyterthemes import jtplot\n",
    "import numpy as np\n",
    "import pandas as pd\n",
    "\n",
    "import random\n",
    "\n",
    "import matplotlib.pyplot as plt\n",
    "import seaborn as sns\n",
    "\n",
    "from sklearn.preprocessing import LabelEncoder, Normalizer\n",
    "from sklearn.model_selection import train_test_split, KFold, cross_validate\n",
    "from sklearn.tree import DecisionTreeClassifier, plot_tree\n",
    "from sklearn.ensemble import RandomForestClassifier\n",
    "from sklearn.naive_bayes import GaussianNB\n",
    "from sklearn.metrics import roc_curve, roc_auc_score, plot_confusion_matrix, confusion_matrix\n",
    "\n",
    "import warnings\n",
    "warnings.filterwarnings('ignore')\n",
    "jtplot.style('grade3')"
   ]
  },
  {
   "cell_type": "markdown",
   "metadata": {},
   "source": [
    "# Load Data "
   ]
  },
  {
   "cell_type": "code",
   "execution_count": 3,
   "metadata": {},
   "outputs": [
    {
     "data": {
      "text/html": [
       "<div>\n",
       "<style scoped>\n",
       "    .dataframe tbody tr th:only-of-type {\n",
       "        vertical-align: middle;\n",
       "    }\n",
       "\n",
       "    .dataframe tbody tr th {\n",
       "        vertical-align: top;\n",
       "    }\n",
       "\n",
       "    .dataframe thead th {\n",
       "        text-align: right;\n",
       "    }\n",
       "</style>\n",
       "<table border=\"1\" class=\"dataframe\">\n",
       "  <thead>\n",
       "    <tr style=\"text-align: right;\">\n",
       "      <th></th>\n",
       "      <th>txid</th>\n",
       "      <th>bookingdate</th>\n",
       "      <th>issuercountrycode</th>\n",
       "      <th>txvariantcode</th>\n",
       "      <th>bin</th>\n",
       "      <th>amount</th>\n",
       "      <th>currencycode</th>\n",
       "      <th>shoppercountrycode</th>\n",
       "      <th>shopperinteraction</th>\n",
       "      <th>simple_journal</th>\n",
       "      <th>cardverificationcodesupplied</th>\n",
       "      <th>cvcresponsecode</th>\n",
       "      <th>creationdate</th>\n",
       "      <th>accountcode</th>\n",
       "      <th>mail_id</th>\n",
       "      <th>ip_id</th>\n",
       "      <th>card_id</th>\n",
       "    </tr>\n",
       "  </thead>\n",
       "  <tbody>\n",
       "    <tr>\n",
       "      <th>0</th>\n",
       "      <td>1</td>\n",
       "      <td>2015-11-09 14:26:51</td>\n",
       "      <td>MX</td>\n",
       "      <td>mccredit</td>\n",
       "      <td>530056.0</td>\n",
       "      <td>64800.0</td>\n",
       "      <td>MXN</td>\n",
       "      <td>MX</td>\n",
       "      <td>Ecommerce</td>\n",
       "      <td>Chargeback</td>\n",
       "      <td>True</td>\n",
       "      <td>0</td>\n",
       "      <td>2015-07-01 23:03:11</td>\n",
       "      <td>MexicoAccount</td>\n",
       "      <td>email68370</td>\n",
       "      <td>ip111778</td>\n",
       "      <td>card184798</td>\n",
       "    </tr>\n",
       "    <tr>\n",
       "      <th>1</th>\n",
       "      <td>2</td>\n",
       "      <td>2015-11-09 14:27:38</td>\n",
       "      <td>MX</td>\n",
       "      <td>mccredit</td>\n",
       "      <td>547046.0</td>\n",
       "      <td>44900.0</td>\n",
       "      <td>MXN</td>\n",
       "      <td>MX</td>\n",
       "      <td>Ecommerce</td>\n",
       "      <td>Chargeback</td>\n",
       "      <td>True</td>\n",
       "      <td>0</td>\n",
       "      <td>2015-07-02 04:50:55</td>\n",
       "      <td>MexicoAccount</td>\n",
       "      <td>email101299</td>\n",
       "      <td>ip78749</td>\n",
       "      <td>card151595</td>\n",
       "    </tr>\n",
       "    <tr>\n",
       "      <th>2</th>\n",
       "      <td>3</td>\n",
       "      <td>2015-11-23 16:34:16</td>\n",
       "      <td>MX</td>\n",
       "      <td>mccredit</td>\n",
       "      <td>528843.0</td>\n",
       "      <td>149900.0</td>\n",
       "      <td>MXN</td>\n",
       "      <td>MX</td>\n",
       "      <td>Ecommerce</td>\n",
       "      <td>Chargeback</td>\n",
       "      <td>True</td>\n",
       "      <td>0</td>\n",
       "      <td>2015-07-02 14:30:28</td>\n",
       "      <td>MexicoAccount</td>\n",
       "      <td>email278604</td>\n",
       "      <td>ip70594</td>\n",
       "      <td>card242142</td>\n",
       "    </tr>\n",
       "    <tr>\n",
       "      <th>3</th>\n",
       "      <td>4</td>\n",
       "      <td>2015-11-23 16:34:51</td>\n",
       "      <td>MX</td>\n",
       "      <td>mccredit</td>\n",
       "      <td>547146.0</td>\n",
       "      <td>109900.0</td>\n",
       "      <td>MXN</td>\n",
       "      <td>MX</td>\n",
       "      <td>Ecommerce</td>\n",
       "      <td>Chargeback</td>\n",
       "      <td>True</td>\n",
       "      <td>0</td>\n",
       "      <td>2015-07-03 07:53:37</td>\n",
       "      <td>MexicoAccount</td>\n",
       "      <td>email47409</td>\n",
       "      <td>ip113648</td>\n",
       "      <td>card181744</td>\n",
       "    </tr>\n",
       "    <tr>\n",
       "      <th>4</th>\n",
       "      <td>5</td>\n",
       "      <td>2015-11-09 14:26:08</td>\n",
       "      <td>MX</td>\n",
       "      <td>visaclassic</td>\n",
       "      <td>477291.0</td>\n",
       "      <td>89900.0</td>\n",
       "      <td>MXN</td>\n",
       "      <td>MX</td>\n",
       "      <td>Ecommerce</td>\n",
       "      <td>Chargeback</td>\n",
       "      <td>True</td>\n",
       "      <td>0</td>\n",
       "      <td>2015-07-08 18:35:35</td>\n",
       "      <td>MexicoAccount</td>\n",
       "      <td>email205501</td>\n",
       "      <td>ip83553</td>\n",
       "      <td>card97271</td>\n",
       "    </tr>\n",
       "  </tbody>\n",
       "</table>\n",
       "</div>"
      ],
      "text/plain": [
       "   txid          bookingdate issuercountrycode txvariantcode       bin  \\\n",
       "0     1  2015-11-09 14:26:51                MX      mccredit  530056.0   \n",
       "1     2  2015-11-09 14:27:38                MX      mccredit  547046.0   \n",
       "2     3  2015-11-23 16:34:16                MX      mccredit  528843.0   \n",
       "3     4  2015-11-23 16:34:51                MX      mccredit  547146.0   \n",
       "4     5  2015-11-09 14:26:08                MX   visaclassic  477291.0   \n",
       "\n",
       "     amount currencycode shoppercountrycode shopperinteraction simple_journal  \\\n",
       "0   64800.0          MXN                 MX          Ecommerce     Chargeback   \n",
       "1   44900.0          MXN                 MX          Ecommerce     Chargeback   \n",
       "2  149900.0          MXN                 MX          Ecommerce     Chargeback   \n",
       "3  109900.0          MXN                 MX          Ecommerce     Chargeback   \n",
       "4   89900.0          MXN                 MX          Ecommerce     Chargeback   \n",
       "\n",
       "  cardverificationcodesupplied  cvcresponsecode         creationdate  \\\n",
       "0                         True                0  2015-07-01 23:03:11   \n",
       "1                         True                0  2015-07-02 04:50:55   \n",
       "2                         True                0  2015-07-02 14:30:28   \n",
       "3                         True                0  2015-07-03 07:53:37   \n",
       "4                         True                0  2015-07-08 18:35:35   \n",
       "\n",
       "     accountcode      mail_id     ip_id     card_id  \n",
       "0  MexicoAccount   email68370  ip111778  card184798  \n",
       "1  MexicoAccount  email101299   ip78749  card151595  \n",
       "2  MexicoAccount  email278604   ip70594  card242142  \n",
       "3  MexicoAccount   email47409  ip113648  card181744  \n",
       "4  MexicoAccount  email205501   ip83553   card97271  "
      ]
     },
     "execution_count": 3,
     "metadata": {},
     "output_type": "execute_result"
    }
   ],
   "source": [
    "df = pd.read_csv('./data_for_student_case.csv')\n",
    "df.head()"
   ]
  },
  {
   "cell_type": "markdown",
   "metadata": {},
   "source": [
    "# Data Preprocessing"
   ]
  },
  {
   "cell_type": "code",
   "execution_count": 4,
   "metadata": {},
   "outputs": [],
   "source": [
    "# Delete the type of simple_journal - refused\n",
    "df_new = df[df['simple_journal'] != 'Refused'].copy()\n",
    "type_name, type_count = np.unique(df_new['simple_journal'], return_counts=True)"
   ]
  },
  {
   "cell_type": "code",
   "execution_count": 5,
   "metadata": {},
   "outputs": [],
   "source": [
    "# Encoding data"
   ]
  },
  {
   "cell_type": "code",
   "execution_count": 6,
   "metadata": {},
   "outputs": [],
   "source": [
    "# Encoding features that are renamed\n",
    "# 1.label\n",
    "df_new['label'] = df['simple_journal'].apply(\n",
    "    lambda x: 1 if x == 'Chargeback' else 0)\n",
    "\n",
    "# 2.creationdate\n",
    "df_new['creationdate'] = pd.to_datetime(df_new['creationdate'])\n",
    "df_new['creationdate'] = df_new['creationdate'].dt.date\n",
    "date_enc = LabelEncoder()\n",
    "date_enc.fit(df_new['creationdate'])\n",
    "df_new['date'] = date_enc.transform(df_new['creationdate'])\n",
    "\n",
    "# 3.converting different currency to a homogeneous value - measured in euros\n",
    "to_euro = {\n",
    "    'AUD': 0.64147,\n",
    "    'GBP': 1.1494,\n",
    "    'MXN': 0.04169,\n",
    "    'NZD': 0.59499,\n",
    "    'SEK': 0.09859\n",
    "}\n",
    "\n",
    "\n",
    "def amount_to_euro(df_colums):\n",
    "    amount, currency = df_colums\n",
    "    return to_euro[currency] * amount / 100\n",
    "\n",
    "\n",
    "df_new['euroAmount'] = df_new[['amount', 'currencycode']].apply(\n",
    "    amount_to_euro, axis=1)\n",
    "\n",
    "# 4. aggregation for cvcresponse code\n",
    "df_new['cvcRes'] = df_new['cvcresponsecode'].apply(\n",
    "    lambda x: 3 if (x >= 3 and x < 6) else x)\n",
    "\n",
    "# encoding for other features\n",
    "# original features' names\n",
    "col_ori = ['txvariantcode', 'issuercountrycode', 'accountcode', 'shopperinteraction',\n",
    "           'shoppercountrycode']\n",
    "# new features' names\n",
    "col_new = ['txCode', 'issuerCountry', 'account', 'interaction',\n",
    "           'shopperCountry']\n",
    "label_encoder = LabelEncoder()\n",
    "for col in range(0, len(col_ori)):\n",
    "    df_new[col_new[col]] = label_encoder.fit_transform(\n",
    "        df_new[col_ori[col]].astype(str))\n",
    "# encoding for other features that do not need rename\n",
    "column_list = [\n",
    "    'bin',\n",
    "    'shoppercountrycode',\n",
    "    'cardverificationcodesupplied',\n",
    "    'mail_id',\n",
    "    'ip_id',\n",
    "    'card_id',\n",
    "    'date']\n",
    "for col in column_list:\n",
    "    df_new[col] = label_encoder.fit_transform(df_new[col].astype(str))"
   ]
  },
  {
   "cell_type": "code",
   "execution_count": 7,
   "metadata": {},
   "outputs": [],
   "source": [
    "# delete uncoded features\n",
    "df_unsmote = df_new.drop(['txid', 'txvariantcode', 'cvcresponsecode', 'shoppercountrycode',\n",
    " 'bookingdate', 'issuercountrycode','amount', 'shopperinteraction',\n",
    " 'simple_journal','creationdate', 'accountcode','currencycode'], axis ='columns')"
   ]
  },
  {
   "cell_type": "code",
   "execution_count": 8,
   "metadata": {},
   "outputs": [
    {
     "data": {
      "text/html": [
       "<div>\n",
       "<style scoped>\n",
       "    .dataframe tbody tr th:only-of-type {\n",
       "        vertical-align: middle;\n",
       "    }\n",
       "\n",
       "    .dataframe tbody tr th {\n",
       "        vertical-align: top;\n",
       "    }\n",
       "\n",
       "    .dataframe thead th {\n",
       "        text-align: right;\n",
       "    }\n",
       "</style>\n",
       "<table border=\"1\" class=\"dataframe\">\n",
       "  <thead>\n",
       "    <tr style=\"text-align: right;\">\n",
       "      <th></th>\n",
       "      <th>bin</th>\n",
       "      <th>cardverificationcodesupplied</th>\n",
       "      <th>mail_id</th>\n",
       "      <th>ip_id</th>\n",
       "      <th>card_id</th>\n",
       "      <th>label</th>\n",
       "      <th>date</th>\n",
       "      <th>euroAmount</th>\n",
       "      <th>cvcRes</th>\n",
       "      <th>txCode</th>\n",
       "      <th>issuerCountry</th>\n",
       "      <th>account</th>\n",
       "      <th>interaction</th>\n",
       "      <th>shopperCountry</th>\n",
       "    </tr>\n",
       "  </thead>\n",
       "  <tbody>\n",
       "    <tr>\n",
       "      <th>0</th>\n",
       "      <td>1998</td>\n",
       "      <td>1</td>\n",
       "      <td>187702</td>\n",
       "      <td>7386</td>\n",
       "      <td>73358</td>\n",
       "      <td>1</td>\n",
       "      <td>0</td>\n",
       "      <td>27.01512</td>\n",
       "      <td>0</td>\n",
       "      <td>2</td>\n",
       "      <td>76</td>\n",
       "      <td>1</td>\n",
       "      <td>1</td>\n",
       "      <td>98</td>\n",
       "    </tr>\n",
       "    <tr>\n",
       "      <th>1</th>\n",
       "      <td>2364</td>\n",
       "      <td>1</td>\n",
       "      <td>834</td>\n",
       "      <td>194109</td>\n",
       "      <td>44739</td>\n",
       "      <td>1</td>\n",
       "      <td>1</td>\n",
       "      <td>18.71881</td>\n",
       "      <td>0</td>\n",
       "      <td>2</td>\n",
       "      <td>76</td>\n",
       "      <td>1</td>\n",
       "      <td>1</td>\n",
       "      <td>98</td>\n",
       "    </tr>\n",
       "    <tr>\n",
       "      <th>2</th>\n",
       "      <td>1965</td>\n",
       "      <td>1</td>\n",
       "      <td>119287</td>\n",
       "      <td>189655</td>\n",
       "      <td>122802</td>\n",
       "      <td>1</td>\n",
       "      <td>1</td>\n",
       "      <td>62.49331</td>\n",
       "      <td>0</td>\n",
       "      <td>2</td>\n",
       "      <td>76</td>\n",
       "      <td>1</td>\n",
       "      <td>1</td>\n",
       "      <td>98</td>\n",
       "    </tr>\n",
       "    <tr>\n",
       "      <th>3</th>\n",
       "      <td>2374</td>\n",
       "      <td>1</td>\n",
       "      <td>173561</td>\n",
       "      <td>8254</td>\n",
       "      <td>70712</td>\n",
       "      <td>1</td>\n",
       "      <td>35</td>\n",
       "      <td>45.81731</td>\n",
       "      <td>0</td>\n",
       "      <td>2</td>\n",
       "      <td>76</td>\n",
       "      <td>1</td>\n",
       "      <td>1</td>\n",
       "      <td>98</td>\n",
       "    </tr>\n",
       "    <tr>\n",
       "      <th>4</th>\n",
       "      <td>1301</td>\n",
       "      <td>1</td>\n",
       "      <td>70647</td>\n",
       "      <td>196247</td>\n",
       "      <td>208481</td>\n",
       "      <td>1</td>\n",
       "      <td>90</td>\n",
       "      <td>37.47931</td>\n",
       "      <td>0</td>\n",
       "      <td>6</td>\n",
       "      <td>76</td>\n",
       "      <td>1</td>\n",
       "      <td>1</td>\n",
       "      <td>98</td>\n",
       "    </tr>\n",
       "  </tbody>\n",
       "</table>\n",
       "</div>"
      ],
      "text/plain": [
       "    bin  cardverificationcodesupplied  mail_id   ip_id  card_id  label  date  \\\n",
       "0  1998                             1   187702    7386    73358      1     0   \n",
       "1  2364                             1      834  194109    44739      1     1   \n",
       "2  1965                             1   119287  189655   122802      1     1   \n",
       "3  2374                             1   173561    8254    70712      1    35   \n",
       "4  1301                             1    70647  196247   208481      1    90   \n",
       "\n",
       "   euroAmount  cvcRes  txCode  issuerCountry  account  interaction  \\\n",
       "0    27.01512       0       2             76        1            1   \n",
       "1    18.71881       0       2             76        1            1   \n",
       "2    62.49331       0       2             76        1            1   \n",
       "3    45.81731       0       2             76        1            1   \n",
       "4    37.47931       0       6             76        1            1   \n",
       "\n",
       "   shopperCountry  \n",
       "0              98  \n",
       "1              98  \n",
       "2              98  \n",
       "3              98  \n",
       "4              98  "
      ]
     },
     "execution_count": 8,
     "metadata": {},
     "output_type": "execute_result"
    }
   ],
   "source": [
    "df_unsmote.head()"
   ]
  },
  {
   "cell_type": "markdown",
   "metadata": {},
   "source": [
    "# Data Splitting"
   ]
  },
  {
   "cell_type": "code",
   "execution_count": 9,
   "metadata": {},
   "outputs": [],
   "source": [
    "# obtain the labels and features of data\n",
    "df_unsmote_label = df_unsmote['label'].copy() # all labels\n",
    "df_unsmote_feature = df_unsmote.drop(['label'], axis ='columns') # all features"
   ]
  },
  {
   "cell_type": "code",
   "execution_count": 10,
   "metadata": {},
   "outputs": [
    {
     "name": "stdout",
     "output_type": "stream",
     "text": [
      "Number of rows in train_set 189628\n",
      "Number of rows in test_set 47408\n"
     ]
    }
   ],
   "source": [
    "# This splitting is for generating smoted train set \n",
    "# as our smote function cannot automatically identify the minority data\n",
    "# splitting train_set and test_set at 80% and 20% (including features and labels)\n",
    "from sklearn.model_selection import train_test_split\n",
    "train_set, test_set = train_test_split(\n",
    "    df_unsmote, test_size=0.2, random_state=42)\n",
    "print(\"Number of rows in train_set \" + str(len(train_set)))\n",
    "print(\"Number of rows in test_set \" + str(len(test_set)))"
   ]
  },
  {
   "cell_type": "code",
   "execution_count": 11,
   "metadata": {},
   "outputs": [
    {
     "name": "stdout",
     "output_type": "stream",
     "text": [
      "Number of rows in trainset_fraud_data 270\n",
      "Number of rows in trainset_benign_data 189358\n"
     ]
    }
   ],
   "source": [
    "# split fraud and benign cases in train set for smoting\n",
    "fraud_data = train_set.loc[train_set['label'] == 1]\n",
    "benign_data = train_set.loc[train_set['label'] == 0]\n",
    "print(\"Number of rows in trainset_fraud_data \" + str(len(fraud_data)))\n",
    "print(\"Number of rows in trainset_benign_data \" + str(len(benign_data)))"
   ]
  },
  {
   "cell_type": "code",
   "execution_count": 12,
   "metadata": {},
   "outputs": [],
   "source": [
    "# deleting labels in fraud cases\n",
    "fraud_data = fraud_data.drop(['label'], axis ='columns')"
   ]
  },
  {
   "cell_type": "code",
   "execution_count": 13,
   "metadata": {},
   "outputs": [],
   "source": [
    "# This splitting is for train classifiers\n",
    "# spliting x and y axis for trainset and testset for classifier\n",
    "x_train_set, x_test_set, y_train_set, y_test_set = train_test_split(df_unsmote_feature, df_unsmote_label, test_size=0.2, random_state=42)"
   ]
  },
  {
   "cell_type": "markdown",
   "metadata": {},
   "source": [
    "# Function for Plotting ROC Curves\n",
    "This part we design the function of drawing ROC curves - a graphical plot that illustrates the diagnostic ability of a binary classifier."
   ]
  },
  {
   "cell_type": "code",
   "execution_count": 14,
   "metadata": {},
   "outputs": [],
   "source": [
    "# function for plotting ROC\n",
    "from sklearn.metrics import roc_curve, roc_auc_score\n",
    "def return_roc(model, x_train, y_train, x_test, y_test, normalize=True):\n",
    "    # train set for training models\n",
    "    model.fit(x_train, y_train)\n",
    "    probs = model.predict_proba(x_test)[:, 1]\n",
    "    auc = roc_auc_score(y_test, probs)\n",
    "    fpr, tpr, _ = roc_curve(y_test, probs)    \n",
    "    return fpr, tpr, auc"
   ]
  },
  {
   "cell_type": "markdown",
   "metadata": {},
   "source": [
    "# Implementing Smote Function"
   ]
  },
  {
   "cell_type": "code",
   "execution_count": 15,
   "metadata": {},
   "outputs": [],
   "source": [
    "# building smote\n",
    "from sklearn.neighbors import NearestNeighbors\n",
    "import random\n",
    "def smote(minority_for_smoting, k):\n",
    "    '''\n",
    "    minority_for_smoting: pandas dataframe\n",
    "    k: the sampling rate\n",
    "    \n",
    "    return: smoted dataframe \n",
    "    '''\n",
    "# k - sampling rate\n",
    "    # T - Number of minority class samples\n",
    "    T = len(minority_for_smoting)\n",
    "    # cols - Column number of minority class samples\n",
    "    n_features = len(minority_for_smoting.columns)\n",
    "    # find the nearest k + 1 neighbours\n",
    "    # number of neighbours > sampling rate\n",
    "    nbrs = NearestNeighbors(n_neighbors = k+1, algorithm = 'auto').fit(minority_for_smoting)\n",
    "    # distance : Array representing the lengths to points\n",
    "    # indices: Indices of the nearest points in the population matrix\n",
    "    distances, indices = nbrs.kneighbors(minority_for_smoting)\n",
    "    nnarray = []\n",
    "    data_array = [i for i in range(0,T * k)]\n",
    "    # generating a matric for storing synthetic samples\n",
    "    synthetic = pd.DataFrame(np.nan, index = data_array, columns = minority_for_smoting.columns)\n",
    "    n = 0\n",
    "    for i in range(len(indices)):\n",
    "        # nnarray: storing the k+1 nearest neighbours\n",
    "        for index in indices[i]:\n",
    "            if index != i:\n",
    "                nnarray.append(index)\n",
    "        # choose a neighbour from the nearest k neighbours\n",
    "        for k in nnarray:\n",
    "            for m in range(0,n_features):\n",
    "                # calculating the difference between the sample[k] to its neighbour [i]\n",
    "                diff = np.subtract(minority_for_smoting.iloc[k, m], minority_for_smoting.iloc[i, m], dtype = np.float32)               \n",
    "                # generating a new sample\n",
    "                gap = random.uniform(0,1)\n",
    "                synthetic.iloc[n, m] = minority_for_smoting.iloc[i, m] + (gap * diff)\n",
    "            n += 1\n",
    "        nnarray = []   \n",
    "    smoted_data = minority_for_smoting.append(synthetic, ignore_index = True)    \n",
    "    return smoted_data"
   ]
  },
  {
   "cell_type": "code",
   "execution_count": 16,
   "metadata": {},
   "outputs": [
    {
     "name": "stdout",
     "output_type": "stream",
     "text": [
      "1620\n"
     ]
    }
   ],
   "source": [
    "# implement smote by ourselves to enlarge the fraud cases five times\n",
    "smoted_fraud = smote(fraud_data,5)\n",
    "print(str(len(smoted_fraud))) # check the new fraud cases"
   ]
  },
  {
   "cell_type": "code",
   "execution_count": 17,
   "metadata": {},
   "outputs": [
    {
     "data": {
      "text/html": [
       "<div>\n",
       "<style scoped>\n",
       "    .dataframe tbody tr th:only-of-type {\n",
       "        vertical-align: middle;\n",
       "    }\n",
       "\n",
       "    .dataframe tbody tr th {\n",
       "        vertical-align: top;\n",
       "    }\n",
       "\n",
       "    .dataframe thead th {\n",
       "        text-align: right;\n",
       "    }\n",
       "</style>\n",
       "<table border=\"1\" class=\"dataframe\">\n",
       "  <thead>\n",
       "    <tr style=\"text-align: right;\">\n",
       "      <th></th>\n",
       "      <th>bin</th>\n",
       "      <th>cardverificationcodesupplied</th>\n",
       "      <th>mail_id</th>\n",
       "      <th>ip_id</th>\n",
       "      <th>card_id</th>\n",
       "      <th>date</th>\n",
       "      <th>euroAmount</th>\n",
       "      <th>cvcRes</th>\n",
       "      <th>txCode</th>\n",
       "      <th>issuerCountry</th>\n",
       "      <th>account</th>\n",
       "      <th>interaction</th>\n",
       "      <th>shopperCountry</th>\n",
       "      <th>label</th>\n",
       "    </tr>\n",
       "  </thead>\n",
       "  <tbody>\n",
       "    <tr>\n",
       "      <th>0</th>\n",
       "      <td>1965.0</td>\n",
       "      <td>1.0</td>\n",
       "      <td>36120.0</td>\n",
       "      <td>186037.0</td>\n",
       "      <td>140354.0</td>\n",
       "      <td>3.0</td>\n",
       "      <td>83.33831</td>\n",
       "      <td>0.0</td>\n",
       "      <td>2.0</td>\n",
       "      <td>76.0</td>\n",
       "      <td>1.0</td>\n",
       "      <td>1.0</td>\n",
       "      <td>98.0</td>\n",
       "      <td>1.0</td>\n",
       "    </tr>\n",
       "    <tr>\n",
       "      <th>1</th>\n",
       "      <td>1052.0</td>\n",
       "      <td>1.0</td>\n",
       "      <td>139536.0</td>\n",
       "      <td>188243.0</td>\n",
       "      <td>128963.0</td>\n",
       "      <td>14.0</td>\n",
       "      <td>246.96595</td>\n",
       "      <td>0.0</td>\n",
       "      <td>10.0</td>\n",
       "      <td>7.0</td>\n",
       "      <td>0.0</td>\n",
       "      <td>1.0</td>\n",
       "      <td>8.0</td>\n",
       "      <td>1.0</td>\n",
       "    </tr>\n",
       "    <tr>\n",
       "      <th>2</th>\n",
       "      <td>2032.0</td>\n",
       "      <td>1.0</td>\n",
       "      <td>153807.0</td>\n",
       "      <td>38930.0</td>\n",
       "      <td>134360.0</td>\n",
       "      <td>59.0</td>\n",
       "      <td>218.09980</td>\n",
       "      <td>0.0</td>\n",
       "      <td>2.0</td>\n",
       "      <td>7.0</td>\n",
       "      <td>0.0</td>\n",
       "      <td>1.0</td>\n",
       "      <td>8.0</td>\n",
       "      <td>1.0</td>\n",
       "    </tr>\n",
       "    <tr>\n",
       "      <th>3</th>\n",
       "      <td>1504.0</td>\n",
       "      <td>1.0</td>\n",
       "      <td>120226.0</td>\n",
       "      <td>181227.0</td>\n",
       "      <td>35124.0</td>\n",
       "      <td>82.0</td>\n",
       "      <td>279.03945</td>\n",
       "      <td>0.0</td>\n",
       "      <td>6.0</td>\n",
       "      <td>7.0</td>\n",
       "      <td>0.0</td>\n",
       "      <td>1.0</td>\n",
       "      <td>8.0</td>\n",
       "      <td>1.0</td>\n",
       "    </tr>\n",
       "    <tr>\n",
       "      <th>4</th>\n",
       "      <td>940.0</td>\n",
       "      <td>1.0</td>\n",
       "      <td>31164.0</td>\n",
       "      <td>101287.0</td>\n",
       "      <td>39450.0</td>\n",
       "      <td>19.0</td>\n",
       "      <td>36.72333</td>\n",
       "      <td>1.0</td>\n",
       "      <td>8.0</td>\n",
       "      <td>40.0</td>\n",
       "      <td>3.0</td>\n",
       "      <td>1.0</td>\n",
       "      <td>47.0</td>\n",
       "      <td>1.0</td>\n",
       "    </tr>\n",
       "  </tbody>\n",
       "</table>\n",
       "</div>"
      ],
      "text/plain": [
       "      bin  cardverificationcodesupplied   mail_id     ip_id   card_id  date  \\\n",
       "0  1965.0                           1.0   36120.0  186037.0  140354.0   3.0   \n",
       "1  1052.0                           1.0  139536.0  188243.0  128963.0  14.0   \n",
       "2  2032.0                           1.0  153807.0   38930.0  134360.0  59.0   \n",
       "3  1504.0                           1.0  120226.0  181227.0   35124.0  82.0   \n",
       "4   940.0                           1.0   31164.0  101287.0   39450.0  19.0   \n",
       "\n",
       "   euroAmount  cvcRes  txCode  issuerCountry  account  interaction  \\\n",
       "0    83.33831     0.0     2.0           76.0      1.0          1.0   \n",
       "1   246.96595     0.0    10.0            7.0      0.0          1.0   \n",
       "2   218.09980     0.0     2.0            7.0      0.0          1.0   \n",
       "3   279.03945     0.0     6.0            7.0      0.0          1.0   \n",
       "4    36.72333     1.0     8.0           40.0      3.0          1.0   \n",
       "\n",
       "   shopperCountry  label  \n",
       "0            98.0    1.0  \n",
       "1             8.0    1.0  \n",
       "2             8.0    1.0  \n",
       "3             8.0    1.0  \n",
       "4            47.0    1.0  "
      ]
     },
     "execution_count": 17,
     "metadata": {},
     "output_type": "execute_result"
    }
   ],
   "source": [
    "# add labels to the smoted fraud cases\n",
    "smoted_fraud[\"label\"] = np.ones(len(smoted_fraud)) # add labels for the smoted ones\n",
    "smoted_fraud.head() "
   ]
  },
  {
   "cell_type": "code",
   "execution_count": 18,
   "metadata": {},
   "outputs": [
    {
     "name": "stdout",
     "output_type": "stream",
     "text": [
      "length of merged: 190978\n"
     ]
    }
   ],
   "source": [
    "# merge smoted fraud cases and benign cases\n",
    "frames = [smoted_fraud, benign_data]\n",
    "smoted_trainset = pd.concat(frames, sort=False)\n",
    "print(\"length of merged: \" + str(len(smoted_trainset)))"
   ]
  },
  {
   "cell_type": "code",
   "execution_count": 19,
   "metadata": {},
   "outputs": [],
   "source": [
    "# spliting smoted labels and features for the following three classfier\n",
    "smoted_labels = smoted_trainset['label'].copy()  # smoted train set's abels\n",
    "smoted_features = smoted_trainset.drop(['label'], axis ='columns') # smoted train set's features"
   ]
  },
  {
   "cell_type": "markdown",
   "metadata": {},
   "source": [
    "# Classifier"
   ]
  },
  {
   "cell_type": "code",
   "execution_count": 20,
   "metadata": {},
   "outputs": [],
   "source": [
    "# 1. Random Forest\n",
    "from sklearn.ensemble import RandomForestClassifier\n",
    "## constructing Random Forest classifier\n",
    "clf1 = RandomForestClassifier(n_estimators= 200, max_depth=10) "
   ]
  },
  {
   "cell_type": "code",
   "execution_count": 21,
   "metadata": {},
   "outputs": [
    {
     "name": "stdout",
     "output_type": "stream",
     "text": [
      "Unsmoted AUC = 0.9468325833280515 Smoted AUC = 0.9453327136106593\n"
     ]
    },
    {
     "data": {
      "image/png": "[encoded data removed]",
      "text/plain": [
       "<Figure size 1152x648 with 1 Axes>"
      ]
     },
     "metadata": {},
     "output_type": "display_data"
    }
   ],
   "source": [
    "## plot format\n",
    "plt.figure(figsize = (16,9))\n",
    "## get fpr, tpr and auc values of models trained by unsmoted data\n",
    "unsmoted_fpr, unsmoted_tpr, unsmoted_auc = return_roc(clf1, x_train_set, y_train_set, x_test_set, y_test_set)\n",
    "plt.plot(unsmoted_fpr, unsmoted_tpr,\"-.\", label='Unsmoted', linewidth=2)\n",
    "## get fpr, tpr and auc values of models trained by smoted data\n",
    "smoted_fpr, smoted_tpr, smoted_auc = return_roc(clf1, smoted_features, smoted_labels, x_test_set, y_test_set)\n",
    "## drawing the ROC curves of results of models trained by unsmoted and smoted trainset\n",
    "plt.plot(smoted_fpr, smoted_tpr,\"--\", label='Smoted', linewidth=2)\n",
    "## print the AUC values of results of models trained by unsmoted and smoted trainset\n",
    "print(\"Unsmoted AUC =\", unsmoted_auc, \"Smoted AUC =\", smoted_auc)\n",
    "plt.legend(['Unsmoted', 'Smoted'])\n",
    "plt.title(\"Random Forest\")\n",
    "plt.show()"
   ]
  },
  {
   "cell_type": "code",
   "execution_count": 22,
   "metadata": {},
   "outputs": [],
   "source": [
    "# 2. Gussian NB\n",
    "from sklearn.naive_bayes import GaussianNB\n",
    "## constructing classifier\n",
    "clf2 = GaussianNB()"
   ]
  },
  {
   "cell_type": "code",
   "execution_count": 23,
   "metadata": {},
   "outputs": [
    {
     "name": "stdout",
     "output_type": "stream",
     "text": [
      "Unsmoted AUC = 0.8469890633032627 Smoted AUC = 0.8478518862808894\n"
     ]
    },
    {
     "data": {
      "image/png": "[encoded data removed]",
      "text/plain": [
       "<Figure size 1152x648 with 1 Axes>"
      ]
     },
     "metadata": {},
     "output_type": "display_data"
    }
   ],
   "source": [
    "plt.figure(figsize = (16,9))\n",
    "## get fpr, tpr and auc values of models trained by unsmoted data\n",
    "unsmoted_fpr, unsmoted_tpr, unsmoted_auc = return_roc(clf2, x_train_set, y_train_set, x_test_set, y_test_set)\n",
    "plt.plot(unsmoted_fpr, unsmoted_tpr,\"-.\", label='Unsmoted', linewidth=2)\n",
    "## get fpr, tpr and auc values of models trained by smoted data\n",
    "smoted_fpr, smoted_tpr, smoted_auc = return_roc(clf2, smoted_features, smoted_labels, x_test_set, y_test_set)\n",
    "## drawing the ROC curves of results of models trained by unsmoted and smoted trainset\n",
    "plt.plot(smoted_fpr, smoted_tpr,\"--\", label='Smoted', linewidth=2)\n",
    "## print the AUC values of results of models trained by unsmoted and smoted trainset\n",
    "print(\"Unsmoted AUC =\", unsmoted_auc, \"Smoted AUC =\", smoted_auc)\n",
    "plt.legend(['Unsmoted', 'Smoted'])\n",
    "plt.title(\"Gussian NB\")\n",
    "plt.show()"
   ]
  },
  {
   "cell_type": "code",
   "execution_count": 24,
   "metadata": {},
   "outputs": [],
   "source": [
    "# 3. Decision Tree\n",
    "from sklearn import tree\n",
    "clf3 = tree.DecisionTreeClassifier(splitter='random', max_depth = 10)"
   ]
  },
  {
   "cell_type": "code",
   "execution_count": 25,
   "metadata": {},
   "outputs": [
    {
     "name": "stdout",
     "output_type": "stream",
     "text": [
      "Unsmoted AUC = 0.7567240614370524 Smoted AUC = 0.8387474559679997\n"
     ]
    },
    {
     "data": {
      "image/png": "[encoded data removed]",
      "text/plain": [
       "<Figure size 1152x648 with 1 Axes>"
      ]
     },
     "metadata": {},
     "output_type": "display_data"
    }
   ],
   "source": [
    "plt.figure(figsize = (16,9))\n",
    "## get fpr, tpr and auc values of models trained by unsmoted data\n",
    "unsmoted_fpr, unsmoted_tpr, unsmoted_auc = return_roc(clf3, x_train_set, y_train_set, x_test_set, y_test_set)\n",
    "plt.plot(unsmoted_fpr, unsmoted_tpr,\"-.\", label='Unsmoted', linewidth=2)\n",
    "## get fpr, tpr and auc values of models trained by smoted data\n",
    "smoted_fpr, smoted_tpr, smoted_auc = return_roc(clf3, smoted_features, smoted_labels, x_test_set, y_test_set)\n",
    "## drawing the ROC curves of results of models trained by unsmoted and smoted trainset\n",
    "plt.plot(smoted_fpr, smoted_tpr,\"--\", label='Smoted', linewidth=2)\n",
    "## print the AUC values of results of models trained by unsmoted and smoted trainset\n",
    "print(\"Unsmoted AUC =\", unsmoted_auc, \"Smoted AUC =\", smoted_auc)\n",
    "plt.legend(['Unsmoted', 'Smoted'])\n",
    "plt.title(\"Decision Tree\")\n",
    "plt.show()"
   ]
  },
  {
   "cell_type": "markdown",
   "metadata": {},
   "source": [
    "# Comparison for three classifers after smoting"
   ]
  },
  {
   "cell_type": "code",
   "execution_count": 26,
   "metadata": {},
   "outputs": [
    {
     "data": {
      "image/png": "[encoded data removed]",
      "text/plain": [
       "<Figure size 1152x648 with 1 Axes>"
      ]
     },
     "metadata": {},
     "output_type": "display_data"
    }
   ],
   "source": [
    "# draw three ROC curves of models trained by smoted trainset in one plot\n",
    "plt.figure(figsize = (16,9))\n",
    "smoted_fpr1, smoted_tpr1, smoted_auc1 = return_roc(clf1, smoted_features, smoted_labels, x_test_set, y_test_set)\n",
    "plt.plot(smoted_fpr1, smoted_tpr1,\"--\", label='Random Forest', linewidth=2)\n",
    "\n",
    "smoted_fpr2, smoted_tpr2, smoted_auc2 = return_roc(clf2, smoted_features, smoted_labels, x_test_set, y_test_set)\n",
    "plt.plot(smoted_fpr, smoted_tpr,\"-.\", label='Naive Bayes', linewidth=2)\n",
    "\n",
    "smoted_fpr3, smoted_tpr3, smoted_auc3 = return_roc(clf2, smoted_features, smoted_labels, x_test_set, y_test_set)\n",
    "plt.plot(smoted_fpr3, smoted_tpr3,\".-\", label='Decision Tree', linewidth=2)\n",
    "plt.legend(['Random Forest', 'Naive Bayes', 'Decision Tree'])\n",
    "plt.title(\"Three classifiers for smoted data\")\n",
    "plt.show()"
   ]
  },
  {
   "cell_type": "markdown",
   "metadata": {},
   "source": [
    "# Analyse the performance of the classifiers. Explain which method performs best."
   ]
  },
  {
   "cell_type": "markdown",
   "metadata": {},
   "source": [
    "The accurate of a classifier can be reflected by the area composed by the ROC curve and x-axis. Based on the three ROC curves of smoted data, we can see that Random Forest classifier performs best among the three classifies. "
   ]
  },
  {
   "cell_type": "markdown",
   "metadata": {},
   "source": [
    "# Is using SMOTE a good idea? Why (not)?"
   ]
  },
  {
   "cell_type": "markdown",
   "metadata": {},
   "source": [
    "Yes. \n",
    "\n",
    "Considering that AUC values in all three classifiers when using smoted data for all the 3 classifiers used above and the area of smoted ROC curve expands when applying decision tree, we can say that smoting data before applying classifiers gives a better train set to work with."
   ]
  },
  {
   "cell_type": "code",
   "execution_count": null,
   "metadata": {},
   "outputs": [],
   "source": []
  }
 ],
 "metadata": {
  "kernelspec": {
   "display_name": "Python 3",
   "language": "python",
   "name": "python3"
  },
  "language_info": {
   "codemirror_mode": {
    "name": "ipython",
    "version": 3
   },
   "file_extension": ".py",
   "mimetype": "text/x-python",
   "name": "python",
   "nbconvert_exporter": "python",
   "pygments_lexer": "ipython3",
   "version": "3.8.3"
  }
 },
 "nbformat": 4,
 "nbformat_minor": 4
}
