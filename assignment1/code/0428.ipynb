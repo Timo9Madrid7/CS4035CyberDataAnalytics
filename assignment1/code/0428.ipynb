{
 "cells": [
  {
   "cell_type": "code",
   "execution_count": 1,
   "metadata": {},
   "outputs": [
    {
     "name": "stdout",
     "output_type": "stream",
     "text": [
      "Word count: 237\n"
     ]
    },
    {
     "name": "stderr",
     "output_type": "stream",
     "text": [
      "D:\\anaconda\\lib\\site-packages\\IPython\\nbformat.py:12: ShimWarning: The `IPython.nbformat` package has been deprecated since IPython 4.0. You should import from nbformat instead.\n",
      "  warn(\"The `IPython.nbformat` package has been deprecated since IPython 4.0. \"\n"
     ]
    }
   ],
   "source": [
    "# If this cell does not work try running `pip install nbformat`\n",
    "\n",
    "import io\n",
    "from IPython import nbformat\n",
    "\n",
    "nb = nbformat.read(\"Lab1-2021.ipynb\", nbformat.NO_CONVERT)\n",
    "word_count = 0\n",
    "for cell in nb.cells:\n",
    "    if cell.cell_type == \"markdown\":\n",
    "        word_count += len(cell['source'].replace('#', '').lstrip().split(' '))\n",
    "\n",
    "print(\"Word count:\", word_count)"
   ]
  },
  {
   "cell_type": "markdown",
   "metadata": {},
   "source": [
    "# CS4035 - Cyber Data Analytics\n",
    "## Lab 1 - Fraud data"
   ]
  },
  {
   "cell_type": "markdown",
   "metadata": {},
   "source": [
    "## Group Number : 29"
   ]
  },
  {
   "cell_type": "markdown",
   "metadata": {},
   "source": [
    "## Student 1 \n",
    "### Name : Mingyu Gao\n",
    "### ID : 5216281"
   ]
  },
  {
   "cell_type": "markdown",
   "metadata": {},
   "source": [
    "## Student 2\n",
    "### Name : Yuhang Tian\n",
    "### ID : 5219728"
   ]
  },
  {
   "cell_type": "markdown",
   "metadata": {},
   "source": [
    "## Readme"
   ]
  },
  {
   "cell_type": "markdown",
   "metadata": {},
   "source": [
    "## Load Library"
   ]
  },
  {
   "cell_type": "code",
   "execution_count": 2,
   "metadata": {},
   "outputs": [],
   "source": [
    "import numpy as np \n",
    "import pandas as pd\n",
    "\n",
    "import random\n",
    "\n",
    "import matplotlib.pyplot as plt\n",
    "import seaborn as sns\n",
    "\n",
    "from imblearn.over_sampling import SMOTE\n",
    "\n",
    "from sklearn.preprocessing import LabelEncoder, Normalizer\n",
    "from sklearn.model_selection import train_test_split, KFold, cross_validate\n",
    "from sklearn.tree import DecisionTreeClassifier\n",
    "from sklearn.ensemble import RandomForestClassifier\n",
    "from sklearn.ensemble import AdaBoostClassifier\n",
    "from sklearn.naive_bayes import GaussianNB\n",
    "from sklearn.metrics import roc_curve, roc_auc_score, plot_confusion_matrix, confusion_matrix\n",
    "\n",
    "import warnings\n",
    "warnings.filterwarnings('ignore')\n",
    "\n",
    "from jupyterthemes import jtplot\n",
    "jtplot.style('grade3')"
   ]
  },
  {
   "cell_type": "markdown",
   "metadata": {},
   "source": [
    "## Read Data"
   ]
  },
  {
   "cell_type": "code",
   "execution_count": 3,
   "metadata": {},
   "outputs": [
    {
     "data": {
      "text/html": [
       "<div>\n",
       "<style scoped>\n",
       "    .dataframe tbody tr th:only-of-type {\n",
       "        vertical-align: middle;\n",
       "    }\n",
       "\n",
       "    .dataframe tbody tr th {\n",
       "        vertical-align: top;\n",
       "    }\n",
       "\n",
       "    .dataframe thead th {\n",
       "        text-align: right;\n",
       "    }\n",
       "</style>\n",
       "<table border=\"1\" class=\"dataframe\">\n",
       "  <thead>\n",
       "    <tr style=\"text-align: right;\">\n",
       "      <th></th>\n",
       "      <th>txid</th>\n",
       "      <th>bookingdate</th>\n",
       "      <th>issuercountrycode</th>\n",
       "      <th>txvariantcode</th>\n",
       "      <th>bin</th>\n",
       "      <th>amount</th>\n",
       "      <th>currencycode</th>\n",
       "      <th>shoppercountrycode</th>\n",
       "      <th>shopperinteraction</th>\n",
       "      <th>simple_journal</th>\n",
       "      <th>cardverificationcodesupplied</th>\n",
       "      <th>cvcresponsecode</th>\n",
       "      <th>creationdate</th>\n",
       "      <th>accountcode</th>\n",
       "      <th>mail_id</th>\n",
       "      <th>ip_id</th>\n",
       "      <th>card_id</th>\n",
       "    </tr>\n",
       "  </thead>\n",
       "  <tbody>\n",
       "    <tr>\n",
       "      <th>0</th>\n",
       "      <td>1</td>\n",
       "      <td>2015-11-09 14:26:51</td>\n",
       "      <td>MX</td>\n",
       "      <td>mccredit</td>\n",
       "      <td>530056.0</td>\n",
       "      <td>64800.0</td>\n",
       "      <td>MXN</td>\n",
       "      <td>MX</td>\n",
       "      <td>Ecommerce</td>\n",
       "      <td>Chargeback</td>\n",
       "      <td>True</td>\n",
       "      <td>0</td>\n",
       "      <td>2015-07-01 23:03:11</td>\n",
       "      <td>MexicoAccount</td>\n",
       "      <td>email68370</td>\n",
       "      <td>ip111778</td>\n",
       "      <td>card184798</td>\n",
       "    </tr>\n",
       "    <tr>\n",
       "      <th>1</th>\n",
       "      <td>2</td>\n",
       "      <td>2015-11-09 14:27:38</td>\n",
       "      <td>MX</td>\n",
       "      <td>mccredit</td>\n",
       "      <td>547046.0</td>\n",
       "      <td>44900.0</td>\n",
       "      <td>MXN</td>\n",
       "      <td>MX</td>\n",
       "      <td>Ecommerce</td>\n",
       "      <td>Chargeback</td>\n",
       "      <td>True</td>\n",
       "      <td>0</td>\n",
       "      <td>2015-07-02 04:50:55</td>\n",
       "      <td>MexicoAccount</td>\n",
       "      <td>email101299</td>\n",
       "      <td>ip78749</td>\n",
       "      <td>card151595</td>\n",
       "    </tr>\n",
       "    <tr>\n",
       "      <th>2</th>\n",
       "      <td>3</td>\n",
       "      <td>2015-11-23 16:34:16</td>\n",
       "      <td>MX</td>\n",
       "      <td>mccredit</td>\n",
       "      <td>528843.0</td>\n",
       "      <td>149900.0</td>\n",
       "      <td>MXN</td>\n",
       "      <td>MX</td>\n",
       "      <td>Ecommerce</td>\n",
       "      <td>Chargeback</td>\n",
       "      <td>True</td>\n",
       "      <td>0</td>\n",
       "      <td>2015-07-02 14:30:28</td>\n",
       "      <td>MexicoAccount</td>\n",
       "      <td>email278604</td>\n",
       "      <td>ip70594</td>\n",
       "      <td>card242142</td>\n",
       "    </tr>\n",
       "    <tr>\n",
       "      <th>3</th>\n",
       "      <td>4</td>\n",
       "      <td>2015-11-23 16:34:51</td>\n",
       "      <td>MX</td>\n",
       "      <td>mccredit</td>\n",
       "      <td>547146.0</td>\n",
       "      <td>109900.0</td>\n",
       "      <td>MXN</td>\n",
       "      <td>MX</td>\n",
       "      <td>Ecommerce</td>\n",
       "      <td>Chargeback</td>\n",
       "      <td>True</td>\n",
       "      <td>0</td>\n",
       "      <td>2015-07-03 07:53:37</td>\n",
       "      <td>MexicoAccount</td>\n",
       "      <td>email47409</td>\n",
       "      <td>ip113648</td>\n",
       "      <td>card181744</td>\n",
       "    </tr>\n",
       "    <tr>\n",
       "      <th>4</th>\n",
       "      <td>5</td>\n",
       "      <td>2015-11-09 14:26:08</td>\n",
       "      <td>MX</td>\n",
       "      <td>visaclassic</td>\n",
       "      <td>477291.0</td>\n",
       "      <td>89900.0</td>\n",
       "      <td>MXN</td>\n",
       "      <td>MX</td>\n",
       "      <td>Ecommerce</td>\n",
       "      <td>Chargeback</td>\n",
       "      <td>True</td>\n",
       "      <td>0</td>\n",
       "      <td>2015-07-08 18:35:35</td>\n",
       "      <td>MexicoAccount</td>\n",
       "      <td>email205501</td>\n",
       "      <td>ip83553</td>\n",
       "      <td>card97271</td>\n",
       "    </tr>\n",
       "  </tbody>\n",
       "</table>\n",
       "</div>"
      ],
      "text/plain": [
       "   txid          bookingdate issuercountrycode txvariantcode       bin  \\\n",
       "0     1  2015-11-09 14:26:51                MX      mccredit  530056.0   \n",
       "1     2  2015-11-09 14:27:38                MX      mccredit  547046.0   \n",
       "2     3  2015-11-23 16:34:16                MX      mccredit  528843.0   \n",
       "3     4  2015-11-23 16:34:51                MX      mccredit  547146.0   \n",
       "4     5  2015-11-09 14:26:08                MX   visaclassic  477291.0   \n",
       "\n",
       "     amount currencycode shoppercountrycode shopperinteraction simple_journal  \\\n",
       "0   64800.0          MXN                 MX          Ecommerce     Chargeback   \n",
       "1   44900.0          MXN                 MX          Ecommerce     Chargeback   \n",
       "2  149900.0          MXN                 MX          Ecommerce     Chargeback   \n",
       "3  109900.0          MXN                 MX          Ecommerce     Chargeback   \n",
       "4   89900.0          MXN                 MX          Ecommerce     Chargeback   \n",
       "\n",
       "  cardverificationcodesupplied  cvcresponsecode         creationdate  \\\n",
       "0                         True                0  2015-07-01 23:03:11   \n",
       "1                         True                0  2015-07-02 04:50:55   \n",
       "2                         True                0  2015-07-02 14:30:28   \n",
       "3                         True                0  2015-07-03 07:53:37   \n",
       "4                         True                0  2015-07-08 18:35:35   \n",
       "\n",
       "     accountcode      mail_id     ip_id     card_id  \n",
       "0  MexicoAccount   email68370  ip111778  card184798  \n",
       "1  MexicoAccount  email101299   ip78749  card151595  \n",
       "2  MexicoAccount  email278604   ip70594  card242142  \n",
       "3  MexicoAccount   email47409  ip113648  card181744  \n",
       "4  MexicoAccount  email205501   ip83553   card97271  "
      ]
     },
     "execution_count": 3,
     "metadata": {},
     "output_type": "execute_result"
    }
   ],
   "source": [
    "df = pd.read_csv('./data_for_student_case.csv')\n",
    "df.head()"
   ]
  },
  {
   "cell_type": "code",
   "execution_count": 4,
   "metadata": {},
   "outputs": [
    {
     "name": "stdout",
     "output_type": "stream",
     "text": [
      "Chargeback: 345 (0.12%)\n",
      "Refused: 53346 (18.37%)\n",
      "Settled: 236691 (81.51%)\n"
     ]
    }
   ],
   "source": [
    "type_name, type_count = np.unique(df['simple_journal'], return_counts=True)\n",
    "for i in range(len(type_name)):\n",
    "    print(str(type_name[i])+':', type_count[i], '('+str(100*np.round(type_count[i]/len(df),4))+'%)')"
   ]
  },
  {
   "cell_type": "markdown",
   "metadata": {},
   "source": [
    "## Data Preporcessing"
   ]
  },
  {
   "cell_type": "markdown",
   "metadata": {},
   "source": [
    "### Delete Refused Catagory"
   ]
  },
  {
   "cell_type": "code",
   "execution_count": 5,
   "metadata": {},
   "outputs": [
    {
     "name": "stdout",
     "output_type": "stream",
     "text": [
      "Chargeback: 345 (0.15%)\n",
      "Settled: 236691 (99.85000000000001%)\n"
     ]
    }
   ],
   "source": [
    "df_new = df[df['simple_journal'] != 'Refused'].copy()\n",
    "type_name, type_count = np.unique(df_new['simple_journal'], return_counts=True)\n",
    "for i in range(len(type_name)):\n",
    "    print(str(type_name[i])+':', type_count[i], '('+str(100*np.round(type_count[i]/len(df_new),4))+'%)')"
   ]
  },
  {
   "cell_type": "markdown",
   "metadata": {},
   "source": [
    "### Data Encoding"
   ]
  },
  {
   "cell_type": "code",
   "execution_count": 6,
   "metadata": {},
   "outputs": [],
   "source": [
    "# 1.label\n",
    "df_new['label'] = df['simple_journal'].apply(lambda x: 1 if x == 'Chargeback' else 0)\n",
    "\n",
    "# 2.creationdate\n",
    "df_new['creationdate'] = pd.to_datetime(df_new['creationdate'])\n",
    "df_new['creationdate'] = df_new['creationdate'].dt.date\n",
    "date_enc = LabelEncoder()\n",
    "date_enc.fit(df_new['creationdate'])\n",
    "df_new['date'] = date_enc.transform(df_new['creationdate'])\n",
    "\n",
    "# 3.converting different currency to a homogeneous value\n",
    "to_euro = {\n",
    "    'AUD': 0.64147,\n",
    "    'GBP': 1.1494,\n",
    "    'MXN': 0.04169,\n",
    "    'NZD': 0.59499,\n",
    "    'SEK': 0.09859\n",
    "}\n",
    "def amount_to_euro(df_colums):\n",
    "    amount, currency = df_colums\n",
    "    return to_euro[currency] * amount / 100\n",
    "df_new['euroAmount'] = df_new[['amount', 'currencycode']].apply(amount_to_euro, axis=1)\n",
    "\n",
    "# 4. aggregation for cvcresponse code\n",
    "df_new['cvcRes'] = df_new['cvcresponsecode'].apply(lambda x: 3 if (x >= 3 and x<6) else x)\n",
    "\n",
    "# encoding for other features\n",
    "column_list = df_new.columns.values.tolist()\n",
    "col_ori = ['txvariantcode','issuercountrycode','accountcode', 'shopperinteraction', \n",
    "           'shoppercountrycode', 'card_id', 'ip_id', 'mail_id']\n",
    "col_new = ['txCode','issuerCountry', 'account', 'interaction',\n",
    "           'shopperCountry', 'card_id', 'ip_id', 'mail_id']\n",
    "label_encoder = LabelEncoder()\n",
    "for col in range(0,len(col_ori)): \n",
    "    df_new[col_new[col]] = label_encoder.fit_transform(df_new[col_ori[col]].astype(str))"
   ]
  },
  {
   "cell_type": "markdown",
   "metadata": {},
   "source": [
    "## Visualization task"
   ]
  },
  {
   "cell_type": "code",
   "execution_count": 7,
   "metadata": {},
   "outputs": [],
   "source": [
    "df_fraud = df_new[df_new['label'] == 1]\n",
    "df_benign = df_new[df_new['label'] == 0]"
   ]
  },
  {
   "cell_type": "markdown",
   "metadata": {},
   "source": [
    "### Plot visulations "
   ]
  },
  {
   "cell_type": "markdown",
   "metadata": {},
   "source": [
    "#### Boxplot - Amount"
   ]
  },
  {
   "cell_type": "code",
   "execution_count": 8,
   "metadata": {
    "scrolled": true
   },
   "outputs": [
    {
     "data": {
      "image/png": "[encoded data removed]",
      "text/plain": [
       "<Figure size 1584x576 with 1 Axes>"
      ]
     },
     "metadata": {},
     "output_type": "display_data"
    }
   ],
   "source": [
    "colors = ['#B3F9C5', '#7b68ee']\n",
    "figure, (ax) = plt.subplots(1, figsize=(22,8))\n",
    "ax = sns.boxplot(x='label', y='euroAmount', hue='simple_journal', data=df_new, \n",
    "                 showfliers=False, palette=colors\n",
    "                 )\n",
    "ax.set(xlabel='label', ylabel='amount(euro)')\n",
    "plt.title('Fraud and Bengin Amount (euro)')\n",
    "plt.savefig('./figures/amountBoxplot.pdf', dpi=1200)\n",
    "plt.show()"
   ]
  },
  {
   "cell_type": "markdown",
   "metadata": {},
   "source": [
    "#### Histogram - txCode/issuerCountry/account/cvcRes"
   ]
  },
  {
   "cell_type": "code",
   "execution_count": 9,
   "metadata": {},
   "outputs": [
    {
     "data": {
      "image/png": "[encoded data removed]",
      "text/plain": [
       "<Figure size 1512x792 with 4 Axes>"
      ]
     },
     "metadata": {},
     "output_type": "display_data"
    }
   ],
   "source": [
    "plt.figure(figsize=(21,11))\n",
    "plt.subplots_adjust(wspace=0.2,hspace=0.3)\n",
    "\n",
    "plt.subplot(221)\n",
    "sns.histplot(x='txCode', data=df_fraud, color='#00bfff')\n",
    "plt.ylabel('Number of Fraud')\n",
    "plt.title('txCode ~ #Fraud')\n",
    "plt.subplot(222)\n",
    "sns.histplot(x='txCode', data=df_benign, color='#00bfff')\n",
    "plt.ylabel('Number of Benign')\n",
    "plt.title('txCode ~ #benign')\n",
    "\n",
    "plt.subplot(223)\n",
    "sns.histplot(x='account', data=df_fraud, color='#179ccf')\n",
    "plt.ylabel('Number of Fraud')\n",
    "plt.title('account ~ #Fraud')\n",
    "plt.subplot(224)\n",
    "sns.histplot(x='account', data=df_benign, color='#179ccf')\n",
    "plt.ylabel('Number of Benign')\n",
    "plt.title('account ~ #benign')\n",
    "\n",
    "plt.savefig('./figures/txCode_account.pdf', dpi=1200)\n",
    "plt.show()"
   ]
  },
  {
   "cell_type": "code",
   "execution_count": 10,
   "metadata": {},
   "outputs": [
    {
     "data": {
      "image/png": "[encoded data removed]",
      "text/plain": [
       "<Figure size 1512x792 with 4 Axes>"
      ]
     },
     "metadata": {},
     "output_type": "display_data"
    }
   ],
   "source": [
    "plt.figure(figsize=(21,11))\n",
    "plt.subplots_adjust(wspace=0.2,hspace=0.3)\n",
    "\n",
    "plt.subplot(221)\n",
    "sns.histplot(x='cvcRes', data=df_fraud, color='#008080')\n",
    "plt.ylabel('Number of Fraud')\n",
    "plt.title('cvcRes ~ #Fraud')\n",
    "plt.subplot(222)\n",
    "sns.histplot(x='cvcRes', data=df_benign, color='#008080')\n",
    "plt.ylabel('Number of Benign')\n",
    "plt.title('cvcRes ~ #benign')\n",
    "\n",
    "plt.subplot(223)\n",
    "sns.histplot(x='issuerCountry', data=df_fraud, color='#72b2c7')\n",
    "plt.ylabel('Number of Fraud')\n",
    "plt.title('issuerCountry ~ #Fraud')\n",
    "plt.subplot(224)\n",
    "sns.histplot(x='issuerCountry', data=df_benign, color='#72b2c7')\n",
    "plt.ylabel('Number of Benign')\n",
    "plt.title('issuerCountry ~ #benign')\n",
    "\n",
    "plt.savefig('./figures/cvcRes_issuerCountry.pdf', dpi=1200)\n",
    "plt.show()"
   ]
  },
  {
   "cell_type": "markdown",
   "metadata": {},
   "source": [
    "#### Describe the visualizations and provide relavant explanations of features and relations."
   ]
  },
  {
   "cell_type": "code",
   "execution_count": null,
   "metadata": {},
   "outputs": [],
   "source": []
  },
  {
   "cell_type": "markdown",
   "metadata": {},
   "source": [
    "## Imbalance task"
   ]
  },
  {
   "cell_type": "code",
   "execution_count": 11,
   "metadata": {},
   "outputs": [],
   "source": [
    "df_smote = df_new.copy()"
   ]
  },
  {
   "cell_type": "code",
   "execution_count": 12,
   "metadata": {},
   "outputs": [],
   "source": [
    "df_smote = df_smote.drop(['txid', 'txvariantcode', 'cvcresponsecode',\n",
    " 'bookingdate', 'issuercountrycode','amount', 'shopperinteraction',\n",
    " 'simple_journal','creationdate', 'accountcode','currencycode'], axis ='columns')"
   ]
  },
  {
   "cell_type": "code",
   "execution_count": 13,
   "metadata": {},
   "outputs": [],
   "source": [
    "column_list = [\n",
    " 'bin',\n",
    " 'shoppercountrycode',\n",
    " 'cardverificationcodesupplied',\n",
    " 'mail_id',\n",
    " 'ip_id',\n",
    " 'card_id',\n",
    " 'date']\n",
    "for col in column_list:\n",
    "    df_smote[col] = label_encoder.fit_transform(df_smote[col].astype(str))"
   ]
  },
  {
   "cell_type": "code",
   "execution_count": 14,
   "metadata": {},
   "outputs": [
    {
     "data": {
      "text/html": [
       "<div>\n",
       "<style scoped>\n",
       "    .dataframe tbody tr th:only-of-type {\n",
       "        vertical-align: middle;\n",
       "    }\n",
       "\n",
       "    .dataframe tbody tr th {\n",
       "        vertical-align: top;\n",
       "    }\n",
       "\n",
       "    .dataframe thead th {\n",
       "        text-align: right;\n",
       "    }\n",
       "</style>\n",
       "<table border=\"1\" class=\"dataframe\">\n",
       "  <thead>\n",
       "    <tr style=\"text-align: right;\">\n",
       "      <th></th>\n",
       "      <th>bin</th>\n",
       "      <th>shoppercountrycode</th>\n",
       "      <th>cardverificationcodesupplied</th>\n",
       "      <th>mail_id</th>\n",
       "      <th>ip_id</th>\n",
       "      <th>card_id</th>\n",
       "      <th>label</th>\n",
       "      <th>date</th>\n",
       "      <th>euroAmount</th>\n",
       "      <th>cvcRes</th>\n",
       "      <th>txCode</th>\n",
       "      <th>issuerCountry</th>\n",
       "      <th>account</th>\n",
       "      <th>interaction</th>\n",
       "      <th>shopperCountry</th>\n",
       "    </tr>\n",
       "  </thead>\n",
       "  <tbody>\n",
       "    <tr>\n",
       "      <th>0</th>\n",
       "      <td>1998</td>\n",
       "      <td>98</td>\n",
       "      <td>1</td>\n",
       "      <td>97450</td>\n",
       "      <td>177775</td>\n",
       "      <td>181254</td>\n",
       "      <td>1</td>\n",
       "      <td>0</td>\n",
       "      <td>27.01512</td>\n",
       "      <td>0</td>\n",
       "      <td>2</td>\n",
       "      <td>76</td>\n",
       "      <td>1</td>\n",
       "      <td>1</td>\n",
       "      <td>98</td>\n",
       "    </tr>\n",
       "    <tr>\n",
       "      <th>1</th>\n",
       "      <td>2364</td>\n",
       "      <td>98</td>\n",
       "      <td>1</td>\n",
       "      <td>190289</td>\n",
       "      <td>104569</td>\n",
       "      <td>149455</td>\n",
       "      <td>1</td>\n",
       "      <td>1</td>\n",
       "      <td>18.71881</td>\n",
       "      <td>0</td>\n",
       "      <td>2</td>\n",
       "      <td>76</td>\n",
       "      <td>1</td>\n",
       "      <td>1</td>\n",
       "      <td>98</td>\n",
       "    </tr>\n",
       "    <tr>\n",
       "      <th>2</th>\n",
       "      <td>1965</td>\n",
       "      <td>98</td>\n",
       "      <td>1</td>\n",
       "      <td>21433</td>\n",
       "      <td>99619</td>\n",
       "      <td>25340</td>\n",
       "      <td>1</td>\n",
       "      <td>1</td>\n",
       "      <td>62.49331</td>\n",
       "      <td>0</td>\n",
       "      <td>2</td>\n",
       "      <td>76</td>\n",
       "      <td>1</td>\n",
       "      <td>1</td>\n",
       "      <td>98</td>\n",
       "    </tr>\n",
       "    <tr>\n",
       "      <th>3</th>\n",
       "      <td>2374</td>\n",
       "      <td>98</td>\n",
       "      <td>1</td>\n",
       "      <td>81738</td>\n",
       "      <td>187420</td>\n",
       "      <td>178315</td>\n",
       "      <td>1</td>\n",
       "      <td>35</td>\n",
       "      <td>45.81731</td>\n",
       "      <td>0</td>\n",
       "      <td>2</td>\n",
       "      <td>76</td>\n",
       "      <td>1</td>\n",
       "      <td>1</td>\n",
       "      <td>98</td>\n",
       "    </tr>\n",
       "    <tr>\n",
       "      <th>4</th>\n",
       "      <td>1301</td>\n",
       "      <td>98</td>\n",
       "      <td>1</td>\n",
       "      <td>176120</td>\n",
       "      <td>106944</td>\n",
       "      <td>120538</td>\n",
       "      <td>1</td>\n",
       "      <td>90</td>\n",
       "      <td>37.47931</td>\n",
       "      <td>0</td>\n",
       "      <td>6</td>\n",
       "      <td>76</td>\n",
       "      <td>1</td>\n",
       "      <td>1</td>\n",
       "      <td>98</td>\n",
       "    </tr>\n",
       "  </tbody>\n",
       "</table>\n",
       "</div>"
      ],
      "text/plain": [
       "    bin  shoppercountrycode  cardverificationcodesupplied  mail_id   ip_id  \\\n",
       "0  1998                  98                             1    97450  177775   \n",
       "1  2364                  98                             1   190289  104569   \n",
       "2  1965                  98                             1    21433   99619   \n",
       "3  2374                  98                             1    81738  187420   \n",
       "4  1301                  98                             1   176120  106944   \n",
       "\n",
       "   card_id  label  date  euroAmount  cvcRes  txCode  issuerCountry  account  \\\n",
       "0   181254      1     0    27.01512       0       2             76        1   \n",
       "1   149455      1     1    18.71881       0       2             76        1   \n",
       "2    25340      1     1    62.49331       0       2             76        1   \n",
       "3   178315      1    35    45.81731       0       2             76        1   \n",
       "4   120538      1    90    37.47931       0       6             76        1   \n",
       "\n",
       "   interaction  shopperCountry  \n",
       "0            1              98  \n",
       "1            1              98  \n",
       "2            1              98  \n",
       "3            1              98  \n",
       "4            1              98  "
      ]
     },
     "execution_count": 14,
     "metadata": {},
     "output_type": "execute_result"
    }
   ],
   "source": [
    "df_smote.head()"
   ]
  },
  {
   "cell_type": "code",
   "execution_count": 15,
   "metadata": {},
   "outputs": [],
   "source": [
    "df_smote_label = df_smote['label'].copy() # all labels\n",
    "df_smote_temp = df_smote.copy()\n",
    "df_smote_feature = df_smote_temp.drop(['label'], axis ='columns') # all features"
   ]
  },
  {
   "cell_type": "code",
   "execution_count": 16,
   "metadata": {},
   "outputs": [
    {
     "name": "stdout",
     "output_type": "stream",
     "text": [
      "Number of rows in train_set 189628\n",
      "Number of rows in test_set 47408\n",
      "Number of rows in x_train_set 189628\n",
      "Number of rows in x_test_set 47408\n"
     ]
    }
   ],
   "source": [
    "# split train_set and test_set after extracting features and labels\n",
    "from sklearn.model_selection import train_test_split\n",
    "train_set, test_set = train_test_split(df_smote_temp, test_size=0.2, random_state=42 )\n",
    "x_train_set, x_test_set, y_train_set, y_test_set = train_test_split(df_smote_feature, df_smote_label, test_size=0.2, random_state=42)\n",
    "print(\"Number of rows in train_set \" + str(len(train_set)))\n",
    "print(\"Number of rows in test_set \" + str(len(test_set)))\n",
    "print(\"Number of rows in x_train_set \" + str(len(x_train_set)))\n",
    "print(\"Number of rows in x_test_set \" + str(len(x_test_set)))"
   ]
  },
  {
   "cell_type": "code",
   "execution_count": 17,
   "metadata": {},
   "outputs": [
    {
     "name": "stdout",
     "output_type": "stream",
     "text": [
      "Number of rows in trainset_fraud_data 270\n",
      "Number of rows in testset_benign_data 189358\n"
     ]
    }
   ],
   "source": [
    "# select fraud cases\n",
    "df_smote.head()\n",
    "# split fraud date for smoting\n",
    "fraud_data = train_set.loc[df_smote['label'] == 1]\n",
    "benign_data = train_set.loc[df_smote['label'] == 0]\n",
    "print(\"Number of rows in trainset_fraud_data \" + str(len(fraud_data)))\n",
    "print(\"Number of rows in testset_benign_data \" + str(len(benign_data)))"
   ]
  },
  {
   "cell_type": "code",
   "execution_count": 18,
   "metadata": {},
   "outputs": [],
   "source": [
    "fraud_data = fraud_data.drop(['label'], axis ='columns')"
   ]
  },
  {
   "cell_type": "markdown",
   "metadata": {},
   "source": [
    "### Print ROC curves"
   ]
  },
  {
   "cell_type": "code",
   "execution_count": 19,
   "metadata": {},
   "outputs": [],
   "source": [
    "# function for drawing ROC\n",
    "from sklearn.metrics import roc_curve, roc_auc_score\n",
    "def return_roc(model, x_train, y_train, x_test, y_test, normalize=True):\n",
    "# #     if (normalize):\n",
    "#     scaler_norm = Normalizer().fit(x_train)\n",
    "#     x_train = scaler_norm.transform(x_train)\n",
    "#     x_test = scaler_norm.transform(x_test)\n",
    "    \n",
    "    model.fit(x_train, y_train)\n",
    "    probs = model.predict_proba(x_test)[:, 1]\n",
    "    auc = roc_auc_score(y_test, probs)\n",
    "    fpr, tpr, _ = roc_curve(y_test, probs)    \n",
    "    \n",
    "    return fpr, tpr, auc"
   ]
  },
  {
   "cell_type": "code",
   "execution_count": 20,
   "metadata": {},
   "outputs": [],
   "source": [
    "# building smote\n",
    "from sklearn.neighbors import NearestNeighbors\n",
    "import random\n",
    "def smote(minority_for_smoting, k):\n",
    "# k - sampling rate\n",
    "    # T - Number of minority class samples\n",
    "    T = len(minority_for_smoting)\n",
    "    # cols - Column number of minority class samples\n",
    "    n_features = len(minority_for_smoting.columns)\n",
    "    # find the nearest k + 1 neighbours\n",
    "    # number of neighbours > sampling rate\n",
    "    nbrs = NearestNeighbors(n_neighbors = k+1, algorithm = 'auto').fit(minority_for_smoting)\n",
    "    # distance : Array representing the lengths to points\n",
    "    # indices: Indices of the nearest points in the population matrix\n",
    "    distances, indices = nbrs.kneighbors(minority_for_smoting)\n",
    "    nnarray = []\n",
    "    data_array = [i for i in range(0,T * k)]\n",
    "    # generating a matric for storing synthetic samples\n",
    "    synthetic = pd.DataFrame(np.nan, index = data_array, columns = minority_for_smoting.columns)\n",
    "    n = 0\n",
    "    for i in range(len(indices)):\n",
    "        # nnarray: storing the k+1 nearest neighbours\n",
    "        for index in indices[i]:\n",
    "            if index != i:\n",
    "                nnarray.append(index)\n",
    "        # choose a neighbour from the nearest k neighbours\n",
    "        for k in nnarray:\n",
    "            for m in range(0,n_features):\n",
    "                # calculating the difference between the sample[k] to its neighbour [i]\n",
    "                diff = np.subtract(minority_for_smoting.iloc[k, m], minority_for_smoting.iloc[i, m], dtype = np.float32)               \n",
    "                # generating a new sample\n",
    "                gap = random.uniform(0,1)\n",
    "                synthetic.iloc[n, m] = minority_for_smoting.iloc[i, m] + (gap * diff)\n",
    "            n += 1\n",
    "        nnarray = []   \n",
    "    smoted_data = minority_for_smoting.append(synthetic, ignore_index = True)    \n",
    "    return smoted_data"
   ]
  },
  {
   "cell_type": "code",
   "execution_count": 21,
   "metadata": {},
   "outputs": [
    {
     "name": "stdout",
     "output_type": "stream",
     "text": [
      "1620\n"
     ]
    }
   ],
   "source": [
    "# implement smote by ourselves\n",
    "smoted_fraud = smote(fraud_data,5)\n",
    "print(str(len(smoted_fraud))) # check the new fraud cases"
   ]
  },
  {
   "cell_type": "code",
   "execution_count": 22,
   "metadata": {},
   "outputs": [
    {
     "data": {
      "text/html": [
       "<div>\n",
       "<style scoped>\n",
       "    .dataframe tbody tr th:only-of-type {\n",
       "        vertical-align: middle;\n",
       "    }\n",
       "\n",
       "    .dataframe tbody tr th {\n",
       "        vertical-align: top;\n",
       "    }\n",
       "\n",
       "    .dataframe thead th {\n",
       "        text-align: right;\n",
       "    }\n",
       "</style>\n",
       "<table border=\"1\" class=\"dataframe\">\n",
       "  <thead>\n",
       "    <tr style=\"text-align: right;\">\n",
       "      <th></th>\n",
       "      <th>bin</th>\n",
       "      <th>shoppercountrycode</th>\n",
       "      <th>cardverificationcodesupplied</th>\n",
       "      <th>mail_id</th>\n",
       "      <th>ip_id</th>\n",
       "      <th>card_id</th>\n",
       "      <th>date</th>\n",
       "      <th>euroAmount</th>\n",
       "      <th>cvcRes</th>\n",
       "      <th>txCode</th>\n",
       "      <th>issuerCountry</th>\n",
       "      <th>account</th>\n",
       "      <th>interaction</th>\n",
       "      <th>shopperCountry</th>\n",
       "      <th>label</th>\n",
       "    </tr>\n",
       "  </thead>\n",
       "  <tbody>\n",
       "    <tr>\n",
       "      <th>0</th>\n",
       "      <td>1965.0</td>\n",
       "      <td>98.0</td>\n",
       "      <td>1.0</td>\n",
       "      <td>137758.0</td>\n",
       "      <td>95600.0</td>\n",
       "      <td>44842.0</td>\n",
       "      <td>3.0</td>\n",
       "      <td>83.33831</td>\n",
       "      <td>0.0</td>\n",
       "      <td>2.0</td>\n",
       "      <td>76.0</td>\n",
       "      <td>1.0</td>\n",
       "      <td>1.0</td>\n",
       "      <td>98.0</td>\n",
       "      <td>1.0</td>\n",
       "    </tr>\n",
       "    <tr>\n",
       "      <th>1</th>\n",
       "      <td>1052.0</td>\n",
       "      <td>8.0</td>\n",
       "      <td>1.0</td>\n",
       "      <td>43932.0</td>\n",
       "      <td>98051.0</td>\n",
       "      <td>32184.0</td>\n",
       "      <td>14.0</td>\n",
       "      <td>246.96595</td>\n",
       "      <td>0.0</td>\n",
       "      <td>10.0</td>\n",
       "      <td>7.0</td>\n",
       "      <td>0.0</td>\n",
       "      <td>1.0</td>\n",
       "      <td>8.0</td>\n",
       "      <td>1.0</td>\n",
       "    </tr>\n",
       "    <tr>\n",
       "      <th>2</th>\n",
       "      <td>2032.0</td>\n",
       "      <td>8.0</td>\n",
       "      <td>1.0</td>\n",
       "      <td>59789.0</td>\n",
       "      <td>138965.0</td>\n",
       "      <td>38182.0</td>\n",
       "      <td>59.0</td>\n",
       "      <td>218.09980</td>\n",
       "      <td>0.0</td>\n",
       "      <td>2.0</td>\n",
       "      <td>7.0</td>\n",
       "      <td>0.0</td>\n",
       "      <td>1.0</td>\n",
       "      <td>8.0</td>\n",
       "      <td>1.0</td>\n",
       "    </tr>\n",
       "    <tr>\n",
       "      <th>3</th>\n",
       "      <td>1504.0</td>\n",
       "      <td>8.0</td>\n",
       "      <td>1.0</td>\n",
       "      <td>22478.0</td>\n",
       "      <td>90256.0</td>\n",
       "      <td>138773.0</td>\n",
       "      <td>82.0</td>\n",
       "      <td>279.03945</td>\n",
       "      <td>0.0</td>\n",
       "      <td>6.0</td>\n",
       "      <td>7.0</td>\n",
       "      <td>0.0</td>\n",
       "      <td>1.0</td>\n",
       "      <td>8.0</td>\n",
       "      <td>1.0</td>\n",
       "    </tr>\n",
       "    <tr>\n",
       "      <th>4</th>\n",
       "      <td>940.0</td>\n",
       "      <td>47.0</td>\n",
       "      <td>1.0</td>\n",
       "      <td>132251.0</td>\n",
       "      <td>1434.0</td>\n",
       "      <td>143579.0</td>\n",
       "      <td>19.0</td>\n",
       "      <td>36.72333</td>\n",
       "      <td>1.0</td>\n",
       "      <td>8.0</td>\n",
       "      <td>40.0</td>\n",
       "      <td>3.0</td>\n",
       "      <td>1.0</td>\n",
       "      <td>47.0</td>\n",
       "      <td>1.0</td>\n",
       "    </tr>\n",
       "  </tbody>\n",
       "</table>\n",
       "</div>"
      ],
      "text/plain": [
       "      bin  shoppercountrycode  cardverificationcodesupplied   mail_id  \\\n",
       "0  1965.0                98.0                           1.0  137758.0   \n",
       "1  1052.0                 8.0                           1.0   43932.0   \n",
       "2  2032.0                 8.0                           1.0   59789.0   \n",
       "3  1504.0                 8.0                           1.0   22478.0   \n",
       "4   940.0                47.0                           1.0  132251.0   \n",
       "\n",
       "      ip_id   card_id  date  euroAmount  cvcRes  txCode  issuerCountry  \\\n",
       "0   95600.0   44842.0   3.0    83.33831     0.0     2.0           76.0   \n",
       "1   98051.0   32184.0  14.0   246.96595     0.0    10.0            7.0   \n",
       "2  138965.0   38182.0  59.0   218.09980     0.0     2.0            7.0   \n",
       "3   90256.0  138773.0  82.0   279.03945     0.0     6.0            7.0   \n",
       "4    1434.0  143579.0  19.0    36.72333     1.0     8.0           40.0   \n",
       "\n",
       "   account  interaction  shopperCountry  label  \n",
       "0      1.0          1.0            98.0    1.0  \n",
       "1      0.0          1.0             8.0    1.0  \n",
       "2      0.0          1.0             8.0    1.0  \n",
       "3      0.0          1.0             8.0    1.0  \n",
       "4      3.0          1.0            47.0    1.0  "
      ]
     },
     "execution_count": 22,
     "metadata": {},
     "output_type": "execute_result"
    }
   ],
   "source": [
    "smoted_fraud[\"label\"] = np.ones(len(smoted_fraud)) # add labels for the smoted ones\n",
    "smoted_fraud.head() "
   ]
  },
  {
   "cell_type": "code",
   "execution_count": 23,
   "metadata": {},
   "outputs": [
    {
     "name": "stdout",
     "output_type": "stream",
     "text": [
      "length of merged: 190978\n"
     ]
    }
   ],
   "source": [
    "# merge smoted fraud cases and benign cases\n",
    "frames = [smoted_fraud, benign_data]\n",
    "smoted_trainset = pd.concat(frames, sort=False)\n",
    "print(\"length of merged: \" + str(len(smoted_trainset)))"
   ]
  },
  {
   "cell_type": "code",
   "execution_count": 24,
   "metadata": {},
   "outputs": [],
   "source": [
    "# select labels and features\n",
    "smoted_labels = smoted_trainset['label'].copy()\n",
    "smoted_features = smoted_trainset.drop(['label'], axis ='columns')\n"
   ]
  },
  {
   "cell_type": "code",
   "execution_count": 25,
   "metadata": {},
   "outputs": [
    {
     "name": "stdout",
     "output_type": "stream",
     "text": [
      "190978\n"
     ]
    }
   ],
   "source": [
    "print(str(len(smoted_features)))"
   ]
  },
  {
   "cell_type": "code",
   "execution_count": 26,
   "metadata": {},
   "outputs": [],
   "source": [
    "# # implement smote\n",
    "# from imblearn.over_sampling import SMOTE\n",
    "# def smote(X,y):\n",
    "#     sm = SMOTE(random_state=42)\n",
    "#     X_res, y_res = sm.fit_resample(X, y)\n",
    "#     return X_res, y_res"
   ]
  },
  {
   "cell_type": "code",
   "execution_count": 27,
   "metadata": {},
   "outputs": [],
   "source": [
    "# smoted train set (including benign and fraud)\n",
    "# smoted_features, smoted_labels = smote(x_train_set, y_train_set)"
   ]
  },
  {
   "cell_type": "markdown",
   "metadata": {},
   "source": [
    "### classifier"
   ]
  },
  {
   "cell_type": "code",
   "execution_count": 28,
   "metadata": {},
   "outputs": [],
   "source": [
    "# 1. Random Forest\n",
    "from sklearn.ensemble import RandomForestClassifier\n",
    "clf1 = RandomForestClassifier(n_estimators= 200, max_depth=10) "
   ]
  },
  {
   "cell_type": "code",
   "execution_count": null,
   "metadata": {},
   "outputs": [],
   "source": [
    "plt.figure(figsize = (16,9))\n",
    "unsmoted_fpr, unsmoted_tpr, unsmoted_auc = return_roc(clf1, x_train_set, y_train_set, x_test_set, y_test_set)\n",
    "plt.plot(unsmoted_fpr, unsmoted_tpr,\"-.\", label='Unsmoted', linewidth=2)\n",
    "smoted_fpr, smoted_tpr, smoted_auc = return_roc(clf1, smoted_features, smoted_labels, x_test_set, y_test_set)\n",
    "plt.plot(smoted_fpr, smoted_tpr,\"--\", label='Smoted', linewidth=2)\n",
    "print(\"Unsmoted AUC =\", unsmoted_auc, \"Smoted AUC =\", smoted_auc)\n",
    "plt.legend(['Unsmoted', 'Smoted'])\n",
    "plt.title(\"Random Forest\")\n",
    "plt.show()"
   ]
  },
  {
   "cell_type": "code",
   "execution_count": null,
   "metadata": {},
   "outputs": [],
   "source": [
    "from sklearn.metrics import plot_confusion_matrix\n",
    "clf1.fit(smoted_features, smoted_labels)\n",
    "plot_confusion_matrix(clf1, x_test_set, y_test_set)\n",
    "plt.show()"
   ]
  },
  {
   "cell_type": "code",
   "execution_count": null,
   "metadata": {},
   "outputs": [],
   "source": [
    "# 2. Naive Bayes\n",
    "from sklearn.naive_bayes import GaussianNB\n",
    "clf2 = GaussianNB()"
   ]
  },
  {
   "cell_type": "code",
   "execution_count": null,
   "metadata": {},
   "outputs": [],
   "source": [
    "plt.figure(figsize = (16,9))\n",
    "unsmoted_fpr, unsmoted_tpr, unsmoted_auc = return_roc(clf2, x_train_set, y_train_set, x_test_set, y_test_set)\n",
    "plt.plot(unsmoted_fpr, unsmoted_tpr,\"-.\", label='Unsmoted', linewidth=2)\n",
    "smoted_fpr, smoted_tpr, smoted_auc = return_roc(clf2, smoted_features, smoted_labels, x_test_set, y_test_set)\n",
    "plt.plot(smoted_fpr, smoted_tpr,\"--\", label='Smoted', linewidth=2)\n",
    "print(\"Unsmoted AUC =\", unsmoted_auc, \"Smoted AUC =\", smoted_auc)\n",
    "plt.legend(['Unsmoted', 'Smoted'])\n",
    "plt.title(\"Naive Bayes\")\n",
    "plt.show()"
   ]
  },
  {
   "cell_type": "code",
   "execution_count": null,
   "metadata": {},
   "outputs": [],
   "source": [
    "from sklearn.metrics import plot_confusion_matrix\n",
    "clf2.fit(smoted_features, smoted_labels)\n",
    "plot_confusion_matrix(clf2, x_test_set, y_test_set)\n",
    "plt.show()"
   ]
  },
  {
   "cell_type": "code",
   "execution_count": null,
   "metadata": {},
   "outputs": [],
   "source": [
    "# 3. Decision Tree\n",
    "from sklearn import tree\n",
    "clf3 = tree.DecisionTreeClassifier(splitter='random', max_depth = 10)"
   ]
  },
  {
   "cell_type": "code",
   "execution_count": null,
   "metadata": {
    "scrolled": true
   },
   "outputs": [],
   "source": [
    "plt.figure(figsize = (16,9))\n",
    "unsmoted_fpr, unsmoted_tpr, unsmoted_auc = return_roc(clf3, x_train_set, y_train_set, x_test_set, y_test_set)\n",
    "plt.plot(unsmoted_fpr, unsmoted_tpr,\"-.\", label='Unsmoted', linewidth=2)\n",
    "smoted_fpr, smoted_tpr, smoted_auc = return_roc(clf3, smoted_features, smoted_labels, x_test_set, y_test_set)\n",
    "plt.plot(smoted_fpr, smoted_tpr,\"--\", label='Smoted', linewidth=2)\n",
    "print(\"Unsmoted AUC =\", unsmoted_auc, \"Smoted AUC =\", smoted_auc)\n",
    "plt.legend(['Unsmoted', 'Smoted'])\n",
    "plt.title(\"Decision Tree\")\n",
    "plt.show()"
   ]
  },
  {
   "cell_type": "code",
   "execution_count": null,
   "metadata": {},
   "outputs": [],
   "source": [
    "from sklearn.metrics import plot_confusion_matrix\n",
    "clf2.fit(smoted_features, smoted_labels)\n",
    "plot_confusion_matrix(clf2, x_test_set, y_test_set)\n",
    "plt.show()"
   ]
  },
  {
   "cell_type": "code",
   "execution_count": null,
   "metadata": {},
   "outputs": [],
   "source": [
    "# draw three curves in one plot\n",
    "plt.figure(figsize = (16,9))\n",
    "smoted_fpr1, smoted_tpr1, smoted_auc1 = return_roc(clf1, smoted_features, smoted_labels, x_test_set, y_test_set)\n",
    "plt.plot(smoted_fpr1, smoted_tpr1,\"--\", label='Random Forest', linewidth=2)\n",
    "\n",
    "smoted_fpr2, smoted_tpr2, smoted_auc2 = return_roc(clf2, smoted_features, smoted_labels, x_test_set, y_test_set)\n",
    "plt.plot(smoted_fpr, smoted_tpr,\"-.\", label='Naive Bayes', linewidth=2)\n",
    "\n",
    "smoted_fpr3, smoted_tpr3, smoted_auc3 = return_roc(clf2, smoted_features, smoted_labels, x_test_set, y_test_set)\n",
    "plt.plot(smoted_fpr3, smoted_tpr3,\".-\", label='Decision Tree', linewidth=2)\n",
    "plt.legend(['Random Forest', 'Naive Bayes', 'Decision Tree'])\n",
    "plt.title(\"Three classifiers for smoted data\")\n",
    "plt.show()"
   ]
  },
  {
   "cell_type": "markdown",
   "metadata": {},
   "source": [
    "### Analyse the performance of the classifiers. Explain which method performs best."
   ]
  },
  {
   "cell_type": "code",
   "execution_count": null,
   "metadata": {},
   "outputs": [],
   "source": []
  },
  {
   "cell_type": "markdown",
   "metadata": {},
   "source": [
    "### Is using SMOTE a good idea? Why (not)?"
   ]
  },
  {
   "cell_type": "code",
   "execution_count": null,
   "metadata": {},
   "outputs": [],
   "source": []
  },
  {
   "cell_type": "markdown",
   "metadata": {},
   "source": [
    "## Privacy task"
   ]
  },
  {
   "cell_type": "markdown",
   "metadata": {},
   "source": [
    "### Print ROC curves"
   ]
  },
  {
   "cell_type": "markdown",
   "metadata": {},
   "source": [
    "#### Useful Columns Extraction"
   ]
  },
  {
   "cell_type": "code",
   "execution_count": null,
   "metadata": {},
   "outputs": [],
   "source": [
    "df_trial = df_new[[\n",
    "    'date', 'issuerCountry', \n",
    "    'shopperCountry', 'interaction', 'euroAmount', 'cardverificationcodesupplied', 'cvcRes', \n",
    "    'mail_id', 'ip_id', 'card_id', 'bin','txCode', 'account', 'label'\n",
    "    ]].copy()"
   ]
  },
  {
   "cell_type": "markdown",
   "metadata": {},
   "source": [
    "#### NAN Modification"
   ]
  },
  {
   "cell_type": "code",
   "execution_count": null,
   "metadata": {},
   "outputs": [],
   "source": [
    "df_trial.loc[df_trial['cardverificationcodesupplied'].isna(),'cardverificationcodesupplied'] = False\n",
    "df_trial.loc[df_trial['issuerCountry'].isna(),'issuerCountry'] = 'ZZ'\n",
    "df_trial.loc[df_trial['shopperCountry'].isna(),'shopperCountry'] = 'ZZ'\n",
    "\n",
    "print(np.where(df_trial.isna())[1]) #no NAN anymore"
   ]
  },
  {
   "cell_type": "markdown",
   "metadata": {},
   "source": [
    "#### Data Spliting"
   ]
  },
  {
   "cell_type": "code",
   "execution_count": null,
   "metadata": {},
   "outputs": [],
   "source": [
    "df_label = df_trial['label']\n",
    "df_sample = df_trial[[\n",
    "    'date', 'issuerCountry', \n",
    "    'shopperCountry', 'interaction', 'euroAmount', 'cardverificationcodesupplied', 'cvcRes', \n",
    "    'mail_id', 'ip_id', 'card_id', 'bin','txCode', 'account'\n",
    "    ]]\n",
    "\n",
    "x_train, x_test, y_train, y_test = train_test_split(df_sample, df_label, test_size=0.20, shuffle=True, random_state=42)"
   ]
  },
  {
   "cell_type": "markdown",
   "metadata": {},
   "source": [
    "#### Resample"
   ]
  },
  {
   "cell_type": "code",
   "execution_count": null,
   "metadata": {},
   "outputs": [],
   "source": [
    "def smote(X,y):\n",
    "    sm = SMOTE(random_state=42)\n",
    "    X_res, y_res = sm.fit_resample(X, y)\n",
    "    return X_res, y_res"
   ]
  },
  {
   "cell_type": "code",
   "execution_count": null,
   "metadata": {},
   "outputs": [],
   "source": [
    "x_train_unswapped, y_train_unswapped = smote(x_train, y_train)\n",
    "print(\"After SMOTE:\", np.unique(y_train_unswapped, return_counts=True))"
   ]
  },
  {
   "cell_type": "markdown",
   "metadata": {},
   "source": [
    "#### Rank Swapping\n",
    "The rank swapping alogrithm will be applied to:\n",
    "- bin: card issuer identifier\n",
    "- mail_id: Email address\n",
    "- ip_id: Ip address\n",
    "- card_id: Card number"
   ]
  },
  {
   "cell_type": "markdown",
   "metadata": {},
   "source": [
    "##### Implement the rank swapping algorithm."
   ]
  },
  {
   "cell_type": "code",
   "execution_count": null,
   "metadata": {},
   "outputs": [],
   "source": [
    "def rank_swapping(df, columns, p=1):\n",
    "    '''\n",
    "    df: pandas dataframe\n",
    "    columns: the string names of columns\n",
    "    p: the swapping range p%\n",
    "    replace: replace the original dataframe\n",
    "    \n",
    "    return: rank swapped dataframe \n",
    "    '''\n",
    "    if p == 0:\n",
    "        return df\n",
    "    \n",
    "    print(\"It will take \"+str(p)+\" neighbour(s) into consideration\")\n",
    "    print(str(columns) + \" - Swapping Range:\", str(np.round(100*p/len(df),4))+'%')\n",
    "    \n",
    "    df_ = df.copy()\n",
    "    length = len(df_)\n",
    "    \n",
    "    for column in columns:\n",
    "        df_.sort_values(by=column, inplace=True)\n",
    "        df_.reset_index(drop=True, inplace=True)\n",
    "        col_values = df_[column].copy()\n",
    "        for current_index in range(0, length):\n",
    "            swap_index = current_index + random.randint(-p,p)\n",
    "            if swap_index > length - 1:\n",
    "                swap_index = random.randint(current_index, length-1)\n",
    "            elif swap_index < 0:\n",
    "                swap_index = random.randint(0, current_index)\n",
    "            df_.at[current_index, column], df_.at[swap_index, column] = col_values[swap_index], col_values[current_index]\n",
    "            \n",
    "    return df_"
   ]
  },
  {
   "cell_type": "markdown",
   "metadata": {},
   "source": [
    "##### Apply rank swapping algorithm"
   ]
  },
  {
   "cell_type": "code",
   "execution_count": null,
   "metadata": {},
   "outputs": [],
   "source": [
    "x_train_unswapped.head()"
   ]
  },
  {
   "cell_type": "code",
   "execution_count": null,
   "metadata": {},
   "outputs": [],
   "source": [
    "x_train_swapped, y_train_swapped = x_train_unswapped.copy(), y_train_unswapped.copy()\n",
    "x_train_swapped['temp_label'] = y_train_swapped.copy()\n",
    "x_train_swapped = rank_swapping(x_train_swapped, ['bin', 'mail_id', 'ip_id', 'card_id'], p=100)\n",
    "y_train_swapped = x_train_swapped['temp_label'].copy()\n",
    "x_train_swapped.drop(columns=['temp_label'], inplace=True)"
   ]
  },
  {
   "cell_type": "code",
   "execution_count": null,
   "metadata": {},
   "outputs": [],
   "source": [
    "x_train_unswapped.head()"
   ]
  },
  {
   "cell_type": "code",
   "execution_count": null,
   "metadata": {},
   "outputs": [],
   "source": [
    "x_train_swapped.head()"
   ]
  },
  {
   "cell_type": "markdown",
   "metadata": {},
   "source": [
    "##### Train three classifiers using rank swapping/unswapping"
   ]
  },
  {
   "cell_type": "code",
   "execution_count": null,
   "metadata": {},
   "outputs": [],
   "source": [
    "def return_roc(model, x_train, y_train, x_test, y_test, normalize=True):\n",
    "    if (normalize):\n",
    "        scaler_norm = Normalizer().fit(x_train)\n",
    "        x_train = scaler_norm.transform(x_train)\n",
    "        x_test = scaler_norm.transform(x_test)\n",
    "    \n",
    "    model.fit(x_train, y_train)\n",
    "    probs = model.predict_proba(x_test)[:, 1]\n",
    "    auc = roc_auc_score(y_test, probs)\n",
    "    fpr, tpr, _ = roc_curve(y_test, probs)    \n",
    "    \n",
    "    return fpr, tpr, auc"
   ]
  },
  {
   "cell_type": "markdown",
   "metadata": {},
   "source": [
    "###### Decision Tree"
   ]
  },
  {
   "cell_type": "code",
   "execution_count": null,
   "metadata": {},
   "outputs": [],
   "source": [
    "dt = DecisionTreeClassifier(splitter='random', max_depth=10)\n",
    "plt.figure(figsize=(16,9))\n",
    "unswapped_fpr, unswapped_tpr, unswapped_auc = return_roc(dt, x_train_unswapped, y_train_unswapped, x_test, y_test)\n",
    "plt.plot(unswapped_fpr, unswapped_tpr, \"-D\", label='Unswapped', linewidth=2)\n",
    "swapped_fpr, swapped_tpr, swapped_auc = return_roc(dt, x_train_swapped, y_train_swapped, x_test, y_test)\n",
    "plt.plot(swapped_fpr, swapped_tpr, \"-X\", label='Swapped', linewidth=2)\n",
    "print(\"Unswapped AUC =\", unswapped_auc, \"Swapped AUC =\", swapped_auc)\n",
    "plt.xlabel('Flase Positive')\n",
    "plt.ylabel('True Positive')\n",
    "plt.legend(['Unswapped', 'Swapped'])\n",
    "plt.title(\"Decision Tree\")\n",
    "plt.show()"
   ]
  },
  {
   "cell_type": "code",
   "execution_count": null,
   "metadata": {},
   "outputs": [],
   "source": [
    "dt.fit(x_train_unswapped, y_train_unswapped)\n",
    "plot_confusion_matrix(dt, x_test, y_test)\n",
    "plt.title('confusion matrix')\n",
    "plt.show()"
   ]
  },
  {
   "cell_type": "markdown",
   "metadata": {},
   "source": [
    "###### Random Forest"
   ]
  },
  {
   "cell_type": "code",
   "execution_count": null,
   "metadata": {},
   "outputs": [],
   "source": [
    "rf = RandomForestClassifier(n_estimators=200, max_depth=3)\n",
    "plt.figure(figsize=(16,9))\n",
    "unswapped_fpr, unswapped_tpr, unswapped_auc = return_roc(rf, x_train_unswapped, y_train_unswapped, x_test, y_test, normalize=False)\n",
    "plt.plot(unswapped_fpr, unswapped_tpr, \"-D\", label='Unswapped', linewidth=2)\n",
    "swapped_fpr, swapped_tpr, swapped_auc = return_roc(rf, x_train_swapped, y_train_swapped, x_test, y_test, normalize=False)\n",
    "plt.plot(swapped_fpr, swapped_tpr, \"-X\", label='Swapped', linewidth=2)\n",
    "print(\"Unswapped AUC =\", unswapped_auc, \"Swapped AUC =\", swapped_auc)\n",
    "plt.xlabel('Flase Positive')\n",
    "plt.ylabel('True Positive')\n",
    "plt.legend(['Unswapped', 'Swapped'])\n",
    "plt.title(\"Random Forest\")\n",
    "plt.show()"
   ]
  },
  {
   "cell_type": "code",
   "execution_count": null,
   "metadata": {},
   "outputs": [],
   "source": [
    "rf.fit(x_train_unswapped, y_train_unswapped)\n",
    "plot_confusion_matrix(rf, x_test, y_test)\n",
    "plt.title('confusion matrix')\n",
    "plt.show()"
   ]
  },
  {
   "cell_type": "markdown",
   "metadata": {},
   "source": [
    "######  GaussianNB"
   ]
  },
  {
   "cell_type": "code",
   "execution_count": null,
   "metadata": {},
   "outputs": [],
   "source": [
    "nb = GaussianNB()\n",
    "plt.figure(figsize=(16,9))\n",
    "unswapped_fpr, unswapped_tpr, unswapped_auc = return_roc(nb, x_train_unswapped, y_train_unswapped, x_test, y_test)\n",
    "plt.plot(unswapped_fpr, unswapped_tpr, \"-D\", label='Unswapped', linewidth=2)\n",
    "swapped_fpr, swapped_tpr, swapped_auc = return_roc(nb, x_train_swapped, y_train_swapped, x_test, y_test)\n",
    "plt.plot(swapped_fpr, swapped_tpr, \"-X\", label='Swapped', linewidth=2)\n",
    "print(\"Unswapped AUC =\", unswapped_auc, \"Swapped AUC =\", swapped_auc)\n",
    "plt.xlabel('Flase Positive')\n",
    "plt.ylabel('True Positive')\n",
    "plt.legend(['Unswapped', 'Swapped'])\n",
    "plt.title(\"GaussianNB\")\n",
    "plt.show()"
   ]
  },
  {
   "cell_type": "code",
   "execution_count": null,
   "metadata": {},
   "outputs": [],
   "source": [
    "nb.fit(x_train_unswapped, y_train_unswapped)\n",
    "plot_confusion_matrix(nb, x_test, y_test)\n",
    "plt.title('confusion matrix')\n",
    "plt.show()"
   ]
  },
  {
   "cell_type": "markdown",
   "metadata": {},
   "source": [
    "### Analyse the performance of the classifiers. Explain which method performs best."
   ]
  },
  {
   "cell_type": "code",
   "execution_count": null,
   "metadata": {},
   "outputs": [],
   "source": []
  },
  {
   "cell_type": "markdown",
   "metadata": {},
   "source": [
    "### Can you explain the performance difference for the different classifiers? Is it advisable to protect people’s privacy using rank-swapping? Why (not)?"
   ]
  },
  {
   "cell_type": "code",
   "execution_count": null,
   "metadata": {},
   "outputs": [],
   "source": []
  },
  {
   "cell_type": "markdown",
   "metadata": {},
   "source": [
    "## Classification task"
   ]
  },
  {
   "cell_type": "markdown",
   "metadata": {},
   "source": [
    "### Print relevant plots and metrics with clear headings."
   ]
  },
  {
   "cell_type": "code",
   "execution_count": null,
   "metadata": {},
   "outputs": [],
   "source": [
    "def k_fold_validation(X, y, model, scoring='precision', k_flod=10):\n",
    "    cv = KFold(n_splits=k_flod, random_state=42, shuffle=True)\n",
    "    scores = cross_validate(model, X, y, scoring=scoring, return_estimator=True, cv=cv, n_jobs=-1)\n",
    "    max_score_index = np.argmax(scores['test_score'])\n",
    "    \n",
    "    return scores['test_score'][max_score_index], scores['estimator'][max_score_index] "
   ]
  },
  {
   "cell_type": "markdown",
   "metadata": {},
   "source": [
    "#### White Box - Decision Tree"
   ]
  },
  {
   "cell_type": "code",
   "execution_count": null,
   "metadata": {},
   "outputs": [],
   "source": [
    "dt = DecisionTreeClassifier(splitter='random', max_depth=10)\n",
    "dt_max_score, dt_estimator = k_fold_validation(X = x_train_unswapped, y = y_train_unswapped, model=dt)"
   ]
  },
  {
   "cell_type": "code",
   "execution_count": null,
   "metadata": {},
   "outputs": [],
   "source": [
    "plot_confusion_matrix(dt_estimator, x_test, y_test)\n",
    "plt.show()"
   ]
  },
  {
   "cell_type": "markdown",
   "metadata": {},
   "source": [
    "#### Black-box: Random Forest"
   ]
  },
  {
   "cell_type": "code",
   "execution_count": null,
   "metadata": {},
   "outputs": [],
   "source": [
    "rf = RandomForestClassifier(n_estimators=200, max_depth=5)\n",
    "rf_max_score, rf_estimator = k_fold_validation(X = x_train_unswapped, y = y_train_unswapped, model=rf)"
   ]
  },
  {
   "cell_type": "code",
   "execution_count": null,
   "metadata": {},
   "outputs": [],
   "source": [
    "plt.figure(figsize=(16,9))\n",
    "plot_confusion_matrix(rf_estimator, x_test, y_test)\n",
    "plt.show()"
   ]
  },
  {
   "cell_type": "markdown",
   "metadata": {},
   "source": [
    "### Explain the applied data pre-processing steps, learning algorithms, and post-processing steps or ensemble methods. Compare the performance of the two algorithms, focusing on performance criteria that are relevant in practice, use 10-fold cross-validation."
   ]
  },
  {
   "cell_type": "code",
   "execution_count": null,
   "metadata": {},
   "outputs": [],
   "source": []
  },
  {
   "cell_type": "markdown",
   "metadata": {},
   "source": [
    "## Bonus task"
   ]
  },
  {
   "cell_type": "markdown",
   "metadata": {},
   "source": [
    "### Provide code and report below"
   ]
  },
  {
   "cell_type": "code",
   "execution_count": null,
   "metadata": {},
   "outputs": [],
   "source": []
  }
 ],
 "metadata": {
  "kernelspec": {
   "display_name": "Python 3",
   "language": "python",
   "name": "python3"
  },
  "language_info": {
   "codemirror_mode": {
    "name": "ipython",
    "version": 3
   },
   "file_extension": ".py",
   "mimetype": "text/x-python",
   "name": "python",
   "nbconvert_exporter": "python",
   "pygments_lexer": "ipython3",
   "version": "3.8.3"
  }
 },
 "nbformat": 4,
 "nbformat_minor": 2
}
