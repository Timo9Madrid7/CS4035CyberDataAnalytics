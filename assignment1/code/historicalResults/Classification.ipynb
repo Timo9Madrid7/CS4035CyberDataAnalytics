{
 "cells": [
  {
   "cell_type": "code",
   "execution_count": 1,
   "metadata": {},
   "outputs": [],
   "source": [
    "import numpy as np \n",
    "import pandas as pd\n",
    "\n",
    "import random\n",
    "\n",
    "import matplotlib.pyplot as plt\n",
    "import seaborn as sns\n",
    "\n",
    "from imblearn.over_sampling import SMOTE\n",
    "\n",
    "from sklearn.preprocessing import LabelEncoder, Normalizer\n",
    "from sklearn.model_selection import train_test_split, KFold, cross_validate\n",
    "from sklearn.tree import DecisionTreeClassifier\n",
    "from sklearn.ensemble import RandomForestClassifier\n",
    "from sklearn.ensemble import AdaBoostClassifier\n",
    "from sklearn.naive_bayes import GaussianNB\n",
    "from sklearn.metrics import roc_curve, roc_auc_score, plot_confusion_matrix, confusion_matrix\n",
    "\n",
    "import warnings\n",
    "warnings.filterwarnings('ignore')\n",
    "\n",
    "from jupyterthemes import jtplot\n",
    "jtplot.style('grade3')"
   ]
  },
  {
   "cell_type": "markdown",
   "metadata": {},
   "source": [
    "# Read Data"
   ]
  },
  {
   "cell_type": "code",
   "execution_count": 2,
   "metadata": {
    "scrolled": true
   },
   "outputs": [
    {
     "data": {
      "text/html": [
       "<div>\n",
       "<style scoped>\n",
       "    .dataframe tbody tr th:only-of-type {\n",
       "        vertical-align: middle;\n",
       "    }\n",
       "\n",
       "    .dataframe tbody tr th {\n",
       "        vertical-align: top;\n",
       "    }\n",
       "\n",
       "    .dataframe thead th {\n",
       "        text-align: right;\n",
       "    }\n",
       "</style>\n",
       "<table border=\"1\" class=\"dataframe\">\n",
       "  <thead>\n",
       "    <tr style=\"text-align: right;\">\n",
       "      <th></th>\n",
       "      <th>txid</th>\n",
       "      <th>bookingdate</th>\n",
       "      <th>issuercountrycode</th>\n",
       "      <th>txvariantcode</th>\n",
       "      <th>bin</th>\n",
       "      <th>amount</th>\n",
       "      <th>currencycode</th>\n",
       "      <th>shoppercountrycode</th>\n",
       "      <th>shopperinteraction</th>\n",
       "      <th>simple_journal</th>\n",
       "      <th>cardverificationcodesupplied</th>\n",
       "      <th>cvcresponsecode</th>\n",
       "      <th>creationdate</th>\n",
       "      <th>accountcode</th>\n",
       "      <th>mail_id</th>\n",
       "      <th>ip_id</th>\n",
       "      <th>card_id</th>\n",
       "    </tr>\n",
       "  </thead>\n",
       "  <tbody>\n",
       "    <tr>\n",
       "      <th>0</th>\n",
       "      <td>1</td>\n",
       "      <td>2015-11-09 14:26:51</td>\n",
       "      <td>MX</td>\n",
       "      <td>mccredit</td>\n",
       "      <td>530056.0</td>\n",
       "      <td>64800.0</td>\n",
       "      <td>MXN</td>\n",
       "      <td>MX</td>\n",
       "      <td>Ecommerce</td>\n",
       "      <td>Chargeback</td>\n",
       "      <td>True</td>\n",
       "      <td>0</td>\n",
       "      <td>2015-07-01 23:03:11</td>\n",
       "      <td>MexicoAccount</td>\n",
       "      <td>email68370</td>\n",
       "      <td>ip111778</td>\n",
       "      <td>card184798</td>\n",
       "    </tr>\n",
       "    <tr>\n",
       "      <th>1</th>\n",
       "      <td>2</td>\n",
       "      <td>2015-11-09 14:27:38</td>\n",
       "      <td>MX</td>\n",
       "      <td>mccredit</td>\n",
       "      <td>547046.0</td>\n",
       "      <td>44900.0</td>\n",
       "      <td>MXN</td>\n",
       "      <td>MX</td>\n",
       "      <td>Ecommerce</td>\n",
       "      <td>Chargeback</td>\n",
       "      <td>True</td>\n",
       "      <td>0</td>\n",
       "      <td>2015-07-02 04:50:55</td>\n",
       "      <td>MexicoAccount</td>\n",
       "      <td>email101299</td>\n",
       "      <td>ip78749</td>\n",
       "      <td>card151595</td>\n",
       "    </tr>\n",
       "    <tr>\n",
       "      <th>2</th>\n",
       "      <td>3</td>\n",
       "      <td>2015-11-23 16:34:16</td>\n",
       "      <td>MX</td>\n",
       "      <td>mccredit</td>\n",
       "      <td>528843.0</td>\n",
       "      <td>149900.0</td>\n",
       "      <td>MXN</td>\n",
       "      <td>MX</td>\n",
       "      <td>Ecommerce</td>\n",
       "      <td>Chargeback</td>\n",
       "      <td>True</td>\n",
       "      <td>0</td>\n",
       "      <td>2015-07-02 14:30:28</td>\n",
       "      <td>MexicoAccount</td>\n",
       "      <td>email278604</td>\n",
       "      <td>ip70594</td>\n",
       "      <td>card242142</td>\n",
       "    </tr>\n",
       "    <tr>\n",
       "      <th>3</th>\n",
       "      <td>4</td>\n",
       "      <td>2015-11-23 16:34:51</td>\n",
       "      <td>MX</td>\n",
       "      <td>mccredit</td>\n",
       "      <td>547146.0</td>\n",
       "      <td>109900.0</td>\n",
       "      <td>MXN</td>\n",
       "      <td>MX</td>\n",
       "      <td>Ecommerce</td>\n",
       "      <td>Chargeback</td>\n",
       "      <td>True</td>\n",
       "      <td>0</td>\n",
       "      <td>2015-07-03 07:53:37</td>\n",
       "      <td>MexicoAccount</td>\n",
       "      <td>email47409</td>\n",
       "      <td>ip113648</td>\n",
       "      <td>card181744</td>\n",
       "    </tr>\n",
       "    <tr>\n",
       "      <th>4</th>\n",
       "      <td>5</td>\n",
       "      <td>2015-11-09 14:26:08</td>\n",
       "      <td>MX</td>\n",
       "      <td>visaclassic</td>\n",
       "      <td>477291.0</td>\n",
       "      <td>89900.0</td>\n",
       "      <td>MXN</td>\n",
       "      <td>MX</td>\n",
       "      <td>Ecommerce</td>\n",
       "      <td>Chargeback</td>\n",
       "      <td>True</td>\n",
       "      <td>0</td>\n",
       "      <td>2015-07-08 18:35:35</td>\n",
       "      <td>MexicoAccount</td>\n",
       "      <td>email205501</td>\n",
       "      <td>ip83553</td>\n",
       "      <td>card97271</td>\n",
       "    </tr>\n",
       "  </tbody>\n",
       "</table>\n",
       "</div>"
      ],
      "text/plain": [
       "   txid          bookingdate issuercountrycode txvariantcode       bin  \\\n",
       "0     1  2015-11-09 14:26:51                MX      mccredit  530056.0   \n",
       "1     2  2015-11-09 14:27:38                MX      mccredit  547046.0   \n",
       "2     3  2015-11-23 16:34:16                MX      mccredit  528843.0   \n",
       "3     4  2015-11-23 16:34:51                MX      mccredit  547146.0   \n",
       "4     5  2015-11-09 14:26:08                MX   visaclassic  477291.0   \n",
       "\n",
       "     amount currencycode shoppercountrycode shopperinteraction simple_journal  \\\n",
       "0   64800.0          MXN                 MX          Ecommerce     Chargeback   \n",
       "1   44900.0          MXN                 MX          Ecommerce     Chargeback   \n",
       "2  149900.0          MXN                 MX          Ecommerce     Chargeback   \n",
       "3  109900.0          MXN                 MX          Ecommerce     Chargeback   \n",
       "4   89900.0          MXN                 MX          Ecommerce     Chargeback   \n",
       "\n",
       "  cardverificationcodesupplied  cvcresponsecode         creationdate  \\\n",
       "0                         True                0  2015-07-01 23:03:11   \n",
       "1                         True                0  2015-07-02 04:50:55   \n",
       "2                         True                0  2015-07-02 14:30:28   \n",
       "3                         True                0  2015-07-03 07:53:37   \n",
       "4                         True                0  2015-07-08 18:35:35   \n",
       "\n",
       "     accountcode      mail_id     ip_id     card_id  \n",
       "0  MexicoAccount   email68370  ip111778  card184798  \n",
       "1  MexicoAccount  email101299   ip78749  card151595  \n",
       "2  MexicoAccount  email278604   ip70594  card242142  \n",
       "3  MexicoAccount   email47409  ip113648  card181744  \n",
       "4  MexicoAccount  email205501   ip83553   card97271  "
      ]
     },
     "execution_count": 2,
     "metadata": {},
     "output_type": "execute_result"
    }
   ],
   "source": [
    "df = pd.read_csv('./data_for_student_case.csv')\n",
    "df.head()"
   ]
  },
  {
   "cell_type": "code",
   "execution_count": 3,
   "metadata": {
    "scrolled": true
   },
   "outputs": [
    {
     "name": "stdout",
     "output_type": "stream",
     "text": [
      "Chargeback: 345 (0.12%)\n",
      "Refused: 53346 (18.37%)\n",
      "Settled: 236691 (81.51%)\n"
     ]
    }
   ],
   "source": [
    "type_name, type_count = np.unique(df['simple_journal'], return_counts=True)\n",
    "for i in range(len(type_name)):\n",
    "    print(str(type_name[i])+':', type_count[i], '('+str(100*np.round(type_count[i]/len(df),4))+'%)')"
   ]
  },
  {
   "cell_type": "markdown",
   "metadata": {},
   "source": [
    "# Data Preprocessing"
   ]
  },
  {
   "cell_type": "markdown",
   "metadata": {},
   "source": [
    "## Delete Refused Catagory"
   ]
  },
  {
   "cell_type": "code",
   "execution_count": 4,
   "metadata": {},
   "outputs": [
    {
     "name": "stdout",
     "output_type": "stream",
     "text": [
      "Chargeback: 345 (0.15%)\n",
      "Settled: 236691 (99.85000000000001%)\n"
     ]
    }
   ],
   "source": [
    "df_new = df[df['simple_journal'] != 'Refused'].copy()\n",
    "type_name, type_count = np.unique(df_new['simple_journal'], return_counts=True)\n",
    "for i in range(len(type_name)):\n",
    "    print(str(type_name[i])+':', type_count[i], '('+str(100*np.round(type_count[i]/len(df_new),4))+'%)')"
   ]
  },
  {
   "cell_type": "markdown",
   "metadata": {},
   "source": [
    "## CVCResponseCode Aggregation"
   ]
  },
  {
   "cell_type": "code",
   "execution_count": 5,
   "metadata": {},
   "outputs": [],
   "source": [
    "df_new['cvcRes'] = df_new['cvcresponsecode'].apply(lambda x: 3 if (x >= 3 and x<6) else x)"
   ]
  },
  {
   "cell_type": "markdown",
   "metadata": {},
   "source": [
    "## Data Encoding"
   ]
  },
  {
   "cell_type": "code",
   "execution_count": 6,
   "metadata": {},
   "outputs": [],
   "source": [
    "# 1.label.\n",
    "df_new['label'] = df['simple_journal'].apply(lambda x: 1 if x == 'Chargeback' else 0)\n",
    "\n",
    "# 2.creationdate.\n",
    "df_new['creationdate'] = pd.to_datetime(df_new['creationdate'])\n",
    "df_new['creationdate'] = df_new['creationdate'].dt.date\n",
    "date_enc = LabelEncoder()\n",
    "date_enc.fit(df_new['creationdate'])\n",
    "df_new['date'] = date_enc.transform(df_new['creationdate'])\n",
    "\n",
    "# 3.txvariantcode.\n",
    "txc_enc = LabelEncoder()\n",
    "txc_enc.fit(df_new['txvariantcode'])\n",
    "df_new['txCode'] = txc_enc.transform(df_new['txvariantcode'])\n",
    "\n",
    "# 4.issuercountrycode.\n",
    "issue_enc = LabelEncoder()\n",
    "issue_enc.fit(df_new['issuercountrycode'].astype(str))\n",
    "df_new['issuerCountry'] = issue_enc.transform(df_new['issuercountrycode'].astype(str))\n",
    "\n",
    "# 5.accountcode.\n",
    "account_enc = LabelEncoder()\n",
    "account_enc.fit(df_new['accountcode'])\n",
    "df_new['account'] = account_enc.transform(df_new['accountcode'])\n",
    "\n",
    "# 6.shopperinteraction.\n",
    "interaction_enc = LabelEncoder()\n",
    "interaction_enc.fit(df_new['shopperinteraction'])\n",
    "df_new['interaction'] = interaction_enc.transform(df_new['shopperinteraction'])\n",
    "\n",
    "# 7.shoppercountrycode.\n",
    "shopperCountry_enc = LabelEncoder()\n",
    "shopperCountry_enc.fit(df_new['shoppercountrycode'].astype(str))\n",
    "df_new['shopperCountry'] = shopperCountry_enc.transform(df_new['shoppercountrycode'].astype(str))"
   ]
  },
  {
   "cell_type": "code",
   "execution_count": 7,
   "metadata": {},
   "outputs": [],
   "source": [
    "# 8.converting different currency to a homogeneous value.\n",
    "to_euro = {\n",
    "    'AUD': 0.64147,\n",
    "    'GBP': 1.1494,\n",
    "    'MXN': 0.04169,\n",
    "    'NZD': 0.59499,\n",
    "    'SEK': 0.09859\n",
    "}\n",
    "def amount_to_euro(df_colums):\n",
    "    amount, currency = df_colums\n",
    "    return to_euro[currency] * amount / 100\n",
    "df_new['euroAmount'] = df_new[['amount', 'currencycode']].apply(amount_to_euro, axis=1)"
   ]
  },
  {
   "cell_type": "code",
   "execution_count": 8,
   "metadata": {},
   "outputs": [],
   "source": [
    "# 9.card_id.\n",
    "card_enc = LabelEncoder()\n",
    "card_enc.fit(df_new['card_id'])\n",
    "df_new['card_id'] = card_enc.transform(df_new['card_id'])\n",
    "\n",
    "# 10.ip_id.\n",
    "ip_enc = LabelEncoder()\n",
    "ip_enc.fit(df_new['ip_id'])\n",
    "df_new['ip_id'] = ip_enc.transform(df_new['ip_id'])\n",
    "\n",
    "# 11.mail_id.\n",
    "mail_enc = LabelEncoder()\n",
    "mail_enc.fit(df_new['mail_id'])\n",
    "df_new['mail_id'] = mail_enc.transform(df_new['mail_id'])"
   ]
  },
  {
   "cell_type": "markdown",
   "metadata": {},
   "source": [
    "## Useful Columns Extraction"
   ]
  },
  {
   "cell_type": "code",
   "execution_count": 9,
   "metadata": {},
   "outputs": [],
   "source": [
    "df_trial = df_new[[\n",
    "    'date', 'issuerCountry', \n",
    "    'shopperCountry', 'interaction', 'euroAmount', 'cardverificationcodesupplied', 'cvcRes', \n",
    "    'mail_id', 'ip_id', 'card_id', 'bin','txCode', 'account', 'label'\n",
    "    ]].copy()"
   ]
  },
  {
   "cell_type": "markdown",
   "metadata": {},
   "source": [
    "## NAN Modification"
   ]
  },
  {
   "cell_type": "code",
   "execution_count": 10,
   "metadata": {},
   "outputs": [
    {
     "name": "stdout",
     "output_type": "stream",
     "text": [
      "[]\n"
     ]
    }
   ],
   "source": [
    "df_trial.loc[df_trial['cardverificationcodesupplied'].isna(),'cardverificationcodesupplied'] = False\n",
    "df_trial.loc[df_trial['issuerCountry'].isna(),'issuerCountry'] = 'ZZ'\n",
    "df_trial.loc[df_trial['shopperCountry'].isna(),'shopperCountry'] = 'ZZ'\n",
    "\n",
    "print(np.where(df_trial.isna())[1]) #no NAN anymore"
   ]
  },
  {
   "cell_type": "markdown",
   "metadata": {},
   "source": [
    "## Data Spliting"
   ]
  },
  {
   "cell_type": "code",
   "execution_count": 11,
   "metadata": {},
   "outputs": [],
   "source": [
    "df_label = df_trial['label']\n",
    "df_sample = df_trial[[\n",
    "    'date', 'issuerCountry', \n",
    "    'shopperCountry', 'interaction', 'euroAmount', 'cardverificationcodesupplied', 'cvcRes', \n",
    "    'mail_id', 'ip_id', 'card_id', 'bin','txCode', 'account'\n",
    "    ]]\n",
    "\n",
    "x_train, x_test, y_train, y_test = train_test_split(df_sample, df_label, test_size=0.20, shuffle=True, random_state=42)"
   ]
  },
  {
   "cell_type": "markdown",
   "metadata": {},
   "source": [
    "## Resample"
   ]
  },
  {
   "cell_type": "code",
   "execution_count": 12,
   "metadata": {},
   "outputs": [],
   "source": [
    "def smote(X,y):\n",
    "    sm = SMOTE(random_state=42)\n",
    "    X_res, y_res = sm.fit_resample(X, y)\n",
    "    return X_res, y_res"
   ]
  },
  {
   "cell_type": "code",
   "execution_count": 13,
   "metadata": {},
   "outputs": [
    {
     "name": "stdout",
     "output_type": "stream",
     "text": [
      "After SMOTE: (array([0, 1], dtype=int64), array([189358, 189358], dtype=int64))\n"
     ]
    }
   ],
   "source": [
    "x_train_unswapped, y_train_unswapped = smote(x_train, y_train)\n",
    "print(\"After SMOTE:\", np.unique(y_train_unswapped, return_counts=True))"
   ]
  },
  {
   "cell_type": "markdown",
   "metadata": {},
   "source": [
    "## Rank Swapping\n",
    "The rank swapping alogrithm will be applied to:\n",
    "- bin: card issuer identifier\n",
    "- mail_id: Email address\n",
    "- ip_id: Ip address\n",
    "- card_id: Card number"
   ]
  },
  {
   "cell_type": "markdown",
   "metadata": {},
   "source": [
    "### Implement the rank swapping algorithm."
   ]
  },
  {
   "cell_type": "code",
   "execution_count": 14,
   "metadata": {},
   "outputs": [],
   "source": [
    "def rank_swapping(df, columns, p=1):\n",
    "    '''\n",
    "    df: pandas dataframe\n",
    "    columns: the string names of columns\n",
    "    p: the swapping range p%\n",
    "    replace: replace the original dataframe\n",
    "    \n",
    "    return: rank swapped dataframe \n",
    "    '''\n",
    "    if p == 0:\n",
    "        return df\n",
    "    \n",
    "    print(\"It will take \"+str(p)+\" neighbour(s) into consideration\")\n",
    "    print(str(columns) + \" - Swapping Range:\", str(np.round(100*p/len(df),4))+'%')\n",
    "    \n",
    "    df_ = df.copy()\n",
    "    length = len(df_)\n",
    "    \n",
    "    for column in columns:\n",
    "        df_.sort_values(by=column, inplace=True)\n",
    "        df_.reset_index(drop=True, inplace=True)\n",
    "        col_values = df_[column].copy()\n",
    "        for current_index in range(0, length):\n",
    "            swap_index = current_index + random.randint(-p,p)\n",
    "            if swap_index > length - 1:\n",
    "                swap_index = random.randint(current_index, length-1)\n",
    "            elif swap_index < 0:\n",
    "                swap_index = random.randint(0, current_index)\n",
    "            df_.at[current_index, column], df_.at[swap_index, column] = col_values[swap_index], col_values[current_index]\n",
    "            \n",
    "    return df_"
   ]
  },
  {
   "cell_type": "markdown",
   "metadata": {},
   "source": [
    "### Apply rank swapping algorithm"
   ]
  },
  {
   "cell_type": "code",
   "execution_count": 15,
   "metadata": {},
   "outputs": [
    {
     "data": {
      "text/html": [
       "<div>\n",
       "<style scoped>\n",
       "    .dataframe tbody tr th:only-of-type {\n",
       "        vertical-align: middle;\n",
       "    }\n",
       "\n",
       "    .dataframe tbody tr th {\n",
       "        vertical-align: top;\n",
       "    }\n",
       "\n",
       "    .dataframe thead th {\n",
       "        text-align: right;\n",
       "    }\n",
       "</style>\n",
       "<table border=\"1\" class=\"dataframe\">\n",
       "  <thead>\n",
       "    <tr style=\"text-align: right;\">\n",
       "      <th></th>\n",
       "      <th>date</th>\n",
       "      <th>issuerCountry</th>\n",
       "      <th>shopperCountry</th>\n",
       "      <th>interaction</th>\n",
       "      <th>euroAmount</th>\n",
       "      <th>cardverificationcodesupplied</th>\n",
       "      <th>cvcRes</th>\n",
       "      <th>mail_id</th>\n",
       "      <th>ip_id</th>\n",
       "      <th>card_id</th>\n",
       "      <th>bin</th>\n",
       "      <th>txCode</th>\n",
       "      <th>account</th>\n",
       "    </tr>\n",
       "  </thead>\n",
       "  <tbody>\n",
       "    <tr>\n",
       "      <th>0</th>\n",
       "      <td>91</td>\n",
       "      <td>7</td>\n",
       "      <td>8</td>\n",
       "      <td>1</td>\n",
       "      <td>102.63520</td>\n",
       "      <td>1</td>\n",
       "      <td>0</td>\n",
       "      <td>123705</td>\n",
       "      <td>31114</td>\n",
       "      <td>160263</td>\n",
       "      <td>401795.0</td>\n",
       "      <td>8</td>\n",
       "      <td>0</td>\n",
       "    </tr>\n",
       "    <tr>\n",
       "      <th>1</th>\n",
       "      <td>47</td>\n",
       "      <td>96</td>\n",
       "      <td>122</td>\n",
       "      <td>1</td>\n",
       "      <td>117.32210</td>\n",
       "      <td>1</td>\n",
       "      <td>1</td>\n",
       "      <td>2173</td>\n",
       "      <td>89498</td>\n",
       "      <td>30314</td>\n",
       "      <td>453903.0</td>\n",
       "      <td>8</td>\n",
       "      <td>2</td>\n",
       "    </tr>\n",
       "    <tr>\n",
       "      <th>2</th>\n",
       "      <td>18</td>\n",
       "      <td>40</td>\n",
       "      <td>47</td>\n",
       "      <td>1</td>\n",
       "      <td>36.72333</td>\n",
       "      <td>1</td>\n",
       "      <td>1</td>\n",
       "      <td>204188</td>\n",
       "      <td>204483</td>\n",
       "      <td>192658</td>\n",
       "      <td>475117.0</td>\n",
       "      <td>8</td>\n",
       "      <td>3</td>\n",
       "    </tr>\n",
       "    <tr>\n",
       "      <th>3</th>\n",
       "      <td>38</td>\n",
       "      <td>40</td>\n",
       "      <td>47</td>\n",
       "      <td>1</td>\n",
       "      <td>51.72300</td>\n",
       "      <td>1</td>\n",
       "      <td>1</td>\n",
       "      <td>58864</td>\n",
       "      <td>136516</td>\n",
       "      <td>195673</td>\n",
       "      <td>475117.0</td>\n",
       "      <td>8</td>\n",
       "      <td>3</td>\n",
       "    </tr>\n",
       "    <tr>\n",
       "      <th>4</th>\n",
       "      <td>106</td>\n",
       "      <td>40</td>\n",
       "      <td>47</td>\n",
       "      <td>1</td>\n",
       "      <td>32.12573</td>\n",
       "      <td>1</td>\n",
       "      <td>1</td>\n",
       "      <td>132837</td>\n",
       "      <td>5577</td>\n",
       "      <td>8567</td>\n",
       "      <td>492181.0</td>\n",
       "      <td>8</td>\n",
       "      <td>3</td>\n",
       "    </tr>\n",
       "  </tbody>\n",
       "</table>\n",
       "</div>"
      ],
      "text/plain": [
       "   date issuerCountry shopperCountry  interaction  euroAmount  \\\n",
       "0    91             7              8            1   102.63520   \n",
       "1    47            96            122            1   117.32210   \n",
       "2    18            40             47            1    36.72333   \n",
       "3    38            40             47            1    51.72300   \n",
       "4   106            40             47            1    32.12573   \n",
       "\n",
       "  cardverificationcodesupplied  cvcRes  mail_id   ip_id  card_id       bin  \\\n",
       "0                            1       0   123705   31114   160263  401795.0   \n",
       "1                            1       1     2173   89498    30314  453903.0   \n",
       "2                            1       1   204188  204483   192658  475117.0   \n",
       "3                            1       1    58864  136516   195673  475117.0   \n",
       "4                            1       1   132837    5577     8567  492181.0   \n",
       "\n",
       "   txCode  account  \n",
       "0       8        0  \n",
       "1       8        2  \n",
       "2       8        3  \n",
       "3       8        3  \n",
       "4       8        3  "
      ]
     },
     "execution_count": 15,
     "metadata": {},
     "output_type": "execute_result"
    }
   ],
   "source": [
    "x_train_unswapped.head()"
   ]
  },
  {
   "cell_type": "code",
   "execution_count": 16,
   "metadata": {},
   "outputs": [
    {
     "name": "stdout",
     "output_type": "stream",
     "text": [
      "It will take 100 neighbour(s) into consideration\n",
      "['bin', 'mail_id', 'ip_id', 'card_id'] - Swapping Range: 0.0264%\n"
     ]
    }
   ],
   "source": [
    "x_train_swapped, y_train_swapped = x_train_unswapped.copy(), y_train_unswapped.copy()\n",
    "x_train_swapped['temp_label'] = y_train_swapped.copy()\n",
    "x_train_swapped = rank_swapping(x_train_swapped, ['bin', 'mail_id', 'ip_id', 'card_id'], p=100)\n",
    "y_train_swapped = x_train_swapped['temp_label'].copy()\n",
    "x_train_swapped.drop(columns=['temp_label'], inplace=True)"
   ]
  },
  {
   "cell_type": "code",
   "execution_count": 17,
   "metadata": {},
   "outputs": [
    {
     "data": {
      "text/html": [
       "<div>\n",
       "<style scoped>\n",
       "    .dataframe tbody tr th:only-of-type {\n",
       "        vertical-align: middle;\n",
       "    }\n",
       "\n",
       "    .dataframe tbody tr th {\n",
       "        vertical-align: top;\n",
       "    }\n",
       "\n",
       "    .dataframe thead th {\n",
       "        text-align: right;\n",
       "    }\n",
       "</style>\n",
       "<table border=\"1\" class=\"dataframe\">\n",
       "  <thead>\n",
       "    <tr style=\"text-align: right;\">\n",
       "      <th></th>\n",
       "      <th>date</th>\n",
       "      <th>issuerCountry</th>\n",
       "      <th>shopperCountry</th>\n",
       "      <th>interaction</th>\n",
       "      <th>euroAmount</th>\n",
       "      <th>cardverificationcodesupplied</th>\n",
       "      <th>cvcRes</th>\n",
       "      <th>mail_id</th>\n",
       "      <th>ip_id</th>\n",
       "      <th>card_id</th>\n",
       "      <th>bin</th>\n",
       "      <th>txCode</th>\n",
       "      <th>account</th>\n",
       "    </tr>\n",
       "  </thead>\n",
       "  <tbody>\n",
       "    <tr>\n",
       "      <th>0</th>\n",
       "      <td>91</td>\n",
       "      <td>7</td>\n",
       "      <td>8</td>\n",
       "      <td>1</td>\n",
       "      <td>102.63520</td>\n",
       "      <td>1</td>\n",
       "      <td>0</td>\n",
       "      <td>123705</td>\n",
       "      <td>31114</td>\n",
       "      <td>160263</td>\n",
       "      <td>401795.0</td>\n",
       "      <td>8</td>\n",
       "      <td>0</td>\n",
       "    </tr>\n",
       "    <tr>\n",
       "      <th>1</th>\n",
       "      <td>47</td>\n",
       "      <td>96</td>\n",
       "      <td>122</td>\n",
       "      <td>1</td>\n",
       "      <td>117.32210</td>\n",
       "      <td>1</td>\n",
       "      <td>1</td>\n",
       "      <td>2173</td>\n",
       "      <td>89498</td>\n",
       "      <td>30314</td>\n",
       "      <td>453903.0</td>\n",
       "      <td>8</td>\n",
       "      <td>2</td>\n",
       "    </tr>\n",
       "    <tr>\n",
       "      <th>2</th>\n",
       "      <td>18</td>\n",
       "      <td>40</td>\n",
       "      <td>47</td>\n",
       "      <td>1</td>\n",
       "      <td>36.72333</td>\n",
       "      <td>1</td>\n",
       "      <td>1</td>\n",
       "      <td>204188</td>\n",
       "      <td>204483</td>\n",
       "      <td>192658</td>\n",
       "      <td>475117.0</td>\n",
       "      <td>8</td>\n",
       "      <td>3</td>\n",
       "    </tr>\n",
       "    <tr>\n",
       "      <th>3</th>\n",
       "      <td>38</td>\n",
       "      <td>40</td>\n",
       "      <td>47</td>\n",
       "      <td>1</td>\n",
       "      <td>51.72300</td>\n",
       "      <td>1</td>\n",
       "      <td>1</td>\n",
       "      <td>58864</td>\n",
       "      <td>136516</td>\n",
       "      <td>195673</td>\n",
       "      <td>475117.0</td>\n",
       "      <td>8</td>\n",
       "      <td>3</td>\n",
       "    </tr>\n",
       "    <tr>\n",
       "      <th>4</th>\n",
       "      <td>106</td>\n",
       "      <td>40</td>\n",
       "      <td>47</td>\n",
       "      <td>1</td>\n",
       "      <td>32.12573</td>\n",
       "      <td>1</td>\n",
       "      <td>1</td>\n",
       "      <td>132837</td>\n",
       "      <td>5577</td>\n",
       "      <td>8567</td>\n",
       "      <td>492181.0</td>\n",
       "      <td>8</td>\n",
       "      <td>3</td>\n",
       "    </tr>\n",
       "  </tbody>\n",
       "</table>\n",
       "</div>"
      ],
      "text/plain": [
       "   date issuerCountry shopperCountry  interaction  euroAmount  \\\n",
       "0    91             7              8            1   102.63520   \n",
       "1    47            96            122            1   117.32210   \n",
       "2    18            40             47            1    36.72333   \n",
       "3    38            40             47            1    51.72300   \n",
       "4   106            40             47            1    32.12573   \n",
       "\n",
       "  cardverificationcodesupplied  cvcRes  mail_id   ip_id  card_id       bin  \\\n",
       "0                            1       0   123705   31114   160263  401795.0   \n",
       "1                            1       1     2173   89498    30314  453903.0   \n",
       "2                            1       1   204188  204483   192658  475117.0   \n",
       "3                            1       1    58864  136516   195673  475117.0   \n",
       "4                            1       1   132837    5577     8567  492181.0   \n",
       "\n",
       "   txCode  account  \n",
       "0       8        0  \n",
       "1       8        2  \n",
       "2       8        3  \n",
       "3       8        3  \n",
       "4       8        3  "
      ]
     },
     "execution_count": 17,
     "metadata": {},
     "output_type": "execute_result"
    }
   ],
   "source": [
    "x_train_unswapped.head()"
   ]
  },
  {
   "cell_type": "code",
   "execution_count": 18,
   "metadata": {},
   "outputs": [
    {
     "data": {
      "text/html": [
       "<div>\n",
       "<style scoped>\n",
       "    .dataframe tbody tr th:only-of-type {\n",
       "        vertical-align: middle;\n",
       "    }\n",
       "\n",
       "    .dataframe tbody tr th {\n",
       "        vertical-align: top;\n",
       "    }\n",
       "\n",
       "    .dataframe thead th {\n",
       "        text-align: right;\n",
       "    }\n",
       "</style>\n",
       "<table border=\"1\" class=\"dataframe\">\n",
       "  <thead>\n",
       "    <tr style=\"text-align: right;\">\n",
       "      <th></th>\n",
       "      <th>date</th>\n",
       "      <th>issuerCountry</th>\n",
       "      <th>shopperCountry</th>\n",
       "      <th>interaction</th>\n",
       "      <th>euroAmount</th>\n",
       "      <th>cardverificationcodesupplied</th>\n",
       "      <th>cvcRes</th>\n",
       "      <th>mail_id</th>\n",
       "      <th>ip_id</th>\n",
       "      <th>card_id</th>\n",
       "      <th>bin</th>\n",
       "      <th>txCode</th>\n",
       "      <th>account</th>\n",
       "    </tr>\n",
       "  </thead>\n",
       "  <tbody>\n",
       "    <tr>\n",
       "      <th>0</th>\n",
       "      <td>99</td>\n",
       "      <td>40</td>\n",
       "      <td>47</td>\n",
       "      <td>1</td>\n",
       "      <td>50.228780</td>\n",
       "      <td>0</td>\n",
       "      <td>1</td>\n",
       "      <td>148819</td>\n",
       "      <td>174921</td>\n",
       "      <td>0</td>\n",
       "      <td>465859.0</td>\n",
       "      <td>8</td>\n",
       "      <td>3</td>\n",
       "    </tr>\n",
       "    <tr>\n",
       "      <th>1</th>\n",
       "      <td>107</td>\n",
       "      <td>40</td>\n",
       "      <td>47</td>\n",
       "      <td>1</td>\n",
       "      <td>92.722098</td>\n",
       "      <td>1</td>\n",
       "      <td>1</td>\n",
       "      <td>121985</td>\n",
       "      <td>11319</td>\n",
       "      <td>66</td>\n",
       "      <td>527669.0</td>\n",
       "      <td>2</td>\n",
       "      <td>3</td>\n",
       "    </tr>\n",
       "    <tr>\n",
       "      <th>2</th>\n",
       "      <td>7</td>\n",
       "      <td>40</td>\n",
       "      <td>47</td>\n",
       "      <td>1</td>\n",
       "      <td>88.216450</td>\n",
       "      <td>1</td>\n",
       "      <td>1</td>\n",
       "      <td>16591</td>\n",
       "      <td>198545</td>\n",
       "      <td>24</td>\n",
       "      <td>475129.0</td>\n",
       "      <td>8</td>\n",
       "      <td>3</td>\n",
       "    </tr>\n",
       "    <tr>\n",
       "      <th>3</th>\n",
       "      <td>105</td>\n",
       "      <td>40</td>\n",
       "      <td>47</td>\n",
       "      <td>1</td>\n",
       "      <td>99.066786</td>\n",
       "      <td>1</td>\n",
       "      <td>1</td>\n",
       "      <td>120692</td>\n",
       "      <td>40614</td>\n",
       "      <td>81</td>\n",
       "      <td>465901.0</td>\n",
       "      <td>8</td>\n",
       "      <td>3</td>\n",
       "    </tr>\n",
       "    <tr>\n",
       "      <th>4</th>\n",
       "      <td>18</td>\n",
       "      <td>40</td>\n",
       "      <td>47</td>\n",
       "      <td>1</td>\n",
       "      <td>62.010130</td>\n",
       "      <td>1</td>\n",
       "      <td>1</td>\n",
       "      <td>204598</td>\n",
       "      <td>11657</td>\n",
       "      <td>117</td>\n",
       "      <td>465838.0</td>\n",
       "      <td>8</td>\n",
       "      <td>3</td>\n",
       "    </tr>\n",
       "  </tbody>\n",
       "</table>\n",
       "</div>"
      ],
      "text/plain": [
       "   date issuerCountry shopperCountry  interaction  euroAmount  \\\n",
       "0    99            40             47            1   50.228780   \n",
       "1   107            40             47            1   92.722098   \n",
       "2     7            40             47            1   88.216450   \n",
       "3   105            40             47            1   99.066786   \n",
       "4    18            40             47            1   62.010130   \n",
       "\n",
       "  cardverificationcodesupplied  cvcRes  mail_id   ip_id  card_id       bin  \\\n",
       "0                            0       1   148819  174921        0  465859.0   \n",
       "1                            1       1   121985   11319       66  527669.0   \n",
       "2                            1       1    16591  198545       24  475129.0   \n",
       "3                            1       1   120692   40614       81  465901.0   \n",
       "4                            1       1   204598   11657      117  465838.0   \n",
       "\n",
       "   txCode  account  \n",
       "0       8        3  \n",
       "1       2        3  \n",
       "2       8        3  \n",
       "3       8        3  \n",
       "4       8        3  "
      ]
     },
     "execution_count": 18,
     "metadata": {},
     "output_type": "execute_result"
    }
   ],
   "source": [
    "x_train_swapped.head()"
   ]
  },
  {
   "cell_type": "markdown",
   "metadata": {},
   "source": [
    "## Train three classifiers using rank swapping/unswapping"
   ]
  },
  {
   "cell_type": "code",
   "execution_count": 19,
   "metadata": {},
   "outputs": [],
   "source": [
    "def return_roc(model, x_train, y_train, x_test, y_test, normalize=True):\n",
    "    if (normalize):\n",
    "        scaler_norm = Normalizer().fit(x_train)\n",
    "        x_train = scaler_norm.transform(x_train)\n",
    "        x_test = scaler_norm.transform(x_test)\n",
    "    \n",
    "    model.fit(x_train, y_train)\n",
    "    probs = model.predict_proba(x_test)[:, 1]\n",
    "    auc = roc_auc_score(y_test, probs)\n",
    "    fpr, tpr, _ = roc_curve(y_test, probs)    \n",
    "    \n",
    "    return fpr, tpr, auc"
   ]
  },
  {
   "cell_type": "markdown",
   "metadata": {},
   "source": [
    "### Decision Tree"
   ]
  },
  {
   "cell_type": "code",
   "execution_count": 20,
   "metadata": {},
   "outputs": [
    {
     "name": "stdout",
     "output_type": "stream",
     "text": [
      "Unswapped AUC = 0.8674868132874175 Swapped AUC = 0.8761870154015169\n"
     ]
    },
    {
     "data": {
      "image/png": "[encoded data removed]",
      "text/plain": [
       "<Figure size 1152x648 with 1 Axes>"
      ]
     },
     "metadata": {},
     "output_type": "display_data"
    }
   ],
   "source": [
    "dt = DecisionTreeClassifier(splitter='random', max_depth=10)\n",
    "plt.figure(figsize=(16,9))\n",
    "unswapped_fpr, unswapped_tpr, unswapped_auc = return_roc(dt, x_train_unswapped, y_train_unswapped, x_test, y_test)\n",
    "plt.plot(unswapped_fpr, unswapped_tpr, \"-D\", label='Unswapped', linewidth=2)\n",
    "swapped_fpr, swapped_tpr, swapped_auc = return_roc(dt, x_train_swapped, y_train_swapped, x_test, y_test)\n",
    "plt.plot(swapped_fpr, swapped_tpr, \"-X\", label='Swapped', linewidth=2)\n",
    "print(\"Unswapped AUC =\", unswapped_auc, \"Swapped AUC =\", swapped_auc)\n",
    "plt.xlabel('Flase Positive')\n",
    "plt.ylabel('True Positive')\n",
    "plt.legend(['Unswapped', 'Swapped'])\n",
    "plt.title(\"Logistic Regression\")\n",
    "plt.show()"
   ]
  },
  {
   "cell_type": "code",
   "execution_count": 21,
   "metadata": {},
   "outputs": [
    {
     "data": {
      "image/png": "[encoded data removed]",
      "text/plain": [
       "<Figure size 460.8x403.2 with 2 Axes>"
      ]
     },
     "metadata": {},
     "output_type": "display_data"
    }
   ],
   "source": [
    "dt.fit(x_train_unswapped, y_train_unswapped)\n",
    "plot_confusion_matrix(dt, x_test, y_test)\n",
    "plt.show()"
   ]
  },
  {
   "cell_type": "markdown",
   "metadata": {},
   "source": [
    "### Random Forest"
   ]
  },
  {
   "cell_type": "code",
   "execution_count": 22,
   "metadata": {
    "scrolled": false
   },
   "outputs": [
    {
     "name": "stdout",
     "output_type": "stream",
     "text": [
      "Unswapped AUC = 0.9229797392939387 Swapped AUC = 0.928266818780414\n"
     ]
    },
    {
     "data": {
      "image/png": "[encoded data removed]",
      "text/plain": [
       "<Figure size 1152x648 with 1 Axes>"
      ]
     },
     "metadata": {},
     "output_type": "display_data"
    }
   ],
   "source": [
    "rf = RandomForestClassifier(n_estimators=200, max_depth=5)\n",
    "plt.figure(figsize=(16,9))\n",
    "unswapped_fpr, unswapped_tpr, unswapped_auc = return_roc(rf, x_train_unswapped, y_train_unswapped, x_test, y_test, normalize=False)\n",
    "plt.plot(unswapped_fpr, unswapped_tpr, \"-D\", label='Unswapped', linewidth=2)\n",
    "swapped_fpr, swapped_tpr, swapped_auc = return_roc(rf, x_train_swapped, y_train_swapped, x_test, y_test, normalize=False)\n",
    "plt.plot(swapped_fpr, swapped_tpr, \"-X\", label='Swapped', linewidth=2)\n",
    "print(\"Unswapped AUC =\", unswapped_auc, \"Swapped AUC =\", swapped_auc)\n",
    "plt.xlabel('Flase Positive')\n",
    "plt.ylabel('True Positive')\n",
    "plt.legend(['Unswapped', 'Swapped'])\n",
    "plt.title(\"Random Forest\")\n",
    "plt.show()"
   ]
  },
  {
   "cell_type": "code",
   "execution_count": 23,
   "metadata": {},
   "outputs": [
    {
     "data": {
      "image/png": "[encoded data removed]",
      "text/plain": [
       "<Figure size 460.8x403.2 with 2 Axes>"
      ]
     },
     "metadata": {},
     "output_type": "display_data"
    }
   ],
   "source": [
    "rf.fit(x_train_unswapped, y_train_unswapped)\n",
    "plot_confusion_matrix(rf, x_test, y_test)\n",
    "plt.show()"
   ]
  },
  {
   "cell_type": "markdown",
   "metadata": {},
   "source": [
    "### GaussianNB\n"
   ]
  },
  {
   "cell_type": "code",
   "execution_count": 24,
   "metadata": {},
   "outputs": [
    {
     "name": "stdout",
     "output_type": "stream",
     "text": [
      "Unswapped AUC = 0.8433511503602139 Swapped AUC = 0.8433390375988564\n"
     ]
    },
    {
     "data": {
      "image/png": "[encoded data removed]",
      "text/plain": [
       "<Figure size 1152x648 with 1 Axes>"
      ]
     },
     "metadata": {},
     "output_type": "display_data"
    }
   ],
   "source": [
    "nb = GaussianNB()\n",
    "plt.figure(figsize=(16,9))\n",
    "unswapped_fpr, unswapped_tpr, unswapped_auc = return_roc(nb, x_train_unswapped, y_train_unswapped, x_test, y_test)\n",
    "plt.plot(unswapped_fpr, unswapped_tpr, \"-D\", label='Unswapped', linewidth=2)\n",
    "swapped_fpr, swapped_tpr, swapped_auc = return_roc(nb, x_train_swapped, y_train_swapped, x_test, y_test)\n",
    "plt.plot(swapped_fpr, swapped_tpr, \"-X\", label='Swapped', linewidth=2)\n",
    "print(\"Unswapped AUC =\", unswapped_auc, \"Swapped AUC =\", swapped_auc)\n",
    "plt.xlabel('Flase Positive')\n",
    "plt.ylabel('True Positive')\n",
    "plt.legend(['Unswapped', 'Swapped'])\n",
    "plt.title(\"GaussianNB\")\n",
    "plt.show()"
   ]
  },
  {
   "cell_type": "code",
   "execution_count": 25,
   "metadata": {},
   "outputs": [
    {
     "data": {
      "image/png": "[encoded data removed]",
      "text/plain": [
       "<Figure size 460.8x403.2 with 2 Axes>"
      ]
     },
     "metadata": {},
     "output_type": "display_data"
    }
   ],
   "source": [
    "nb.fit(x_train_unswapped, y_train_unswapped)\n",
    "plot_confusion_matrix(nb, x_test, y_test)\n",
    "plt.show()"
   ]
  },
  {
   "cell_type": "markdown",
   "metadata": {},
   "source": [
    "# Classification"
   ]
  },
  {
   "cell_type": "markdown",
   "metadata": {},
   "source": [
    "## White-box: Decision Tree"
   ]
  },
  {
   "cell_type": "code",
   "execution_count": 26,
   "metadata": {},
   "outputs": [],
   "source": [
    "def k_fold_validation(X, y, model, scoring='precision', k_flod=10):\n",
    "    cv = KFold(n_splits=k_flod, random_state=42, shuffle=True)\n",
    "    scores = cross_validate(model, X, y, scoring=scoring, return_estimator=True, cv=cv, n_jobs=-1)\n",
    "    max_score_index = np.argmax(scores['test_score'])\n",
    "    \n",
    "    return scores['test_score'][max_score_index], scores['estimator'][max_score_index] "
   ]
  },
  {
   "cell_type": "code",
   "execution_count": 27,
   "metadata": {},
   "outputs": [],
   "source": [
    "dt = DecisionTreeClassifier(splitter='random', max_depth=10)\n",
    "dt_max_score, dt_estimator = k_fold_validation(X = x_train_unswapped, y = y_train_unswapped, model=dt)"
   ]
  },
  {
   "cell_type": "code",
   "execution_count": 28,
   "metadata": {},
   "outputs": [
    {
     "data": {
      "image/png": "[encoded data removed]",
      "text/plain": [
       "<Figure size 460.8x403.2 with 2 Axes>"
      ]
     },
     "metadata": {},
     "output_type": "display_data"
    }
   ],
   "source": [
    "plot_confusion_matrix(dt_estimator, x_test, y_test)\n",
    "plt.show()"
   ]
  },
  {
   "cell_type": "markdown",
   "metadata": {},
   "source": [
    "## Black-box: Random Forest"
   ]
  },
  {
   "cell_type": "code",
   "execution_count": 29,
   "metadata": {},
   "outputs": [],
   "source": [
    "rf = RandomForestClassifier(n_estimators=200, max_depth=5)\n",
    "rf_max_score, rf_estimator = k_fold_validation(X = x_train_unswapped, y = y_train_unswapped, model=rf)"
   ]
  },
  {
   "cell_type": "code",
   "execution_count": 30,
   "metadata": {},
   "outputs": [
    {
     "data": {
      "image/png": "[encoded data removed]",
      "text/plain": [
       "<Figure size 460.8x403.2 with 2 Axes>"
      ]
     },
     "metadata": {},
     "output_type": "display_data"
    }
   ],
   "source": [
    "plot_confusion_matrix(rf_estimator, x_test, y_test)\n",
    "plt.show()"
   ]
  }
 ],
 "metadata": {
  "kernelspec": {
   "display_name": "Python 3",
   "language": "python",
   "name": "python3"
  },
  "language_info": {
   "codemirror_mode": {
    "name": "ipython",
    "version": 3
   },
   "file_extension": ".py",
   "mimetype": "text/x-python",
   "name": "python",
   "nbconvert_exporter": "python",
   "pygments_lexer": "ipython3",
   "version": "3.8.5"
  }
 },
 "nbformat": 4,
 "nbformat_minor": 4
}
